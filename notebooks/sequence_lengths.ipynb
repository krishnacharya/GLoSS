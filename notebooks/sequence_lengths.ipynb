{
 "cells": [
  {
   "cell_type": "code",
   "execution_count": 1,
   "metadata": {},
   "outputs": [
    {
     "name": "stderr",
     "output_type": "stream",
     "text": [
      "WARNING:2025-05-18 15:06:31,054:jax._src.xla_bridge:967: An NVIDIA GPU may be present on this machine, but a CUDA-enabled jaxlib is not installed. Falling back to cpu.\n"
     ]
    }
   ],
   "source": [
    "from ranx import Qrels, Run, evaluate\n",
    "import bm25s\n",
    "import Stemmer\n",
    "from datasets import load_from_disk\n",
    "from datasets import Dataset, DatasetDict\n",
    "import numpy as np\n",
    "import json\n",
    "import pandas as pd\n",
    "from collections import defaultdict\n",
    "from typing import List, Dict\n",
    "import random\n",
    "import os\n",
    "from src.utils.project_dirs import get_hfdata_dir\n",
    "from src.utils.project_dirs import processed_data_dir"
   ]
  },
  {
   "cell_type": "code",
   "execution_count": 22,
   "metadata": {},
   "outputs": [],
   "source": [
    "def check_monotonicity(df, column='timestamp', group_by=None):\n",
    "    \"\"\"\n",
    "    Checks if a column is monotonically increasing globally and within groups.\n",
    "\n",
    "    Args:\n",
    "        df (pd.DataFrame): The input DataFrame.\n",
    "        column (str, optional): The column to check for monotonicity. Defaults to 'timestamp'.\n",
    "        group_by (str, optional): The column to group by. If None, checks global monotonicity only.\n",
    "            Defaults to None.\n",
    "\n",
    "    Returns:\n",
    "        dict: A dictionary containing the results:\n",
    "            - 'global_monotonic': True if the column is monotonically increasing globally, False otherwise.\n",
    "            - 'grouped_monotonic': True if the column is monotonically increasing within all groups,\n",
    "              False if it is not monotonically increasing in at least one group, None if no grouping is performed.\n",
    "            - 'first_violating_group': The first group where monotonicity is violated, None if no violation.\n",
    "    \"\"\"\n",
    "    results = {}\n",
    "    results['global_monotonic'] = df[column].is_monotonic_increasing\n",
    "    results['first_violating_group'] = None # Initialize\n",
    "\n",
    "    if group_by:\n",
    "        group_monotonicity = df.groupby(group_by, observed=False)[column].apply(lambda x: x.is_monotonic_increasing)\n",
    "        results['grouped_monotonic'] = group_monotonicity.all()\n",
    "\n",
    "        # Find the first group where monotonicity is violated\n",
    "        violating_groups = group_monotonicity[~group_monotonicity]\n",
    "        if not violating_groups.empty:\n",
    "            results['first_violating_group'] = violating_groups.index[0]  # Get the first violating group\n",
    "        elif results['global_monotonic'] is False:\n",
    "            results['first_violating_group'] = None\n",
    "    else:\n",
    "        results['grouped_monotonic'] = None\n",
    "\n",
    "    return results\n",
    "\n",
    "def find_first_violating_user(df, timestamp_column='timestamp', user_id_column='user_id'):\n",
    "    \"\"\"\n",
    "    Finds the first user ID for which the timestamp column is not monotonically increasing.\n",
    "\n",
    "    Args:\n",
    "        df (pd.DataFrame): The input DataFrame.\n",
    "        timestamp_column (str, optional): The name of the timestamp column. Defaults to 'timestamp'.\n",
    "        user_id_column (str, optional): The name of the user ID column. Defaults to 'user_id'.\n",
    "\n",
    "    Returns:\n",
    "        int or None: The first user ID where the timestamp is not monotonically increasing,\n",
    "                      or None if the timestamp is monotonically increasing for all users.\n",
    "    \"\"\"\n",
    "    monotonicity_check = check_monotonicity(df, column=timestamp_column, group_by=user_id_column)\n",
    "    if not monotonicity_check['grouped_monotonic']:\n",
    "        return monotonicity_check['first_violating_group']\n",
    "    else:\n",
    "        return None"
   ]
  },
  {
   "cell_type": "code",
   "execution_count": 18,
   "metadata": {},
   "outputs": [
    {
     "data": {
      "text/plain": [
       "(1000209, 6)"
      ]
     },
     "metadata": {},
     "output_type": "display_data"
    },
    {
     "data": {
      "text/html": [
       "<div>\n",
       "<style scoped>\n",
       "    .dataframe tbody tr th:only-of-type {\n",
       "        vertical-align: middle;\n",
       "    }\n",
       "\n",
       "    .dataframe tbody tr th {\n",
       "        vertical-align: top;\n",
       "    }\n",
       "\n",
       "    .dataframe thead th {\n",
       "        text-align: right;\n",
       "    }\n",
       "</style>\n",
       "<table border=\"1\" class=\"dataframe\">\n",
       "  <thead>\n",
       "    <tr style=\"text-align: right;\">\n",
       "      <th></th>\n",
       "      <th>user_id</th>\n",
       "      <th>movie_id</th>\n",
       "      <th>rating</th>\n",
       "      <th>timestamp</th>\n",
       "      <th>title</th>\n",
       "      <th>genre</th>\n",
       "    </tr>\n",
       "  </thead>\n",
       "  <tbody>\n",
       "    <tr>\n",
       "      <th>0</th>\n",
       "      <td>1</td>\n",
       "      <td>3186</td>\n",
       "      <td>4</td>\n",
       "      <td>2000-12-31 22:00:19</td>\n",
       "      <td>Girl, Interrupted (1999)</td>\n",
       "      <td>Drama</td>\n",
       "    </tr>\n",
       "    <tr>\n",
       "      <th>1</th>\n",
       "      <td>1</td>\n",
       "      <td>1270</td>\n",
       "      <td>5</td>\n",
       "      <td>2000-12-31 22:00:55</td>\n",
       "      <td>Back to the Future (1985)</td>\n",
       "      <td>Comedy,Sci-Fi</td>\n",
       "    </tr>\n",
       "    <tr>\n",
       "      <th>2</th>\n",
       "      <td>1</td>\n",
       "      <td>1721</td>\n",
       "      <td>4</td>\n",
       "      <td>2000-12-31 22:00:55</td>\n",
       "      <td>Titanic (1997)</td>\n",
       "      <td>Drama,Romance</td>\n",
       "    </tr>\n",
       "    <tr>\n",
       "      <th>3</th>\n",
       "      <td>1</td>\n",
       "      <td>1022</td>\n",
       "      <td>5</td>\n",
       "      <td>2000-12-31 22:00:55</td>\n",
       "      <td>Cinderella (1950)</td>\n",
       "      <td>Animation,Children's,Musical</td>\n",
       "    </tr>\n",
       "    <tr>\n",
       "      <th>4</th>\n",
       "      <td>1</td>\n",
       "      <td>2340</td>\n",
       "      <td>3</td>\n",
       "      <td>2000-12-31 22:01:43</td>\n",
       "      <td>Meet Joe Black (1998)</td>\n",
       "      <td>Romance</td>\n",
       "    </tr>\n",
       "  </tbody>\n",
       "</table>\n",
       "</div>"
      ],
      "text/plain": [
       "   user_id  movie_id  rating           timestamp                      title  \\\n",
       "0        1      3186       4 2000-12-31 22:00:19   Girl, Interrupted (1999)   \n",
       "1        1      1270       5 2000-12-31 22:00:55  Back to the Future (1985)   \n",
       "2        1      1721       4 2000-12-31 22:00:55             Titanic (1997)   \n",
       "3        1      1022       5 2000-12-31 22:00:55          Cinderella (1950)   \n",
       "4        1      2340       3 2000-12-31 22:01:43      Meet Joe Black (1998)   \n",
       "\n",
       "                          genre  \n",
       "0                         Drama  \n",
       "1                 Comedy,Sci-Fi  \n",
       "2                 Drama,Romance  \n",
       "3  Animation,Children's,Musical  \n",
       "4                       Romance  "
      ]
     },
     "metadata": {},
     "output_type": "display_data"
    },
    {
     "name": "stdout",
     "output_type": "stream",
     "text": [
      "user_id               int64\n",
      "movie_id              int64\n",
      "rating                int64\n",
      "timestamp    datetime64[ns]\n",
      "title                object\n",
      "genre                object\n",
      "dtype: object\n"
     ]
    },
    {
     "data": {
      "text/plain": [
       "20"
      ]
     },
     "execution_count": 18,
     "metadata": {},
     "output_type": "execute_result"
    }
   ],
   "source": [
    "dataset_name = 'ml1m'\n",
    "\n",
    "df_ui = pd.read_json(str(processed_data_dir(dataset_name) / 'df_ui.json'), orient='records', lines=True)\n",
    "display(df_ui.shape, df_ui.head())\n",
    "print(df_ui.dtypes)\n",
    "\n",
    "check_monotonicity(df_ui, group_by='user_id')\n",
    "find_first_violating_user(df_ui)\n"
   ]
  },
  {
   "cell_type": "code",
   "execution_count": 19,
   "metadata": {},
   "outputs": [
    {
     "data": {
      "text/plain": [
       "202723   2001-12-29 23:37:51\n",
       "202724   2001-12-29 23:37:51\n",
       "202725   2001-12-29 23:37:51\n",
       "202726   2001-12-29 23:37:51\n",
       "202727   2001-12-29 23:38:35\n",
       "202728   2001-12-29 23:38:35\n",
       "202729   2001-12-29 23:38:36\n",
       "202730   2001-12-29 23:39:41\n",
       "202731   2001-12-29 23:39:41\n",
       "202732   2001-12-29 23:39:41\n",
       "202733   2001-12-29 23:40:27\n",
       "202734   2000-12-30 02:25:06\n",
       "202735   2000-12-30 02:26:21\n",
       "202736   2000-12-30 02:28:26\n",
       "202737   2000-12-30 02:29:04\n",
       "202738   2000-12-30 02:29:15\n",
       "202739   2000-12-30 02:29:29\n",
       "202740   2000-12-30 02:29:29\n",
       "202741   2000-12-30 02:31:48\n",
       "202742   2000-12-30 02:31:48\n",
       "202743   2000-12-30 02:31:48\n",
       "202744   2000-12-30 02:31:48\n",
       "202745   2000-12-30 02:31:48\n",
       "202746   2000-12-30 02:32:56\n",
       "Name: timestamp, dtype: datetime64[ns]"
      ]
     },
     "execution_count": 19,
     "metadata": {},
     "output_type": "execute_result"
    }
   ],
   "source": [
    "df_ui[df_ui['user_id'] == 20]['timestamp']"
   ]
  },
  {
   "cell_type": "code",
   "execution_count": 9,
   "metadata": {},
   "outputs": [
    {
     "data": {
      "text/plain": [
       "(100000, 6)"
      ]
     },
     "metadata": {},
     "output_type": "display_data"
    },
    {
     "data": {
      "text/html": [
       "<div>\n",
       "<style scoped>\n",
       "    .dataframe tbody tr th:only-of-type {\n",
       "        vertical-align: middle;\n",
       "    }\n",
       "\n",
       "    .dataframe tbody tr th {\n",
       "        vertical-align: top;\n",
       "    }\n",
       "\n",
       "    .dataframe thead th {\n",
       "        text-align: right;\n",
       "    }\n",
       "</style>\n",
       "<table border=\"1\" class=\"dataframe\">\n",
       "  <thead>\n",
       "    <tr style=\"text-align: right;\">\n",
       "      <th></th>\n",
       "      <th>user_id</th>\n",
       "      <th>movie_id</th>\n",
       "      <th>rating</th>\n",
       "      <th>timestamp</th>\n",
       "      <th>title</th>\n",
       "      <th>genre</th>\n",
       "    </tr>\n",
       "  </thead>\n",
       "  <tbody>\n",
       "    <tr>\n",
       "      <th>0</th>\n",
       "      <td>1</td>\n",
       "      <td>168</td>\n",
       "      <td>5</td>\n",
       "      <td>1997-09-22 21:57:58</td>\n",
       "      <td>Monty Python and the Holy Grail (1974)</td>\n",
       "      <td>Comedy</td>\n",
       "    </tr>\n",
       "    <tr>\n",
       "      <th>1</th>\n",
       "      <td>1</td>\n",
       "      <td>172</td>\n",
       "      <td>5</td>\n",
       "      <td>1997-09-22 21:57:58</td>\n",
       "      <td>Empire Strikes Back, The (1980)</td>\n",
       "      <td>Action,Adventure,Drama,Romance,Sci-Fi,War</td>\n",
       "    </tr>\n",
       "    <tr>\n",
       "      <th>2</th>\n",
       "      <td>1</td>\n",
       "      <td>165</td>\n",
       "      <td>5</td>\n",
       "      <td>1997-09-22 21:58:38</td>\n",
       "      <td>Jean de Florette (1986)</td>\n",
       "      <td>Drama</td>\n",
       "    </tr>\n",
       "    <tr>\n",
       "      <th>3</th>\n",
       "      <td>1</td>\n",
       "      <td>156</td>\n",
       "      <td>4</td>\n",
       "      <td>1997-09-22 21:59:16</td>\n",
       "      <td>Reservoir Dogs (1992)</td>\n",
       "      <td>Crime,Thriller</td>\n",
       "    </tr>\n",
       "    <tr>\n",
       "      <th>4</th>\n",
       "      <td>1</td>\n",
       "      <td>196</td>\n",
       "      <td>5</td>\n",
       "      <td>1997-09-22 22:01:17</td>\n",
       "      <td>Dead Poets Society (1989)</td>\n",
       "      <td>Drama</td>\n",
       "    </tr>\n",
       "  </tbody>\n",
       "</table>\n",
       "</div>"
      ],
      "text/plain": [
       "   user_id  movie_id  rating           timestamp  \\\n",
       "0        1       168       5 1997-09-22 21:57:58   \n",
       "1        1       172       5 1997-09-22 21:57:58   \n",
       "2        1       165       5 1997-09-22 21:58:38   \n",
       "3        1       156       4 1997-09-22 21:59:16   \n",
       "4        1       196       5 1997-09-22 22:01:17   \n",
       "\n",
       "                                    title  \\\n",
       "0  Monty Python and the Holy Grail (1974)   \n",
       "1         Empire Strikes Back, The (1980)   \n",
       "2                 Jean de Florette (1986)   \n",
       "3                   Reservoir Dogs (1992)   \n",
       "4               Dead Poets Society (1989)   \n",
       "\n",
       "                                       genre  \n",
       "0                                     Comedy  \n",
       "1  Action,Adventure,Drama,Romance,Sci-Fi,War  \n",
       "2                                      Drama  \n",
       "3                             Crime,Thriller  \n",
       "4                                      Drama  "
      ]
     },
     "metadata": {},
     "output_type": "display_data"
    },
    {
     "data": {
      "text/plain": [
       "{'global_monotonic': False,\n",
       " 'first_violating_group': None,\n",
       " 'grouped_monotonic': True}"
      ]
     },
     "execution_count": 9,
     "metadata": {},
     "output_type": "execute_result"
    }
   ],
   "source": [
    "dataset_name = 'ml100k'\n",
    "\n",
    "df_ui = pd.read_json(str(processed_data_dir(dataset_name) / 'df_ui.json'), orient='records', lines=True)\n",
    "display(df_ui.shape, df_ui.head())\n",
    "\n",
    "df_ui.dtypes\n",
    "\n",
    "check_monotonicity(df_ui, group_by='user_id')\n"
   ]
  },
  {
   "cell_type": "code",
   "execution_count": 24,
   "metadata": {},
   "outputs": [
    {
     "data": {
      "text/plain": [
       "(198371, 5)"
      ]
     },
     "metadata": {},
     "output_type": "display_data"
    },
    {
     "data": {
      "text/html": [
       "<div>\n",
       "<style scoped>\n",
       "    .dataframe tbody tr th:only-of-type {\n",
       "        vertical-align: middle;\n",
       "    }\n",
       "\n",
       "    .dataframe tbody tr th {\n",
       "        vertical-align: top;\n",
       "    }\n",
       "\n",
       "    .dataframe thead th {\n",
       "        text-align: right;\n",
       "    }\n",
       "</style>\n",
       "<table border=\"1\" class=\"dataframe\">\n",
       "  <thead>\n",
       "    <tr style=\"text-align: right;\">\n",
       "      <th></th>\n",
       "      <th>reviewerID</th>\n",
       "      <th>asin</th>\n",
       "      <th>unixReviewTime</th>\n",
       "      <th>overall</th>\n",
       "      <th>title</th>\n",
       "    </tr>\n",
       "  </thead>\n",
       "  <tbody>\n",
       "    <tr>\n",
       "      <th>0</th>\n",
       "      <td>A00414041RD0BXM6WK0GX</td>\n",
       "      <td>B007IY97U0</td>\n",
       "      <td>1405296000</td>\n",
       "      <td>3</td>\n",
       "      <td>63cm Long Zipper Beige+pink Wavy Cosplay Hair ...</td>\n",
       "    </tr>\n",
       "    <tr>\n",
       "      <th>1</th>\n",
       "      <td>A00414041RD0BXM6WK0GX</td>\n",
       "      <td>B00870XLDS</td>\n",
       "      <td>1405296000</td>\n",
       "      <td>2</td>\n",
       "      <td>MapofBeauty Long Wave Curly Hair Wig Full Wig ...</td>\n",
       "    </tr>\n",
       "    <tr>\n",
       "      <th>2</th>\n",
       "      <td>A00414041RD0BXM6WK0GX</td>\n",
       "      <td>B008MIRO88</td>\n",
       "      <td>1405296000</td>\n",
       "      <td>1</td>\n",
       "      <td>MapofBeauty Cosplay Costume Long Curly Hair Wi...</td>\n",
       "    </tr>\n",
       "    <tr>\n",
       "      <th>3</th>\n",
       "      <td>A00414041RD0BXM6WK0GX</td>\n",
       "      <td>B00BQYYMN0</td>\n",
       "      <td>1405296000</td>\n",
       "      <td>3</td>\n",
       "      <td>32&amp;quot; 80cm Long Hair Heat Resistant Spiral ...</td>\n",
       "    </tr>\n",
       "    <tr>\n",
       "      <th>4</th>\n",
       "      <td>A00414041RD0BXM6WK0GX</td>\n",
       "      <td>B00GRTQBTM</td>\n",
       "      <td>1405296000</td>\n",
       "      <td>5</td>\n",
       "      <td>MapofBeauty 28&amp;quot; 70cm Long Curly Hair Ends...</td>\n",
       "    </tr>\n",
       "  </tbody>\n",
       "</table>\n",
       "</div>"
      ],
      "text/plain": [
       "              reviewerID        asin  unixReviewTime  overall  \\\n",
       "0  A00414041RD0BXM6WK0GX  B007IY97U0      1405296000        3   \n",
       "1  A00414041RD0BXM6WK0GX  B00870XLDS      1405296000        2   \n",
       "2  A00414041RD0BXM6WK0GX  B008MIRO88      1405296000        1   \n",
       "3  A00414041RD0BXM6WK0GX  B00BQYYMN0      1405296000        3   \n",
       "4  A00414041RD0BXM6WK0GX  B00GRTQBTM      1405296000        5   \n",
       "\n",
       "                                               title  \n",
       "0  63cm Long Zipper Beige+pink Wavy Cosplay Hair ...  \n",
       "1  MapofBeauty Long Wave Curly Hair Wig Full Wig ...  \n",
       "2  MapofBeauty Cosplay Costume Long Curly Hair Wi...  \n",
       "3  32&quot; 80cm Long Hair Heat Resistant Spiral ...  \n",
       "4  MapofBeauty 28&quot; 70cm Long Curly Hair Ends...  "
      ]
     },
     "metadata": {},
     "output_type": "display_data"
    },
    {
     "data": {
      "text/plain": [
       "{'global_monotonic': False,\n",
       " 'first_violating_group': None,\n",
       " 'grouped_monotonic': True}"
      ]
     },
     "execution_count": 24,
     "metadata": {},
     "output_type": "execute_result"
    }
   ],
   "source": [
    "dataset_name = 'beauty'\n",
    "\n",
    "df_ui = pd.read_json(str(processed_data_dir(dataset_name) / 'df_ui.json'), orient='records', lines=True)\n",
    "display(df_ui.shape, df_ui.head())\n",
    "\n",
    "df_ui.dtypes\n",
    "\n",
    "check_monotonicity(df_ui, group_by='reviewerID', column='unixReviewTime')\n"
   ]
  },
  {
   "cell_type": "code",
   "execution_count": 25,
   "metadata": {},
   "outputs": [
    {
     "data": {
      "text/plain": [
       "(166757, 5)"
      ]
     },
     "metadata": {},
     "output_type": "display_data"
    },
    {
     "data": {
      "text/html": [
       "<div>\n",
       "<style scoped>\n",
       "    .dataframe tbody tr th:only-of-type {\n",
       "        vertical-align: middle;\n",
       "    }\n",
       "\n",
       "    .dataframe tbody tr th {\n",
       "        vertical-align: top;\n",
       "    }\n",
       "\n",
       "    .dataframe thead th {\n",
       "        text-align: right;\n",
       "    }\n",
       "</style>\n",
       "<table border=\"1\" class=\"dataframe\">\n",
       "  <thead>\n",
       "    <tr style=\"text-align: right;\">\n",
       "      <th></th>\n",
       "      <th>reviewerID</th>\n",
       "      <th>asin</th>\n",
       "      <th>unixReviewTime</th>\n",
       "      <th>overall</th>\n",
       "      <th>title</th>\n",
       "    </tr>\n",
       "  </thead>\n",
       "  <tbody>\n",
       "    <tr>\n",
       "      <th>0</th>\n",
       "      <td>A012468118FTQAINEI0OQ</td>\n",
       "      <td>B001HA9JOA</td>\n",
       "      <td>1356220800</td>\n",
       "      <td>5</td>\n",
       "      <td>Chutes and Ladders Super Hero Squad</td>\n",
       "    </tr>\n",
       "    <tr>\n",
       "      <th>1</th>\n",
       "      <td>A012468118FTQAINEI0OQ</td>\n",
       "      <td>B00804BCO6</td>\n",
       "      <td>1356220800</td>\n",
       "      <td>5</td>\n",
       "      <td>LeapFrog Letter Factory Phonics</td>\n",
       "    </tr>\n",
       "    <tr>\n",
       "      <th>2</th>\n",
       "      <td>A012468118FTQAINEI0OQ</td>\n",
       "      <td>B00005BZM6</td>\n",
       "      <td>1360108800</td>\n",
       "      <td>5</td>\n",
       "      <td>Crayola Art Smock-</td>\n",
       "    </tr>\n",
       "    <tr>\n",
       "      <th>3</th>\n",
       "      <td>A012468118FTQAINEI0OQ</td>\n",
       "      <td>B002BY2BVE</td>\n",
       "      <td>1360108800</td>\n",
       "      <td>5</td>\n",
       "      <td>Crayola Giant Fingerpaint Paper, (99-3405)</td>\n",
       "    </tr>\n",
       "    <tr>\n",
       "      <th>4</th>\n",
       "      <td>A012468118FTQAINEI0OQ</td>\n",
       "      <td>B003S7EYZY</td>\n",
       "      <td>1360108800</td>\n",
       "      <td>5</td>\n",
       "      <td>Gund Philbin 13&amp;quot; Bear</td>\n",
       "    </tr>\n",
       "  </tbody>\n",
       "</table>\n",
       "</div>"
      ],
      "text/plain": [
       "              reviewerID        asin  unixReviewTime  overall  \\\n",
       "0  A012468118FTQAINEI0OQ  B001HA9JOA      1356220800        5   \n",
       "1  A012468118FTQAINEI0OQ  B00804BCO6      1356220800        5   \n",
       "2  A012468118FTQAINEI0OQ  B00005BZM6      1360108800        5   \n",
       "3  A012468118FTQAINEI0OQ  B002BY2BVE      1360108800        5   \n",
       "4  A012468118FTQAINEI0OQ  B003S7EYZY      1360108800        5   \n",
       "\n",
       "                                        title  \n",
       "0         Chutes and Ladders Super Hero Squad  \n",
       "1             LeapFrog Letter Factory Phonics  \n",
       "2                          Crayola Art Smock-  \n",
       "3  Crayola Giant Fingerpaint Paper, (99-3405)  \n",
       "4                  Gund Philbin 13&quot; Bear  "
      ]
     },
     "metadata": {},
     "output_type": "display_data"
    },
    {
     "data": {
      "text/plain": [
       "{'global_monotonic': False,\n",
       " 'first_violating_group': None,\n",
       " 'grouped_monotonic': True}"
      ]
     },
     "execution_count": 25,
     "metadata": {},
     "output_type": "execute_result"
    }
   ],
   "source": [
    "dataset_name = 'toys'\n",
    "\n",
    "df_ui = pd.read_json(str(processed_data_dir(dataset_name) / 'df_ui.json'), orient='records', lines=True)\n",
    "display(df_ui.shape, df_ui.head())\n",
    "\n",
    "df_ui.dtypes\n",
    "\n",
    "check_monotonicity(df_ui, group_by='reviewerID', column='unixReviewTime')\n"
   ]
  },
  {
   "cell_type": "code",
   "execution_count": 26,
   "metadata": {},
   "outputs": [
    {
     "data": {
      "text/plain": [
       "(295091, 5)"
      ]
     },
     "metadata": {},
     "output_type": "display_data"
    },
    {
     "data": {
      "text/html": [
       "<div>\n",
       "<style scoped>\n",
       "    .dataframe tbody tr th:only-of-type {\n",
       "        vertical-align: middle;\n",
       "    }\n",
       "\n",
       "    .dataframe tbody tr th {\n",
       "        vertical-align: top;\n",
       "    }\n",
       "\n",
       "    .dataframe thead th {\n",
       "        text-align: right;\n",
       "    }\n",
       "</style>\n",
       "<table border=\"1\" class=\"dataframe\">\n",
       "  <thead>\n",
       "    <tr style=\"text-align: right;\">\n",
       "      <th></th>\n",
       "      <th>reviewerID</th>\n",
       "      <th>asin</th>\n",
       "      <th>unixReviewTime</th>\n",
       "      <th>overall</th>\n",
       "      <th>title</th>\n",
       "    </tr>\n",
       "  </thead>\n",
       "  <tbody>\n",
       "    <tr>\n",
       "      <th>0</th>\n",
       "      <td>A00046902LP5YSDV0VVNF</td>\n",
       "      <td>B0010O748Q</td>\n",
       "      <td>1353628800</td>\n",
       "      <td>5</td>\n",
       "      <td>Magnesium Fire Starter</td>\n",
       "    </tr>\n",
       "    <tr>\n",
       "      <th>1</th>\n",
       "      <td>A00046902LP5YSDV0VVNF</td>\n",
       "      <td>B00178CS4K</td>\n",
       "      <td>1353628800</td>\n",
       "      <td>5</td>\n",
       "      <td>Survivor HK-106320 Outdoor Fixed Blade Knife 7...</td>\n",
       "    </tr>\n",
       "    <tr>\n",
       "      <th>2</th>\n",
       "      <td>A00046902LP5YSDV0VVNF</td>\n",
       "      <td>B001THHXA8</td>\n",
       "      <td>1353628800</td>\n",
       "      <td>5</td>\n",
       "      <td>Big Bohica Kukhri Machete</td>\n",
       "    </tr>\n",
       "    <tr>\n",
       "      <th>3</th>\n",
       "      <td>A00046902LP5YSDV0VVNF</td>\n",
       "      <td>B004U8CP88</td>\n",
       "      <td>1353628800</td>\n",
       "      <td>2</td>\n",
       "      <td>Ultralight Backpacking Canister Camp Stove wit...</td>\n",
       "    </tr>\n",
       "    <tr>\n",
       "      <th>4</th>\n",
       "      <td>A00046902LP5YSDV0VVNF</td>\n",
       "      <td>B007BO931U</td>\n",
       "      <td>1353628800</td>\n",
       "      <td>4</td>\n",
       "      <td>Tac Forece TF-710 Series Assisted Opening Fold...</td>\n",
       "    </tr>\n",
       "  </tbody>\n",
       "</table>\n",
       "</div>"
      ],
      "text/plain": [
       "              reviewerID        asin  unixReviewTime  overall  \\\n",
       "0  A00046902LP5YSDV0VVNF  B0010O748Q      1353628800        5   \n",
       "1  A00046902LP5YSDV0VVNF  B00178CS4K      1353628800        5   \n",
       "2  A00046902LP5YSDV0VVNF  B001THHXA8      1353628800        5   \n",
       "3  A00046902LP5YSDV0VVNF  B004U8CP88      1353628800        2   \n",
       "4  A00046902LP5YSDV0VVNF  B007BO931U      1353628800        4   \n",
       "\n",
       "                                               title  \n",
       "0                             Magnesium Fire Starter  \n",
       "1  Survivor HK-106320 Outdoor Fixed Blade Knife 7...  \n",
       "2                          Big Bohica Kukhri Machete  \n",
       "3  Ultralight Backpacking Canister Camp Stove wit...  \n",
       "4  Tac Forece TF-710 Series Assisted Opening Fold...  "
      ]
     },
     "metadata": {},
     "output_type": "display_data"
    },
    {
     "data": {
      "text/plain": [
       "{'global_monotonic': False,\n",
       " 'first_violating_group': None,\n",
       " 'grouped_monotonic': True}"
      ]
     },
     "execution_count": 26,
     "metadata": {},
     "output_type": "execute_result"
    }
   ],
   "source": [
    "dataset_name = 'sports'\n",
    "\n",
    "df_ui = pd.read_json(str(processed_data_dir(dataset_name) / 'df_ui.json'), orient='records', lines=True)\n",
    "display(df_ui.shape, df_ui.head())\n",
    "\n",
    "df_ui.dtypes\n",
    "\n",
    "check_monotonicity(df_ui, group_by='reviewerID', column='unixReviewTime')\n"
   ]
  },
  {
   "cell_type": "code",
   "execution_count": 68,
   "metadata": {},
   "outputs": [
    {
     "name": "stdout",
     "output_type": "stream",
     "text": [
      "mean:  8.870500380092116 std:  8.160898111531392\n",
      "Amazon Beauty 0.3210660465948218 0.09779546572463443\n",
      "mean:  8.289771609967133 std:  6.0523199381244845\n",
      "Amazon Sports 0.32598252661741156 0.09891282973284266\n",
      "mean:  8.593064000824487 std:  8.489432709896912\n",
      "Amazon Toys 0.3452025146861795 0.106925693084613\n"
     ]
    }
   ],
   "source": [
    "\n",
    "\n",
    "def get_seqlen_stats(df, user_col='user_id', item_col='item_id', bottom_percentile=0.1, top_percentile=0.9):\n",
    "    user_seqlen_counts = df[user_col].value_counts() # will count number of times each user has rated any item, could be repeated items\n",
    "    print(\"mean: \", user_seqlen_counts.mean(), \"std: \", user_seqlen_counts.std())\n",
    "    # this actually percentile can be misleading as lots of users can be on the edge of the histogram, so better to manually select seqlen cutoffs\n",
    "    # print(\"bottom_percentile: \", user_seqlen_counts.quantile(bottom_percentile), \"top_percentile: \", user_seqlen_counts.quantile(top_percentile)) \n",
    "    return user_seqlen_counts\n",
    "\n",
    "dataset_name = 'beauty'\n",
    "df_ui = pd.read_json(str(processed_data_dir(dataset_name) / 'df_ui.json'), orient='records', lines=True)\n",
    "usc = get_seqlen_stats(df_ui, user_col =  'reviewerID', item_col = 'asin')\n",
    "low_seqlen = 5\n",
    "high_seqlen = 14\n",
    "print('Amazon Beauty',(usc <= low_seqlen).sum() / len(usc), (usc > high_seqlen).sum() / len(usc))\n",
    "\n",
    "\n",
    "dataset_name = 'sports'\n",
    "df_ui = pd.read_json(str(processed_data_dir(dataset_name) / 'df_ui.json'), orient='records', lines=True)\n",
    "usc = get_seqlen_stats(df_ui, user_col =  'reviewerID', item_col = 'asin')\n",
    "low_seqlen = 5\n",
    "high_seqlen = 13\n",
    "print('Amazon Sports',(usc <= low_seqlen).sum() / len(usc), (usc > high_seqlen).sum() / len(usc))\n",
    "\n",
    "\n",
    "dataset_name = 'toys'\n",
    "df_ui = pd.read_json(str(processed_data_dir(dataset_name) / 'df_ui.json'), orient='records', lines=True)\n",
    "usc = get_seqlen_stats(df_ui, user_col =  'reviewerID', item_col = 'asin')\n",
    "low_seqlen = 5\n",
    "high_seqlen = 13\n",
    "print('Amazon Toys',(usc <= low_seqlen).sum() / len(usc), (usc > high_seqlen).sum() / len(usc))\n"
   ]
  },
  {
   "cell_type": "code",
   "execution_count": 44,
   "metadata": {},
   "outputs": [
    {
     "data": {
      "text/plain": [
       "reviewerID\n",
       "A3OXHLG6DIBRW8    294\n",
       "AN81JUYW2SL24     142\n",
       "AOVTLYTHVDNUX     139\n",
       "A8VI7KMUHI7ZH     115\n",
       "A2XRMQA6PJ5ZJ8    103\n",
       "                 ... \n",
       "AFLEIZY9LOV0N       3\n",
       "AP6DZJX8D1JNB       3\n",
       "A16AMRVH5VLUSX      3\n",
       "AS141ADSV4RQF       3\n",
       "AY9ZBOTKBA30N       3\n",
       "Name: count, Length: 35597, dtype: int64"
      ]
     },
     "execution_count": 44,
     "metadata": {},
     "output_type": "execute_result"
    }
   ],
   "source": [
    "usc"
   ]
  },
  {
   "cell_type": "code",
   "execution_count": 41,
   "metadata": {},
   "outputs": [
    {
     "data": {
      "text/plain": [
       "reviewerID\n",
       "A3OXHLG6DIBRW8    294\n",
       "AN81JUYW2SL24     142\n",
       "AOVTLYTHVDNUX     139\n",
       "A8VI7KMUHI7ZH     115\n",
       "A2XRMQA6PJ5ZJ8    103\n",
       "                 ... \n",
       "AFLEIZY9LOV0N       3\n",
       "AP6DZJX8D1JNB       3\n",
       "A16AMRVH5VLUSX      3\n",
       "AS141ADSV4RQF       3\n",
       "AY9ZBOTKBA30N       3\n",
       "Name: count, Length: 35597, dtype: int64"
      ]
     },
     "execution_count": 41,
     "metadata": {},
     "output_type": "execute_result"
    }
   ],
   "source": [
    "usc"
   ]
  },
  {
   "cell_type": "code",
   "execution_count": null,
   "metadata": {},
   "outputs": [],
   "source": []
  }
 ],
 "metadata": {
  "language_info": {
   "name": "python"
  }
 },
 "nbformat": 4,
 "nbformat_minor": 2
}
