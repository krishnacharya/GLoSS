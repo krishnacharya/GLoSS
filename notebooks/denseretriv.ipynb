{
 "cells": [
  {
   "cell_type": "code",
   "execution_count": 1,
   "metadata": {},
   "outputs": [],
   "source": [
    "import os\n",
    "os.environ[\"CUDA_VISIBLE_DEVICES\"] = \"0\""
   ]
  },
  {
   "cell_type": "code",
   "execution_count": 2,
   "metadata": {},
   "outputs": [
    {
     "name": "stdout",
     "output_type": "stream",
     "text": [
      "0\n",
      "NVIDIA RTX A5000\n"
     ]
    }
   ],
   "source": [
    "import torch\n",
    "print(torch.cuda.current_device())\n",
    "print(torch.cuda.get_device_name(0))"
   ]
  },
  {
   "cell_type": "code",
   "execution_count": 3,
   "metadata": {},
   "outputs": [],
   "source": [
    "from retriv import DenseRetriever\n",
    "import pandas as pd\n",
    "from src.utils.project_dirs import get_gen_dir_dataset, processed_data_dir, get_bm25_indexes_dir,get_minilm_index_dir\n"
   ]
  },
  {
   "cell_type": "code",
   "execution_count": 20,
   "metadata": {},
   "outputs": [],
   "source": [
    "meta_filepath = processed_data_dir(dataset='beauty2014')\n",
    "meta_corpus = pd.read_json(meta_filepath/'meta_corpus.json', orient='records', lines=True)\n",
    "meta_corpus.columns = ['asin', 'Title']\n",
    "asins_compact = meta_corpus[['asin']].copy()\n",
    "asins_compact['nlang'] = \"Title: \" + meta_corpus['Title']\n",
    "asin_dict = asins_compact.set_index('asin')['nlang'].to_dict() # asin to serialized natural language string"
   ]
  },
  {
   "cell_type": "code",
   "execution_count": 5,
   "metadata": {},
   "outputs": [
    {
     "data": {
      "text/plain": [
       "[('7806397051',\n",
       "  'Title: WAWO 15 Color Professionl Makeup Eyeshadow Camouflage Facial Concealer Neutral Palette'),\n",
       " ('9759091062', 'Title: Xtreme Brite Brightening Gel 1oz.'),\n",
       " ('9788072216',\n",
       "  'Title: Prada Candy By Prada Eau De Parfum Spray 1.7 Oz For Women'),\n",
       " ('9790790961',\n",
       "  'Title: Versace Bright Crystal Eau de Toilette Spray for Women, 3 Ounce'),\n",
       " ('9790794231', 'Title: Stella McCartney Stella'),\n",
       " ('B00004TMFE',\n",
       "  'Title: Avalon Biotin B-Complex Thickening Conditioner, 14 Ounce'),\n",
       " ('B00004TUBL', 'Title: Better Living Classic Two Chamber Dispenser, White'),\n",
       " ('B00004TUBV', 'Title: Better Living The Ulti-Mate Dispenser'),\n",
       " ('B00004U9V2',\n",
       "  \"Title: Crabtree &amp; Evelyn - Gardener's Ultra-Moisturising Hand Therapy Pump - 250g/8.8 OZ\"),\n",
       " ('B00004U9UY',\n",
       "  'Title: Crabtree &amp; Evelyn 2792 Gardeners Hand Therapy (100ml, 3.4 oz)')]"
      ]
     },
     "metadata": {},
     "output_type": "display_data"
    }
   ],
   "source": [
    "# print 10 items from asin_dict\n",
    "display(list(asin_dict.items())[:10])\n"
   ]
  },
  {
   "cell_type": "code",
   "execution_count": 9,
   "metadata": {},
   "outputs": [
    {
     "data": {
      "application/vnd.jupyter.widget-view+json": {
       "model_id": "a2966a7d1f7041dda09cb08c6a24aed0",
       "version_major": 2,
       "version_minor": 0
      },
      "text/plain": [
       "tokenizer_config.json:   0%|          | 0.00/350 [00:00<?, ?B/s]"
      ]
     },
     "metadata": {},
     "output_type": "display_data"
    },
    {
     "data": {
      "application/vnd.jupyter.widget-view+json": {
       "model_id": "cb85f966134b4504a7bb502a880d28e9",
       "version_major": 2,
       "version_minor": 0
      },
      "text/plain": [
       "vocab.txt:   0%|          | 0.00/232k [00:00<?, ?B/s]"
      ]
     },
     "metadata": {},
     "output_type": "display_data"
    },
    {
     "data": {
      "application/vnd.jupyter.widget-view+json": {
       "model_id": "c11c7db3849b4ce290a414c5165c11ed",
       "version_major": 2,
       "version_minor": 0
      },
      "text/plain": [
       "tokenizer.json:   0%|          | 0.00/466k [00:00<?, ?B/s]"
      ]
     },
     "metadata": {},
     "output_type": "display_data"
    },
    {
     "data": {
      "application/vnd.jupyter.widget-view+json": {
       "model_id": "284893d1a9d54a5bb5cea22186f25731",
       "version_major": 2,
       "version_minor": 0
      },
      "text/plain": [
       "special_tokens_map.json:   0%|          | 0.00/112 [00:00<?, ?B/s]"
      ]
     },
     "metadata": {},
     "output_type": "display_data"
    }
   ],
   "source": [
    "from transformers import AutoTokenizer\n",
    "tokenizer = AutoTokenizer.from_pretrained('sentence-transformers/all-MiniLM-L6-v2')\n"
   ]
  },
  {
   "cell_type": "code",
   "execution_count": 11,
   "metadata": {},
   "outputs": [
    {
     "name": "stdout",
     "output_type": "stream",
     "text": [
      "Max string length: 239\n"
     ]
    },
    {
     "name": "stdout",
     "output_type": "stream",
     "text": [
      "Max tokenized length: 75\n"
     ]
    },
    {
     "data": {
      "text/plain": [
       "75"
      ]
     },
     "execution_count": 11,
     "metadata": {},
     "output_type": "execute_result"
    }
   ],
   "source": [
    "## max string length\n",
    "max_strlen = 0\n",
    "for k, v in asin_dict.items():\n",
    "    max_strlen = max(len(v), max_strlen)\n",
    "\n",
    "print(f\"Max string length: {max_strlen}\")\n",
    "\n",
    "\n",
    "## max tokenized length\n",
    "max_tokenized_len = 0\n",
    "for k, v in asin_dict.items():\n",
    "    max_tokenized_len = max(len(tokenizer.encode(v)), max_tokenized_len)\n",
    "\n",
    "print(f\"Max tokenized length: {max_tokenized_len}\")\n",
    "\n",
    "max_tokenized_len\n"
   ]
  },
  {
   "cell_type": "code",
   "execution_count": 5,
   "metadata": {},
   "outputs": [],
   "source": [
    "index_dir = get_minilm_index_dir()/'beauty2014'\n",
    "# dr = DenseRetriever(\n",
    "#   index_name=str(index_dir), # this should be the path where you wanna save the index\n",
    "#   model=\"sentence-transformers/all-MiniLM-L6-v2\",\n",
    "#   normalize=True,\n",
    "#   max_length=256,\n",
    "#   use_ann=False,\n",
    "# )"
   ]
  },
  {
   "cell_type": "code",
   "execution_count": 7,
   "metadata": {},
   "outputs": [
    {
     "data": {
      "text/plain": [
       "retriv.dense_retriever.dense_retriever.DenseRetriever"
      ]
     },
     "execution_count": 7,
     "metadata": {},
     "output_type": "execute_result"
    }
   ],
   "source": [
    "type(dr)"
   ]
  },
  {
   "cell_type": "code",
   "execution_count": 8,
   "metadata": {},
   "outputs": [
    {
     "name": "stderr",
     "output_type": "stream",
     "text": [
      "Embedding documents: 100%|██████████| 12094/12094 [00:02<00:00, 5205.80it/s]"
     ]
    },
    {
     "name": "stdout",
     "output_type": "stream",
     "text": [
      "Loading embeddings...\n"
     ]
    },
    {
     "name": "stderr",
     "output_type": "stream",
     "text": [
      "\n"
     ]
    }
   ],
   "source": [
    "dr = dr.index_file(\n",
    "  path=str(meta_filepath/'meta_corpus.jsonl'),\n",
    "  embeddings_path=None,\n",
    "  use_gpu=True,              # Default value\n",
    "  batch_size=128,             # Default value\n",
    "  show_progress=True,         # Default value\n",
    "  callback=lambda doc: {      # Callback defaults to None.\n",
    "    \"id\": doc[\"asin\"],\n",
    "    \"text\": \"Title: \" + doc['title'],          \n",
    "  }\n",
    ")"
   ]
  },
  {
   "cell_type": "code",
   "execution_count": null,
   "metadata": {},
   "outputs": [],
   "source": [
    "dr.save() # saves to name you provided in index_name in the constructor"
   ]
  },
  {
   "cell_type": "code",
   "execution_count": 6,
   "metadata": {},
   "outputs": [],
   "source": [
    "drl = DenseRetriever.load(index_name=str(index_dir))"
   ]
  },
  {
   "cell_type": "code",
   "execution_count": 15,
   "metadata": {},
   "outputs": [
    {
     "data": {
      "text/plain": [
       "{'B00ECUPDYC': 0.66617227,\n",
       " 'B00889VG6W': 0.66324776,\n",
       " 'B00DPVH87Y': 0.6358326,\n",
       " 'B00BSKU6OG': 0.6352354,\n",
       " 'B008HZ5GUY': 0.63364077}"
      ]
     },
     "execution_count": 15,
     "metadata": {},
     "output_type": "execute_result"
    }
   ],
   "source": [
    "drl.search(query=\"hair extension\", return_docs=False, cutoff=5)"
   ]
  },
  {
   "cell_type": "code",
   "execution_count": 18,
   "metadata": {},
   "outputs": [
    {
     "data": {
      "text/plain": [
       "{'q_1': {'B00ECUPDYC': 0.66617227,\n",
       "  'B00889VG6W': 0.66324776,\n",
       "  'B00DPVH87Y': 0.6358326,\n",
       "  'B00BSKU6OG': 0.6352354,\n",
       "  'B008HZ5GUY': 0.63364077},\n",
       " 'q_2': {'B000052YM0': 0.72061837,\n",
       "  'B0080EEMCA': 0.7192248,\n",
       "  'B00016WXEY': 0.71025586,\n",
       "  'B00028OSI0': 0.7067425,\n",
       "  'B0009VNI40': 0.6984346}}"
      ]
     },
     "execution_count": 18,
     "metadata": {},
     "output_type": "execute_result"
    }
   ],
   "source": [
    "queries = [{\"id\": \"q_1\", \"text\": \"hair extension\"}, {\"id\": \"q_2\", \"text\": \"aloe vera\"}]\n",
    "drl.msearch(queries=queries, cutoff=5)"
   ]
  },
  {
   "cell_type": "code",
   "execution_count": 22,
   "metadata": {},
   "outputs": [
    {
     "data": {
      "text/plain": [
       "('Title: NSSTAR Newfangled Fashionable Multicolor Gradually Varied One Piece Straight Synthetic Clip-on Hair Extension 60cm Length,Multiple Choice (Straight, Dark Purple to Rose Red)',\n",
       " 'Title: Fruit Of The Earth 100% Aloe Vera 6oz. Gel Tube')"
      ]
     },
     "execution_count": 22,
     "metadata": {},
     "output_type": "execute_result"
    }
   ],
   "source": [
    "asin_dict['B00ECUPDYC'], asin_dict['B000052YM0']"
   ]
  },
  {
   "cell_type": "code",
   "execution_count": 34,
   "metadata": {},
   "outputs": [
    {
     "data": {
      "text/plain": [
       "{'rid_0': {'B00ECUPDYC': 0.66617227}, 'rid_1': {'B000052YM0': 0.72061837}}"
      ]
     },
     "execution_count": 34,
     "metadata": {},
     "output_type": "execute_result"
    }
   ],
   "source": [
    "'''Batch-Search is similar to Multi-Search but automatically generates batches \n",
    "of queries to evaluate and allows dynamic writing of the search results to disk in JSONl format. \n",
    "bsearch is handy for computing results for hundreds of thousands or even millions of queries without hogging your RAM.'''\n",
    "\n",
    "queries = [{\"id\": \"rid_0\", \"text\": \"hair extension\"}, {\"id\": \"rid_1\", \"text\": \"aloe vera\"}]\n",
    "\n",
    "drl.bsearch(queries=queries,\n",
    "  cutoff=1,\n",
    "  batch_size=2,\n",
    "  show_progress=False,\n",
    "  qrels=None,\n",
    "  path=None,\n",
    ")"
   ]
  },
  {
   "cell_type": "code",
   "execution_count": 37,
   "metadata": {},
   "outputs": [
    {
     "data": {
      "text/plain": [
       "{'rid_0': {'B00ECUPDYC': 0.66617227}, 'rid_1': {'B000052YM0': 0.72061837}}"
      ]
     },
     "execution_count": 37,
     "metadata": {},
     "output_type": "execute_result"
    }
   ],
   "source": [
    "drl.msearch(queries=queries,\n",
    "  cutoff=1\n",
    ")"
   ]
  },
  {
   "cell_type": "code",
   "execution_count": 30,
   "metadata": {},
   "outputs": [
    {
     "data": {
      "text/plain": [
       "('Title: NSSTAR Newfangled Fashionable Multicolor Gradually Varied One Piece Straight Synthetic Clip-on Hair Extension 60cm Length,Multiple Choice (Straight, Dark Purple to Rose Red)',\n",
       " 'Title: Fruit Of The Earth 100% Aloe Vera 6oz. Gel Tube')"
      ]
     },
     "execution_count": 30,
     "metadata": {},
     "output_type": "execute_result"
    }
   ],
   "source": [
    "asin_dict['B00ECUPDYC'], asin_dict['B000052YM0']"
   ]
  }
 ],
 "metadata": {
  "language_info": {
   "name": "python"
  }
 },
 "nbformat": 4,
 "nbformat_minor": 2
}
