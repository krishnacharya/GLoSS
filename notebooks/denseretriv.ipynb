{
 "cells": [
  {
   "cell_type": "code",
   "execution_count": 1,
   "metadata": {},
   "outputs": [],
   "source": [
    "import os\n",
    "os.environ[\"CUDA_VISIBLE_DEVICES\"] = \"0\""
   ]
  },
  {
   "cell_type": "code",
   "execution_count": 2,
   "metadata": {},
   "outputs": [
    {
     "name": "stdout",
     "output_type": "stream",
     "text": [
      "0\n",
      "NVIDIA RTX A5000\n"
     ]
    }
   ],
   "source": [
    "import torch\n",
    "print(torch.cuda.current_device())\n",
    "print(torch.cuda.get_device_name(0))"
   ]
  },
  {
   "cell_type": "code",
   "execution_count": 3,
   "metadata": {},
   "outputs": [],
   "source": [
    "from retriv import DenseRetriever\n",
    "import pandas as pd\n",
    "from src.utils.project_dirs import get_gen_dir_dataset, processed_data_dir, get_bm25_indexes_dir,get_minilm_index_dir\n"
   ]
  },
  {
   "cell_type": "code",
   "execution_count": 20,
   "metadata": {},
   "outputs": [],
   "source": [
    "meta_filepath = processed_data_dir(dataset='beauty2014')\n",
    "meta_corpus = pd.read_json(meta_filepath/'meta_corpus.json', orient='records', lines=True)\n",
    "meta_corpus.columns = ['asin', 'Title']\n",
    "asins_compact = meta_corpus[['asin']].copy()\n",
    "asins_compact['nlang'] = \"Title: \" + meta_corpus['Title']\n",
    "asin_dict = asins_compact.set_index('asin')['nlang'].to_dict() # asin to serialized natural language string"
   ]
  },
  {
   "cell_type": "code",
   "execution_count": 5,
   "metadata": {},
   "outputs": [
    {
     "data": {
      "text/plain": [
       "[('7806397051',\n",
       "  'Title: WAWO 15 Color Professionl Makeup Eyeshadow Camouflage Facial Concealer Neutral Palette'),\n",
       " ('9759091062', 'Title: Xtreme Brite Brightening Gel 1oz.'),\n",
       " ('9788072216',\n",
       "  'Title: Prada Candy By Prada Eau De Parfum Spray 1.7 Oz For Women'),\n",
       " ('9790790961',\n",
       "  'Title: Versace Bright Crystal Eau de Toilette Spray for Women, 3 Ounce'),\n",
       " ('9790794231', 'Title: Stella McCartney Stella'),\n",
       " ('B00004TMFE',\n",
       "  'Title: Avalon Biotin B-Complex Thickening Conditioner, 14 Ounce'),\n",
       " ('B00004TUBL', 'Title: Better Living Classic Two Chamber Dispenser, White'),\n",
       " ('B00004TUBV', 'Title: Better Living The Ulti-Mate Dispenser'),\n",
       " ('B00004U9V2',\n",
       "  \"Title: Crabtree &amp; Evelyn - Gardener's Ultra-Moisturising Hand Therapy Pump - 250g/8.8 OZ\"),\n",
       " ('B00004U9UY',\n",
       "  'Title: Crabtree &amp; Evelyn 2792 Gardeners Hand Therapy (100ml, 3.4 oz)')]"
      ]
     },
     "metadata": {},
     "output_type": "display_data"
    }
   ],
   "source": [
    "# print 10 items from asin_dict\n",
    "display(list(asin_dict.items())[:10])\n"
   ]
  },
  {
   "cell_type": "code",
   "execution_count": 9,
   "metadata": {},
   "outputs": [
    {
     "data": {
      "application/vnd.jupyter.widget-view+json": {
       "model_id": "a2966a7d1f7041dda09cb08c6a24aed0",
       "version_major": 2,
       "version_minor": 0
      },
      "text/plain": [
       "tokenizer_config.json:   0%|          | 0.00/350 [00:00<?, ?B/s]"
      ]
     },
     "metadata": {},
     "output_type": "display_data"
    },
    {
     "data": {
      "application/vnd.jupyter.widget-view+json": {
       "model_id": "cb85f966134b4504a7bb502a880d28e9",
       "version_major": 2,
       "version_minor": 0
      },
      "text/plain": [
       "vocab.txt:   0%|          | 0.00/232k [00:00<?, ?B/s]"
      ]
     },
     "metadata": {},
     "output_type": "display_data"
    },
    {
     "data": {
      "application/vnd.jupyter.widget-view+json": {
       "model_id": "c11c7db3849b4ce290a414c5165c11ed",
       "version_major": 2,
       "version_minor": 0
      },
      "text/plain": [
       "tokenizer.json:   0%|          | 0.00/466k [00:00<?, ?B/s]"
      ]
     },
     "metadata": {},
     "output_type": "display_data"
    },
    {
     "data": {
      "application/vnd.jupyter.widget-view+json": {
       "model_id": "284893d1a9d54a5bb5cea22186f25731",
       "version_major": 2,
       "version_minor": 0
      },
      "text/plain": [
       "special_tokens_map.json:   0%|          | 0.00/112 [00:00<?, ?B/s]"
      ]
     },
     "metadata": {},
     "output_type": "display_data"
    }
   ],
   "source": [
    "from transformers import AutoTokenizer\n",
    "tokenizer = AutoTokenizer.from_pretrained('sentence-transformers/all-MiniLM-L6-v2')\n"
   ]
  },
  {
   "cell_type": "code",
   "execution_count": 11,
   "metadata": {},
   "outputs": [
    {
     "name": "stdout",
     "output_type": "stream",
     "text": [
      "Max string length: 239\n"
     ]
    },
    {
     "name": "stdout",
     "output_type": "stream",
     "text": [
      "Max tokenized length: 75\n"
     ]
    },
    {
     "data": {
      "text/plain": [
       "75"
      ]
     },
     "execution_count": 11,
     "metadata": {},
     "output_type": "execute_result"
    }
   ],
   "source": [
    "## max string length\n",
    "max_strlen = 0\n",
    "for k, v in asin_dict.items():\n",
    "    max_strlen = max(len(v), max_strlen)\n",
    "\n",
    "print(f\"Max string length: {max_strlen}\")\n",
    "\n",
    "\n",
    "## max tokenized length\n",
    "max_tokenized_len = 0\n",
    "for k, v in asin_dict.items():\n",
    "    max_tokenized_len = max(len(tokenizer.encode(v)), max_tokenized_len)\n",
    "\n",
    "print(f\"Max tokenized length: {max_tokenized_len}\")\n",
    "\n",
    "max_tokenized_len\n"
   ]
  },
  {
   "cell_type": "code",
   "execution_count": 5,
   "metadata": {},
   "outputs": [],
   "source": [
    "index_dir = get_minilm_index_dir()/'beauty2014'\n",
    "# dr = DenseRetriever(\n",
    "#   index_name=str(index_dir), # this should be the path where you wanna save the index\n",
    "#   model=\"sentence-transformers/all-MiniLM-L6-v2\",\n",
    "#   normalize=True,\n",
    "#   max_length=256,\n",
    "#   use_ann=False,\n",
    "# )"
   ]
  },
  {
   "cell_type": "code",
   "execution_count": 7,
   "metadata": {},
   "outputs": [
    {
     "data": {
      "text/plain": [
       "retriv.dense_retriever.dense_retriever.DenseRetriever"
      ]
     },
     "execution_count": 7,
     "metadata": {},
     "output_type": "execute_result"
    }
   ],
   "source": [
    "type(dr)"
   ]
  },
  {
   "cell_type": "code",
   "execution_count": 8,
   "metadata": {},
   "outputs": [
    {
     "name": "stderr",
     "output_type": "stream",
     "text": [
      "Embedding documents: 100%|██████████| 12094/12094 [00:02<00:00, 5205.80it/s]"
     ]
    },
    {
     "name": "stdout",
     "output_type": "stream",
     "text": [
      "Loading embeddings...\n"
     ]
    },
    {
     "name": "stderr",
     "output_type": "stream",
     "text": [
      "\n"
     ]
    }
   ],
   "source": [
    "dr = dr.index_file(\n",
    "  path=str(meta_filepath/'meta_corpus.jsonl'),\n",
    "  embeddings_path=None,\n",
    "  use_gpu=True,              # Default value\n",
    "  batch_size=128,             # Default value\n",
    "  show_progress=True,         # Default value\n",
    "  callback=lambda doc: {      # Callback defaults to None.\n",
    "    \"id\": doc[\"asin\"],\n",
    "    \"text\": \"Title: \" + doc['title'],          \n",
    "  }\n",
    ")"
   ]
  },
  {
   "cell_type": "code",
   "execution_count": null,
   "metadata": {},
   "outputs": [],
   "source": [
    "dr.save() # saves to name you provided in index_name in the constructor"
   ]
  },
  {
   "cell_type": "code",
   "execution_count": 6,
   "metadata": {},
   "outputs": [],
   "source": [
    "drl = DenseRetriever.load(index_name=str(index_dir))"
   ]
  },
  {
   "cell_type": "code",
   "execution_count": 15,
   "metadata": {},
   "outputs": [
    {
     "data": {
      "text/plain": [
       "{'B00ECUPDYC': 0.66617227,\n",
       " 'B00889VG6W': 0.66324776,\n",
       " 'B00DPVH87Y': 0.6358326,\n",
       " 'B00BSKU6OG': 0.6352354,\n",
       " 'B008HZ5GUY': 0.63364077}"
      ]
     },
     "execution_count": 15,
     "metadata": {},
     "output_type": "execute_result"
    }
   ],
   "source": [
    "drl.search(query=\"hair extension\", return_docs=False, cutoff=5)"
   ]
  },
  {
   "cell_type": "code",
   "execution_count": 18,
   "metadata": {},
   "outputs": [
    {
     "data": {
      "text/plain": [
       "{'q_1': {'B00ECUPDYC': 0.66617227,\n",
       "  'B00889VG6W': 0.66324776,\n",
       "  'B00DPVH87Y': 0.6358326,\n",
       "  'B00BSKU6OG': 0.6352354,\n",
       "  'B008HZ5GUY': 0.63364077},\n",
       " 'q_2': {'B000052YM0': 0.72061837,\n",
       "  'B0080EEMCA': 0.7192248,\n",
       "  'B00016WXEY': 0.71025586,\n",
       "  'B00028OSI0': 0.7067425,\n",
       "  'B0009VNI40': 0.6984346}}"
      ]
     },
     "execution_count": 18,
     "metadata": {},
     "output_type": "execute_result"
    }
   ],
   "source": [
    "queries = [{\"id\": \"q_1\", \"text\": \"hair extension\"}, {\"id\": \"q_2\", \"text\": \"aloe vera\"}]\n",
    "drl.msearch(queries=queries, cutoff=5)"
   ]
  },
  {
   "cell_type": "code",
   "execution_count": 22,
   "metadata": {},
   "outputs": [
    {
     "data": {
      "text/plain": [
       "('Title: NSSTAR Newfangled Fashionable Multicolor Gradually Varied One Piece Straight Synthetic Clip-on Hair Extension 60cm Length,Multiple Choice (Straight, Dark Purple to Rose Red)',\n",
       " 'Title: Fruit Of The Earth 100% Aloe Vera 6oz. Gel Tube')"
      ]
     },
     "execution_count": 22,
     "metadata": {},
     "output_type": "execute_result"
    }
   ],
   "source": [
    "asin_dict['B00ECUPDYC'], asin_dict['B000052YM0']"
   ]
  },
  {
   "cell_type": "code",
   "execution_count": 34,
   "metadata": {},
   "outputs": [
    {
     "data": {
      "text/plain": [
       "{'rid_0': {'B00ECUPDYC': 0.66617227}, 'rid_1': {'B000052YM0': 0.72061837}}"
      ]
     },
     "execution_count": 34,
     "metadata": {},
     "output_type": "execute_result"
    }
   ],
   "source": [
    "'''Batch-Search is similar to Multi-Search but automatically generates batches \n",
    "of queries to evaluate and allows dynamic writing of the search results to disk in JSONl format. \n",
    "bsearch is handy for computing results for hundreds of thousands or even millions of queries without hogging your RAM.'''\n",
    "\n",
    "queries = [{\"id\": \"rid_0\", \"text\": \"hair extension\"}, {\"id\": \"rid_1\", \"text\": \"aloe vera\"}]\n",
    "\n",
    "drl.bsearch(queries=queries,\n",
    "  cutoff=1,\n",
    "  batch_size=2,\n",
    "  show_progress=False,\n",
    "  qrels=None,\n",
    "  path=None,\n",
    ")"
   ]
  },
  {
   "cell_type": "code",
   "execution_count": 37,
   "metadata": {},
   "outputs": [
    {
     "data": {
      "text/plain": [
       "{'rid_0': {'B00ECUPDYC': 0.66617227}, 'rid_1': {'B000052YM0': 0.72061837}}"
      ]
     },
     "execution_count": 37,
     "metadata": {},
     "output_type": "execute_result"
    }
   ],
   "source": [
    "drl.msearch(queries=queries,\n",
    "  cutoff=1\n",
    ")"
   ]
  },
  {
   "cell_type": "code",
   "execution_count": 30,
   "metadata": {},
   "outputs": [
    {
     "data": {
      "text/plain": [
       "('Title: NSSTAR Newfangled Fashionable Multicolor Gradually Varied One Piece Straight Synthetic Clip-on Hair Extension 60cm Length,Multiple Choice (Straight, Dark Purple to Rose Red)',\n",
       " 'Title: Fruit Of The Earth 100% Aloe Vera 6oz. Gel Tube')"
      ]
     },
     "execution_count": 30,
     "metadata": {},
     "output_type": "execute_result"
    }
   ],
   "source": [
    "asin_dict['B00ECUPDYC'], asin_dict['B000052YM0']"
   ]
  },
  {
   "cell_type": "code",
   "execution_count": 22,
   "metadata": {},
   "outputs": [
    {
     "name": "stdout",
     "output_type": "stream",
     "text": [
      "| Model Configuration   | Retriever Type   |   Beauty_Recall@5 |   Beauty_NDCG@5 |   Toys_Recall@5 |   Toys_NDCG@5 |   Sports_Recall@5 |   Sports_NDCG@5 |\n",
      "|:----------------------|:-----------------|------------------:|----------------:|----------------:|--------------:|------------------:|----------------:|\n",
      "| 1B                    | BM25             |            0.0453 |          0.0269 |          0.0666 |        0.0401 |            0.0221 |          0.0133 |\n",
      "| 1B                    | e5-small-v2      |            0.0456 |          0.0297 |          0.0677 |        0.0441 |            0.0226 |          0.0145 |\n",
      "| 1B                    | e5-base-v2       |            0.0458 |          0.0295 |          0.0675 |        0.0443 |            0.0228 |          0.0139 |\n",
      "| 3B                    | BM25             |            0.0652 |          0.04   |          0.072  |        0.0436 |            0.0288 |          0.0178 |\n",
      "| 3B                    | e5-small-v2      |            0.0653 |          0.0423 |          0.0728 |        0.0478 |            0.0294 |          0.0188 |\n",
      "| 3B                    | e5-base-v2       |            0.0652 |          0.0425 |          0.0728 |        0.0474 |            0.0295 |          0.0182 |\n",
      "| 8B                    | BM25             |            0.0681 |          0.0423 |          0.0784 |        0.0472 |            0.0359 |          0.0218 |\n",
      "| 8B                    | e5-small-v2      |            0.0681 |          0.0442 |          0.0796 |        0.0529 |            0.0364 |          0.0238 |\n",
      "| 8B                    | e5-base-v2       |            0.0683 |          0.0435 |          0.079  |        0.0526 |            0.0365 |          0.0228 |\n"
     ]
    }
   ],
   "source": [
    "import pandas as pd\n",
    "\n",
    "data = {\n",
    "    'Model Configuration': ['1B', '1B', '1B', '3B', '3B', '3B', '8B', '8B', '8B'],\n",
    "    'Retriever Type': ['BM25', 'e5-small-v2', 'e5-base-v2', 'BM25', 'e5-small-v2', 'e5-base-v2', 'BM25', 'e5-small-v2', 'e5-base-v2'],\n",
    "    'Beauty_Recall@5': [0.0453, 0.0456, 0.0458, 0.0652, 0.0653, 0.0652, 0.0681, 0.0681, 0.0683],\n",
    "    'Beauty_NDCG@5': [0.0269, 0.0297, 0.0295, 0.0400, 0.0423, 0.0425, 0.0423, 0.0442, 0.0435],\n",
    "    'Toys_Recall@5': [0.0666, 0.0677, 0.0675, 0.0720, 0.0728, 0.0728, 0.0784, 0.0796, 0.0790],\n",
    "    'Toys_NDCG@5': [0.0401, 0.0441, 0.0443, 0.0436, 0.0478, 0.0474, 0.0472, 0.0529, 0.0526],\n",
    "    'Sports_Recall@5': [0.0221, 0.0226, 0.0228, 0.0288, 0.0294, 0.0295, 0.0359, 0.0364, 0.0365],\n",
    "    'Sports_NDCG@5': [0.0133, 0.0145, 0.0139, 0.0178, 0.0188, 0.0182, 0.0218, 0.0238, 0.0228]\n",
    "}\n",
    "\n",
    "df_original = pd.DataFrame(data)\n",
    "\n",
    "# Display the DataFrame\n",
    "print(df_original.to_markdown(index=False))"
   ]
  },
  {
   "cell_type": "code",
   "execution_count": 25,
   "metadata": {},
   "outputs": [],
   "source": [
    "numeric_cols = ['Beauty_Recall@5', 'Beauty_NDCG@5', 'Toys_Recall@5', 'Toys_NDCG@5', 'Sports_Recall@5', 'Sports_NDCG@5']\n",
    "valbm = df_original[df_original['Retriever Type'] == 'BM25'][numeric_cols].to_numpy()\n",
    "vale5s = df_original[df_original['Retriever Type'] == 'e5-small-v2'][numeric_cols].to_numpy()\n",
    "vale5b = df_original[df_original['Retriever Type'] == 'e5-base-v2'][numeric_cols].to_numpy()\n"
   ]
  },
  {
   "cell_type": "code",
   "execution_count": 29,
   "metadata": {},
   "outputs": [
    {
     "data": {
      "text/plain": [
       "array([[ 0.66225166, 10.40892193,  1.65165165,  9.97506234,  2.26244344,\n",
       "         9.02255639],\n",
       "       [ 0.15337423,  5.75      ,  1.11111111,  9.63302752,  2.08333333,\n",
       "         5.61797753],\n",
       "       [ 0.        ,  4.49172577,  1.53061224, 12.07627119,  1.39275766,\n",
       "         9.17431193]])"
      ]
     },
     "metadata": {},
     "output_type": "display_data"
    },
    {
     "data": {
      "text/plain": [
       "array([[ 1.10375276,  9.66542751,  1.35135135, 10.47381546,  3.16742081,\n",
       "         4.5112782 ],\n",
       "       [ 0.        ,  6.25      ,  1.11111111,  8.71559633,  2.43055556,\n",
       "         2.24719101],\n",
       "       [ 0.29368576,  2.83687943,  0.76530612, 11.44067797,  1.67130919,\n",
       "         4.58715596]])"
      ]
     },
     "metadata": {},
     "output_type": "display_data"
    }
   ],
   "source": [
    "\n",
    "display(100 * (vale5s - valbm) / valbm)\n",
    "\n",
    "display(100 * (vale5b - valbm) / valbm)\n",
    "\n",
    "\n",
    "\n",
    "\n",
    "\n"
   ]
  },
  {
   "cell_type": "code",
   "execution_count": null,
   "metadata": {},
   "outputs": [],
   "source": []
  }
 ],
 "metadata": {
  "language_info": {
   "name": "python"
  }
 },
 "nbformat": 4,
 "nbformat_minor": 2
}
