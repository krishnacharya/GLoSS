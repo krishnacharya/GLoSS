{
 "cells": [
  {
   "cell_type": "code",
   "execution_count": 2,
   "metadata": {},
   "outputs": [],
   "source": [
    "from ranx import Qrels, Run, evaluate\n",
    "import bm25s\n",
    "import Stemmer\n",
    "from datasets import load_from_disk\n",
    "from datasets import Dataset, DatasetDict\n",
    "import numpy as np\n",
    "import json\n",
    "import pandas as pd\n",
    "from collections import defaultdict\n",
    "from typing import List, Dict\n",
    "import random\n",
    "import os\n",
    "from src.utils.project_dirs import get_hfdata_dir"
   ]
  },
  {
   "cell_type": "code",
   "execution_count": 4,
   "metadata": {},
   "outputs": [
    {
     "data": {
      "text/plain": [
       "DatasetDict({\n",
       "    train: Dataset({\n",
       "        features: ['reviewer_id', 'text'],\n",
       "        num_rows: 10970\n",
       "    })\n",
       "    validation: Dataset({\n",
       "        features: ['reviewer_id', 'ptext', 'text', 'seen_asins', 'asin', 'asin_text'],\n",
       "        num_rows: 512\n",
       "    })\n",
       "    test: Dataset({\n",
       "        features: ['reviewer_id', 'ptext', 'text', 'seen_asins', 'asin', 'asin_text'],\n",
       "        num_rows: 10970\n",
       "    })\n",
       "})"
      ]
     },
     "metadata": {},
     "output_type": "display_data"
    }
   ],
   "source": [
    "dataset_name = \"Amzn_scientific_2018\"\n",
    "dataset_dict = load_from_disk(os.path.join(get_hfdata_dir(), dataset_name))\n",
    "display(dataset_dict)"
   ]
  },
  {
   "cell_type": "code",
   "execution_count": 6,
   "metadata": {},
   "outputs": [
    {
     "data": {
      "text/plain": [
       "DatasetDict({\n",
       "    train: Dataset({\n",
       "        features: ['reviewer_id', 'text'],\n",
       "        num_rows: 35597\n",
       "    })\n",
       "    validation: Dataset({\n",
       "        features: ['reviewer_id', 'ptext', 'text', 'seen_asins', 'asin', 'asin_text'],\n",
       "        num_rows: 1779\n",
       "    })\n",
       "    test: Dataset({\n",
       "        features: ['reviewer_id', 'ptext', 'text', 'seen_asins', 'asin', 'asin_text'],\n",
       "        num_rows: 35597\n",
       "    })\n",
       "})"
      ]
     },
     "metadata": {},
     "output_type": "display_data"
    }
   ],
   "source": [
    "dataset_name = \"sports\"\n",
    "dataset_dict = load_from_disk(os.path.join(get_hfdata_dir(), dataset_name))\n",
    "display(dataset_dict)"
   ]
  },
  {
   "cell_type": "code",
   "execution_count": 7,
   "metadata": {},
   "outputs": [
    {
     "data": {
      "text/plain": [
       "DatasetDict({\n",
       "    train: Dataset({\n",
       "        features: ['reviewer_id', 'text'],\n",
       "        num_rows: 22363\n",
       "    })\n",
       "    validation: Dataset({\n",
       "        features: ['reviewer_id', 'ptext', 'text', 'seen_asins', 'asin', 'asin_text'],\n",
       "        num_rows: 1118\n",
       "    })\n",
       "    test: Dataset({\n",
       "        features: ['reviewer_id', 'ptext', 'text', 'seen_asins', 'asin', 'asin_text'],\n",
       "        num_rows: 22363\n",
       "    })\n",
       "})"
      ]
     },
     "metadata": {},
     "output_type": "display_data"
    }
   ],
   "source": [
    "dataset_name = \"beauty\"\n",
    "dataset_dict = load_from_disk(os.path.join(get_hfdata_dir(), dataset_name))\n",
    "display(dataset_dict)"
   ]
  },
  {
   "cell_type": "code",
   "execution_count": 8,
   "metadata": {},
   "outputs": [
    {
     "data": {
      "text/plain": [
       "DatasetDict({\n",
       "    train: Dataset({\n",
       "        features: ['reviewer_id', 'text'],\n",
       "        num_rows: 19395\n",
       "    })\n",
       "    validation: Dataset({\n",
       "        features: ['reviewer_id', 'ptext', 'text', 'seen_asins', 'asin', 'asin_text'],\n",
       "        num_rows: 969\n",
       "    })\n",
       "    test: Dataset({\n",
       "        features: ['reviewer_id', 'ptext', 'text', 'seen_asins', 'asin', 'asin_text'],\n",
       "        num_rows: 19395\n",
       "    })\n",
       "})"
      ]
     },
     "metadata": {},
     "output_type": "display_data"
    }
   ],
   "source": [
    "dataset_name = \"toys\"\n",
    "dataset_dict = load_from_disk(os.path.join(get_hfdata_dir(), dataset_name))\n",
    "display(dataset_dict)"
   ]
  },
  {
   "cell_type": "code",
   "execution_count": 2,
   "metadata": {},
   "outputs": [
    {
     "data": {
      "text/plain": [
       "DatasetDict({\n",
       "    train: Dataset({\n",
       "        features: ['reviewer_id', 'text'],\n",
       "        num_rows: 22363\n",
       "    })\n",
       "    validation: Dataset({\n",
       "        features: ['reviewer_id', 'ptext', 'text', 'seen_asins', 'asin', 'asin_text'],\n",
       "        num_rows: 1118\n",
       "    })\n",
       "    test: Dataset({\n",
       "        features: ['reviewer_id', 'ptext', 'text', 'seen_asins', 'asin', 'asin_text'],\n",
       "        num_rows: 22363\n",
       "    })\n",
       "})"
      ]
     },
     "metadata": {},
     "output_type": "display_data"
    }
   ],
   "source": [
    "dataset_name = \"beauty2014\"\n",
    "dataset_dict = load_from_disk(os.path.join(get_hfdata_dir(), dataset_name))\n",
    "display(dataset_dict)"
   ]
  },
  {
   "cell_type": "code",
   "execution_count": 2,
   "metadata": {},
   "outputs": [
    {
     "data": {
      "text/plain": [
       "DatasetDict({\n",
       "    train: Dataset({\n",
       "        features: ['reviewer_id', 'text'],\n",
       "        num_rows: 19395\n",
       "    })\n",
       "    validation: Dataset({\n",
       "        features: ['reviewer_id', 'ptext', 'text', 'seen_asins', 'asin', 'asin_text'],\n",
       "        num_rows: 969\n",
       "    })\n",
       "    test: Dataset({\n",
       "        features: ['reviewer_id', 'ptext', 'text', 'seen_asins', 'asin', 'asin_text'],\n",
       "        num_rows: 19395\n",
       "    })\n",
       "})"
      ]
     },
     "metadata": {},
     "output_type": "display_data"
    }
   ],
   "source": [
    "dataset_name = \"toys\"\n",
    "dataset_dict = load_from_disk(os.path.join(get_hfdata_dir(), dataset_name))\n",
    "display(dataset_dict)"
   ]
  },
  {
   "cell_type": "code",
   "execution_count": 10,
   "metadata": {},
   "outputs": [
    {
     "data": {
      "text/plain": [
       "DatasetDict({\n",
       "    train: Dataset({\n",
       "        features: ['reviewer_id', 'text'],\n",
       "        num_rows: 35597\n",
       "    })\n",
       "    validation: Dataset({\n",
       "        features: ['reviewer_id', 'ptext', 'text', 'seen_asins', 'asin', 'asin_text'],\n",
       "        num_rows: 1779\n",
       "    })\n",
       "    test: Dataset({\n",
       "        features: ['reviewer_id', 'ptext', 'text', 'seen_asins', 'asin', 'asin_text'],\n",
       "        num_rows: 35597\n",
       "    })\n",
       "})"
      ]
     },
     "metadata": {},
     "output_type": "display_data"
    }
   ],
   "source": [
    "dataset_name = \"sports\"\n",
    "dataset_dict = load_from_disk(os.path.join(get_hfdata_dir(), dataset_name))\n",
    "display(dataset_dict)"
   ]
  },
  {
   "cell_type": "code",
   "execution_count": 8,
   "metadata": {},
   "outputs": [
    {
     "name": "stdout",
     "output_type": "stream",
     "text": [
      "Below is a customer's purchase history on Amazon, listed in chronological order (earliest to latest). \n",
      "Each item is represented by the following format: Title: <item title> \n",
      "Based on this history, predict **only one** item the customer is most likely to purchase next in the same format.\n",
      "\n",
      "### Purchase history:\n",
      "Title: Vintage Pink Party Dress fits 18&quot; American Girl Dolls\n",
      "Title: Cherry Dreams 18&quot; Dolls Pj and Slippers Fits American Girl\n",
      "Title: Light Pink Glitter Shoes, Fits 18&quot; American Girl Dolls, Doll Accessories\n",
      "Title: Lincoln Logs Classic Edition Tin\n",
      "\n",
      "### Next item:\n",
      "Title: Toysmith Kids Wooden Train Toy Whistle - Play Conductor Thomas\n"
     ]
    }
   ],
   "source": [
    "print(dataset_dict['train']['text'][2])"
   ]
  },
  {
   "cell_type": "code",
   "execution_count": 9,
   "metadata": {},
   "outputs": [
    {
     "name": "stdout",
     "output_type": "stream",
     "text": [
      "Below is a customer's purchase history on Amazon, listed in chronological order (earliest to latest). \n",
      "Each item is represented by the following format: Title: <item title> \n",
      "Based on this history, predict **only one** item the customer is most likely to purchase next in the same format.\n",
      "\n",
      "### Purchase history:\n",
      "Title: Vintage Pink Party Dress fits 18&quot; American Girl Dolls\n",
      "Title: Cherry Dreams 18&quot; Dolls Pj and Slippers Fits American Girl\n",
      "Title: Light Pink Glitter Shoes, Fits 18&quot; American Girl Dolls, Doll Accessories\n",
      "Title: Lincoln Logs Classic Edition Tin\n",
      "Title: Toysmith Kids Wooden Train Toy Whistle - Play Conductor Thomas\n",
      "\n",
      "### Next item:\n",
      "\n"
     ]
    }
   ],
   "source": [
    "print(dataset_dict['test']['ptext'][2])"
   ]
  },
  {
   "cell_type": "code",
   "execution_count": null,
   "metadata": {},
   "outputs": [
    {
     "name": "stdout",
     "output_type": "stream",
     "text": [
      "Below is a customer's purchase history on Amazon, listed in chronological order (earliest to latest). \n",
      "Each item is represented by the following format: Title: <item title> \n",
      "Based on this history, predict **only one** item the customer is most likely to purchase next in the same format.\n",
      "\n",
      "### Purchase history:\n",
      "Title: Chutes and Ladders Super Hero Squad\n",
      "Title: LeapFrog Letter Factory Phonics\n",
      "Title: Crayola Art Smock-\n",
      "Title: Crayola Giant Fingerpaint Paper, (99-3405)\n",
      "Title: Gund Philbin 13&quot; Bear\n",
      "\n",
      "### Next item:\n",
      "Title: LeapFrog LeapPad2 Gel Skin - Blue(Works with LeapPad2 or LeapPad1)\n"
     ]
    }
   ],
   "source": [
    "print(dataset_dict['test']['text'][0])"
   ]
  },
  {
   "cell_type": "code",
   "execution_count": 5,
   "metadata": {},
   "outputs": [
    {
     "name": "stdout",
     "output_type": "stream",
     "text": [
      "Below is a customer's purchase history on Amazon, listed in chronological order (earliest to latest). \n",
      "Each item is represented by the following format: Title: <item title> \n",
      "Based on this history, predict **only one** item the customer is most likely to purchase next in the same format.\n",
      "\n",
      "### Purchase history:\n",
      "Title: Chutes and Ladders Super Hero Squad\n",
      "Title: LeapFrog Letter Factory Phonics\n",
      "Title: Crayola Art Smock-\n",
      "Title: Crayola Giant Fingerpaint Paper, (99-3405)\n",
      "Title: Gund Philbin 13&quot; Bear\n",
      "\n",
      "### Next item:\n",
      "\n"
     ]
    }
   ],
   "source": [
    "print(dataset_dict['test']['ptext'][0])"
   ]
  },
  {
   "cell_type": "code",
   "execution_count": 6,
   "metadata": {},
   "outputs": [
    {
     "name": "stdout",
     "output_type": "stream",
     "text": [
      "Below is a customer's purchase history on Amazon, listed in chronological order (earliest to latest). \n",
      "Each item is represented by the following format: Title: <item title> \n",
      "Based on this history, predict **only one** item the customer is most likely to purchase next in the same format.\n",
      "\n",
      "### Purchase history:\n",
      "Title: Schoenhut 25-Key My First Piano II, Red\n",
      "Title: Fascinations AntWorks Colors of Life\n",
      "Title: Fisher-Price Little People Disney Princess Songs Palace\n",
      "Title: Scrabble Crossword Game\n",
      "\n",
      "### Next item:\n",
      "\n"
     ]
    }
   ],
   "source": [
    "print(dataset_dict['validation']['ptext'][0])"
   ]
  },
  {
   "cell_type": "code",
   "execution_count": 9,
   "metadata": {},
   "outputs": [
    {
     "name": "stdout",
     "output_type": "stream",
     "text": [
      "['B007IY97U0', 'B00870XLDS', 'B008MIRO88', 'B00BQYYMN0', 'B00GRTQBTM'] B000052YQU\n"
     ]
    }
   ],
   "source": [
    "print(dataset_dict['test']['seen_asins'][0], dataset_dict['test']['asin'][1])"
   ]
  },
  {
   "cell_type": "code",
   "execution_count": 11,
   "metadata": {},
   "outputs": [
    {
     "name": "stdout",
     "output_type": "stream",
     "text": [
      "Below is a customer's purchase history on Amazon, listed in chronological order (earliest to latest). \n",
      "Each item is represented by the following format: Title: <item title> \n",
      "Based on this history, predict **only one** item the customer is most likely to purchase next in the same format.\n",
      "\n",
      "### Purchase history:\n",
      "Title: 63cm Long Zipper Beige+pink Wavy Cosplay Hair Wig Rw157\n",
      "Title: MapofBeauty Long Wave Curly Hair Wig Full Wig for Women Long (Black)\n",
      "Title: MapofBeauty Cosplay Costume Long Curly Hair Wig Ladies Synthetic Wigs (White)\n",
      "Title: 32&quot; 80cm Long Hair Heat Resistant Spiral Curly Cosplay Wig (Red Dark)\n",
      "\n",
      "### Next item:\n",
      "Title: MapofBeauty 28&quot; 70cm Long Curly Hair Ends Costume Cosplay Wig (Brown)\n"
     ]
    }
   ],
   "source": [
    "print(dataset_dict['train'][0]['text'])"
   ]
  },
  {
   "cell_type": "markdown",
   "metadata": {},
   "source": [
    "## Cold start, normal and power"
   ]
  },
  {
   "cell_type": "code",
   "execution_count": 3,
   "metadata": {},
   "outputs": [
    {
     "data": {
      "image/png": "[encoded data removed]",
      "text/plain": [
       "<Figure size 1000x600 with 1 Axes>"
      ]
     },
     "metadata": {},
     "output_type": "display_data"
    },
    {
     "name": "stdout",
     "output_type": "stream",
     "text": [
      "count    19406.000000\n",
      "mean         8.593064\n",
      "std          8.489433\n",
      "min          1.000000\n",
      "25%          5.000000\n",
      "50%          6.000000\n",
      "75%          9.000000\n",
      "max        548.000000\n",
      "Name: count, dtype: float64\n"
     ]
    }
   ],
   "source": [
    "import pandas as pd\n",
    "import matplotlib.pyplot as plt\n",
    "import numpy as np\n",
    "import os\n",
    "import argparse\n",
    "from pathlib import Path\n",
    "import urllib.parse\n",
    "\n",
    "def visualize_reviewer_counts(df, category):\n",
    "    \"\"\"Visualizes the distribution of review counts per reviewer.\"\"\"\n",
    "    reviewer_counts = df['reviewerID'].value_counts()\n",
    "    mean = reviewer_counts.mean()\n",
    "    std = reviewer_counts.std()\n",
    "\n",
    "    plt.figure(figsize=(10, 6))\n",
    "    plt.hist(reviewer_counts, bins=30, color='skyblue', edgecolor='black', alpha=0.7)\n",
    "    plt.axvline(mean, color='red', linestyle='dashed', linewidth=1, label=f'Mean: {mean:.2f}')\n",
    "    plt.axvline(mean + std, color='green', linestyle='dashed', linewidth=1, label=f'+1 SD: {mean + std:.2f}')\n",
    "    plt.axvline(mean - std, color='green', linestyle='dashed', linewidth=1, label=f'-1 SD: {mean - std:.2f}')\n",
    "    plt.axvline(mean + 2 * std, color='orange', linestyle='dashed', linewidth=1, label=f'+2 SD: {mean + 2 * std:.2f}')\n",
    "    plt.axvline(mean - 2 * std, color='orange', linestyle='dashed', linewidth=1, label=f'-2 SD: {mean - 2 * std:.2f}')\n",
    "\n",
    "    plt.title(f'Histogram of Review Counts per Reviewer ({category})')\n",
    "    plt.xlabel('Number of Reviews')\n",
    "    plt.ylabel('Frequency')\n",
    "    plt.legend()\n",
    "    plt.show()\n",
    "    print(reviewer_counts.describe())"
   ]
  },
  {
   "cell_type": "code",
   "execution_count": 11,
   "metadata": {},
   "outputs": [
    {
     "data": {
      "text/plain": [
       "count    22363.000000\n",
       "mean         8.870500\n",
       "std          8.160898\n",
       "min          4.000000\n",
       "25%          5.000000\n",
       "50%          6.000000\n",
       "75%          9.000000\n",
       "max        204.000000\n",
       "Name: count, dtype: float64"
      ]
     },
     "execution_count": 11,
     "metadata": {},
     "output_type": "execute_result"
    }
   ],
   "source": [
    "df = pd.read_json('../data/processed/beauty2014/df_dedup.json', lines=True)\n",
    "reviewer_counts = df['reviewerID'].value_counts()\n",
    "reviewer_counts.describe()"
   ]
  },
  {
   "cell_type": "code",
   "execution_count": 12,
   "metadata": {},
   "outputs": [
    {
     "data": {
      "text/plain": [
       "count    35597.000000\n",
       "mean         8.289772\n",
       "std          6.052320\n",
       "min          3.000000\n",
       "25%          5.000000\n",
       "50%          6.000000\n",
       "75%          9.000000\n",
       "max        294.000000\n",
       "Name: count, dtype: float64"
      ]
     },
     "execution_count": 12,
     "metadata": {},
     "output_type": "execute_result"
    }
   ],
   "source": [
    "df = pd.read_json('../data/processed/sports2014/df_dedup.json', lines=True)\n",
    "reviewer_counts = df['reviewerID'].value_counts()\n",
    "reviewer_counts.describe()"
   ]
  },
  {
   "cell_type": "code",
   "execution_count": 13,
   "metadata": {},
   "outputs": [
    {
     "data": {
      "text/plain": [
       "count    19406.000000\n",
       "mean         8.593064\n",
       "std          8.489433\n",
       "min          1.000000\n",
       "25%          5.000000\n",
       "50%          6.000000\n",
       "75%          9.000000\n",
       "max        548.000000\n",
       "Name: count, dtype: float64"
      ]
     },
     "execution_count": 13,
     "metadata": {},
     "output_type": "execute_result"
    }
   ],
   "source": [
    "df = pd.read_json('../data/processed/toys2014/df_dedup.json', lines=True)\n",
    "reviewer_counts = df['reviewerID'].value_counts()\n",
    "reviewer_counts.describe()"
   ]
  },
  {
   "cell_type": "code",
   "execution_count": 14,
   "metadata": {},
   "outputs": [
    {
     "data": {
      "text/plain": [
       "reviewerID\n",
       "AJGU56YG8G1DQ     548\n",
       "A1M8AYAL3L8ACP    168\n",
       "A1II2ZRPKZAQQD    157\n",
       "A2WW57XX2UVLM6    151\n",
       "A1POFVVXUZR3IQ    133\n",
       "                 ... \n",
       "A3W4D8XOGLWUN5      2\n",
       "A2TCG2HV1VJP6V      2\n",
       "A1L8YTICTVN5        1\n",
       "AFV2584U13XP3       1\n",
       "A1MHB1HRR6VPEH      1\n",
       "Name: count, Length: 19406, dtype: int64"
      ]
     },
     "execution_count": 14,
     "metadata": {},
     "output_type": "execute_result"
    }
   ],
   "source": [
    "reviewer_counts"
   ]
  },
  {
   "cell_type": "code",
   "execution_count": null,
   "metadata": {},
   "outputs": [],
   "source": []
  }
 ],
 "metadata": {
  "language_info": {
   "name": "python"
  }
 },
 "nbformat": 4,
 "nbformat_minor": 2
}
