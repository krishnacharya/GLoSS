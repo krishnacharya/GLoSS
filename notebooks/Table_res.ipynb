{
 "cells": [
  {
   "cell_type": "code",
   "execution_count": 1,
   "metadata": {},
   "outputs": [],
   "source": [
    "import numpy as np"
   ]
  },
  {
   "cell_type": "code",
   "execution_count": 9,
   "metadata": {},
   "outputs": [],
   "source": [
    "# grouped by dataset, first 3 are beauty, next 3 are toys, last 3 are sports, columns are Recall@5 and NDCG@5\n",
    "e5_base_array = np.array([\n",
    "    [0.04578992, 0.02947472],\n",
    "    [0.06524169, 0.04248085],\n",
    "    [0.06828243, 0.04352459],\n",
    "    [0.06749162, 0.04429382],\n",
    "    [0.07275071, 0.04743563],\n",
    "    [0.07898943, 0.05259032],\n",
    "    [0.02275473, 0.0139251 ],\n",
    "    [0.02946878, 0.01819536],\n",
    "    [0.03646375, 0.02284406]\n",
    "])\n",
    "\n",
    "e5_small_array = np.array([\n",
    "    [0.04556634, 0.02968089],\n",
    "    [0.06528641, 0.04230924],\n",
    "    [0.06810356, 0.04417366],\n",
    "    [0.06769786, 0.04408206],\n",
    "    [0.07275071, 0.04776037],\n",
    "    [0.07955659, 0.05289716],\n",
    "    [0.02261427, 0.01452323],\n",
    "    [0.02944068, 0.01883082],\n",
    "    [0.03635138, 0.02379403]\n",
    "])\n",
    "\n",
    "bm25_array = np.array([\n",
    "    [0.04534275, 0.02687895],\n",
    "    [0.06519698, 0.0400393 ],\n",
    "    [0.06814828, 0.04232513],\n",
    "    [0.06656355, 0.04006136],\n",
    "    [0.07202887, 0.04361009],\n",
    "    [0.07842227, 0.04717886],\n",
    "    [0.02205242, 0.0132789 ],\n",
    "    [0.02876647, 0.01779291],\n",
    "    [0.0359019 , 0.02176467]\n",
    "])\n",
    "\n"
   ]
  },
  {
   "cell_type": "code",
   "execution_count": 12,
   "metadata": {},
   "outputs": [
    {
     "data": {
      "text/plain": [
       "array([[ 0.49311081, 10.42429113],\n",
       "       [ 0.13716893,  5.66927993],\n",
       "       [-0.06562161,  4.36745262],\n",
       "       [ 1.70410082, 10.03635423],\n",
       "       [ 1.00215372,  9.51678843],\n",
       "       [ 1.44642587, 12.12047091],\n",
       "       [ 2.54779294,  9.37073101],\n",
       "       [ 2.34373561,  5.83327854],\n",
       "       [ 1.25196717,  9.32410186]])"
      ]
     },
     "execution_count": 12,
     "metadata": {},
     "output_type": "execute_result"
    }
   ],
   "source": [
    "100 * (e5_small_array-bm25_array)/bm25_array"
   ]
  },
  {
   "cell_type": "code",
   "execution_count": 13,
   "metadata": {},
   "outputs": [
    {
     "data": {
      "text/plain": [
       "array([[ 0.98619956,  9.65725968],\n",
       "       [ 0.0685768 ,  6.09788383],\n",
       "       [ 0.19685016,  2.83391923],\n",
       "       [ 1.39426157, 10.56494338],\n",
       "       [ 1.00215372,  8.77214424],\n",
       "       [ 0.72321293, 11.47009487],\n",
       "       [ 3.18472984,  4.86636694],\n",
       "       [ 2.44141878,  2.26185599],\n",
       "       [ 1.56495896,  4.95936764]])"
      ]
     },
     "execution_count": 13,
     "metadata": {},
     "output_type": "execute_result"
    }
   ],
   "source": [
    "100 * (e5_base_array-bm25_array)/bm25_array"
   ]
  },
  {
   "cell_type": "markdown",
   "metadata": {},
   "source": [
    "Dataset Model Size\tEncoder Name\tRecall@5\tNDCG@5\n",
    "beauty\t1B\te5-base-v2\t0.04578992085\t0.02947472306\n",
    "beauty\t3B\te5-base-v2\t0.06524169387\t0.04248084622\n",
    "beauty\t8B\te5-base-v2\t0.0682824308\t0.04352458939\n",
    "toys\t1B\te5-base-v2\t0.06749162155\t0.04429382132\n",
    "toys\t3B\te5-base-v2\t0.07275070895\t0.04743563333\n",
    "toys\t8B\te5-base-v2\t0.07898943027\t0.05259032037\n",
    "sports\t1B\te5-base-v2\t0.02275472652\t0.01392509929\n",
    "sports\t3B\te5-base-v2\t0.02946877546\t0.0181953619\n",
    "sports\t8B\te5-base-v2\t0.03646374694\t0.02284406227\n",
    "\t\t\t\t\n",
    "\t\t\t\t\n",
    "beauty\t1B\te5-small-v2\t0.04556633725\t0.02968089258\n",
    "beauty\t3B\te5-small-v2\t0.06528641059\t0.04230923515\n",
    "beauty\t8B\te5-small-v2\t0.06810356392\t0.04417366021\n",
    "toys\t1B\te5-small-v2\t0.06769786027\t0.04408206251\n",
    "toys\t3B\te5-small-v2\t0.07275070895\t0.04776037474\n",
    "toys\t8B\te5-small-v2\t0.07955658675\t0.05289715644\n",
    "sports\t1B\te5-small-v2\t0.02261426525\t0.01452323385\n",
    "sports\t3B\te5-small-v2\t0.0294406832\t0.0188308171\n",
    "sports\t8B\te5-small-v2\t0.03635137793\t0.02379403189\n",
    "\t\t\t\t\n",
    "beauty\t1B\tBM25\t0.04534275366\t0.02687894526\n",
    "beauty\t3B\tBM25\t0.06519697715\t0.04003929537\n",
    "beauty\t8B\tBM25\t0.06814828064\t0.04232513489\n",
    "toys\t1B\tBM25\t0.06656354731\t0.04006136273\n",
    "toys\t3B\tBM25\t0.07202887342\t0.04361009241\n",
    "toys\t8B\tBM25\t0.07842227378\t0.04717886157\n",
    "sports\t1B\tBM25\t0.02205242015\t0.01327889527\n",
    "sports\t3B\tBM25\t0.02876646908\t0.01779291448\n",
    "sports\t8B\tBM25\t0.03590190185\t0.02176466662"
   ]
  },
  {
   "cell_type": "code",
   "execution_count": null,
   "metadata": {},
   "outputs": [],
   "source": []
  }
 ],
 "metadata": {
  "language_info": {
   "name": "python"
  }
 },
 "nbformat": 4,
 "nbformat_minor": 2
}
