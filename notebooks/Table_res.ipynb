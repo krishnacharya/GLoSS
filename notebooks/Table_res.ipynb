{
 "cells": [
  {
   "cell_type": "code",
   "execution_count": 1,
   "metadata": {},
   "outputs": [],
   "source": [
    "import numpy as np"
   ]
  },
  {
   "cell_type": "code",
   "execution_count": 3,
   "metadata": {},
   "outputs": [
    {
     "ename": "SyntaxError",
     "evalue": "invalid syntax. Perhaps you forgot a comma? (2144717095.py, line 1)",
     "output_type": "error",
     "traceback": [
      "\u001b[0;36m  Cell \u001b[0;32mIn[3], line 1\u001b[0;36m\u001b[0m\n\u001b[0;31m    bm25_mets = np.array([[0.04534275 0.02687895],\u001b[0m\n\u001b[0m                           ^\u001b[0m\n\u001b[0;31mSyntaxError\u001b[0m\u001b[0;31m:\u001b[0m invalid syntax. Perhaps you forgot a comma?\n"
     ]
    }
   ],
   "source": [
    "bm25_mets = np.array([[0.04534275 0.02687895],[0.06519698 0.0400393 ],\n",
    " [0.06814828 0.04232513],\n",
    " [0.06656355 0.04006136],\n",
    " [0.07202887 0.04361009],\n",
    " [0.07842227 0.04717886],\n",
    " [0.02205242 0.0132789 ],\n",
    " [0.02876647 0.01779291],\n",
    " [0.0359019  0.02176467]])"
   ]
  },
  {
   "cell_type": "code",
   "execution_count": null,
   "metadata": {},
   "outputs": [],
   "source": [
    "Dataset Model Size\tEncoder Name\tRecall@5\tNDCG@5\n",
    "beauty\t1B\te5-base-v2\t0.04578992085\t0.02947472306\n",
    "beauty\t3B\te5-base-v2\t0.06524169387\t0.04248084622\n",
    "beauty\t8B\te5-base-v2\t0.0682824308\t0.04352458939\n",
    "toys\t1B\te5-base-v2\t0.06749162155\t0.04429382132\n",
    "toys\t3B\te5-base-v2\t0.07275070895\t0.04743563333\n",
    "toys\t8B\te5-base-v2\t0.07898943027\t0.05259032037\n",
    "sports\t1B\te5-base-v2\t0.02275472652\t0.01392509929\n",
    "sports\t3B\te5-base-v2\t0.02946877546\t0.0181953619\n",
    "sports\t8B\te5-base-v2\t0.03646374694\t0.02284406227\n",
    "\t\t\t\t\n",
    "\t\t\t\t\n",
    "beauty\t1B\te5-small-v2\t0.04556633725\t0.02968089258\n",
    "beauty\t3B\te5-small-v2\t0.06528641059\t0.04230923515\n",
    "beauty\t8B\te5-small-v2\t0.06810356392\t0.04417366021\n",
    "toys\t1B\te5-small-v2\t0.06769786027\t0.04408206251\n",
    "toys\t3B\te5-small-v2\t0.07275070895\t0.04776037474\n",
    "toys\t8B\te5-small-v2\t0.07955658675\t0.05289715644\n",
    "sports\t1B\te5-small-v2\t0.02261426525\t0.01452323385\n",
    "sports\t3B\te5-small-v2\t0.0294406832\t0.0188308171\n",
    "sports\t8B\te5-small-v2\t0.03635137793\t0.02379403189\n",
    "\t\t\t\t\n",
    "beauty\t1B\tBM25\t0.04534275366\t0.02687894526\n",
    "beauty\t3B\tBM25\t0.06519697715\t0.04003929537\n",
    "beauty\t8B\tBM25\t0.06814828064\t0.04232513489\n",
    "toys\t1B\tBM25\t0.06656354731\t0.04006136273\n",
    "toys\t3B\tBM25\t0.07202887342\t0.04361009241\n",
    "toys\t8B\tBM25\t0.07842227378\t0.04717886157\n",
    "sports\t1B\tBM25\t0.02205242015\t0.01327889527\n",
    "sports\t3B\tBM25\t0.02876646908\t0.01779291448\n",
    "sports\t8B\tBM25\t0.03590190185\t0.02176466662"
   ]
  },
  {
   "cell_type": "code",
   "execution_count": null,
   "metadata": {},
   "outputs": [],
   "source": []
  }
 ],
 "metadata": {
  "language_info": {
   "name": "python"
  }
 },
 "nbformat": 4,
 "nbformat_minor": 2
}
