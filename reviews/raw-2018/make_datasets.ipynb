{
 "cells": [
  {
   "cell_type": "code",
   "execution_count": 1,
   "metadata": {},
   "outputs": [],
   "source": [
    "import pandas as pd"
   ]
  },
  {
   "cell_type": "code",
   "execution_count": 2,
   "metadata": {},
   "outputs": [],
   "source": [
    "scimeta = pd.read_json('scimeta_corpus.json', orient='records', lines=True)\n",
    "seqdata = pd.read_json('sci_seq_3rev.json', orient='records', lines=True)"
   ]
  },
  {
   "cell_type": "code",
   "execution_count": 3,
   "metadata": {},
   "outputs": [
    {
     "data": {
      "text/plain": [
       "((72194, 9), (5326, 5))"
      ]
     },
     "execution_count": 3,
     "metadata": {},
     "output_type": "execute_result"
    }
   ],
   "source": [
    "seqdata.shape, scimeta.shape"
   ]
  },
  {
   "cell_type": "code",
   "execution_count": 4,
   "metadata": {},
   "outputs": [
    {
     "data": {
      "text/plain": [
       "(10970, 5326)"
      ]
     },
     "execution_count": 4,
     "metadata": {},
     "output_type": "execute_result"
    }
   ],
   "source": [
    "seqdata['reviewerID'].nunique(), seqdata['asin'].nunique()"
   ]
  },
  {
   "cell_type": "code",
   "execution_count": 6,
   "metadata": {},
   "outputs": [],
   "source": [
    "# import matplotlib.pyplot as plt\n",
    "\n",
    "# # Calculate the histogram of the number of reviews per reviewer\n",
    "# reviewer_counts = seqdata['reviewerID'].value_counts()\n",
    "\n",
    "# # Plot the histogram\n",
    "# reviewer_counts.hist(bins=30)\n",
    "# plt.xlabel('Number of Reviews')\n",
    "# plt.ylabel('Number of Reviewers')\n",
    "# plt.title('Histogram of Reviews per Reviewer')\n",
    "# plt.show()\n",
    "\n",
    "# # Calculate the fraction of reviewers with less than 3 reviews; worth making it core 4 actually\n",
    "# fraction_with_3_reviews = (reviewer_counts < 4).mean()\n",
    "# print(f\"Fraction of reviewers with less than 4 reviews: {fraction_with_3_reviews:.2%}\")\n",
    "\n",
    "\n",
    "# # Calculate the histogram of the number of reviewers per ASIN\n",
    "# asin_counts = seqdata['asin'].value_counts()\n",
    "\n",
    "# # Plot the histogram\n",
    "# asin_counts.hist(bins=30)\n",
    "# plt.xlabel('Number of Reviewers')\n",
    "# plt.ylabel('Number of ASINs')\n",
    "# plt.title('Histogram of Reviewers per ASIN')\n",
    "# plt.show()\n",
    "\n",
    "# # Calculate the fraction of ASINs with less than 3 reviewers\n",
    "# fraction_with_3_reviewers = (asin_counts < 4).mean()\n",
    "# print(f\"Fraction of ASINs with less than 4 reviewers: {fraction_with_3_reviewers:.2%}\")"
   ]
  },
  {
   "cell_type": "code",
   "execution_count": 7,
   "metadata": {},
   "outputs": [],
   "source": [
    "# meta_asins = scimeta['asin'] # we known these are all unique\n",
    "\n",
    "# # check if sci5's unique asins appear in metadata\n",
    "# unique_asins_sci5 = set(seqdata['asin'].unique())\n",
    "# unique_asins_meta = set(meta_asins)\n",
    "\n",
    "# # Calculate the fraction of ASINs in sci5 that are in the metadata\n",
    "# fraction_in_meta = len(unique_asins_sci5.intersection(unique_asins_meta)) / len(unique_asins_sci5)\n",
    "# print(f\"Fraction of ASINs in sci5 that are in the metadata: {fraction_in_meta:.2%}\")"
   ]
  },
  {
   "cell_type": "code",
   "execution_count": 5,
   "metadata": {},
   "outputs": [
    {
     "data": {
      "text/html": [
       "<div>\n",
       "<style scoped>\n",
       "    .dataframe tbody tr th:only-of-type {\n",
       "        vertical-align: middle;\n",
       "    }\n",
       "\n",
       "    .dataframe tbody tr th {\n",
       "        vertical-align: top;\n",
       "    }\n",
       "\n",
       "    .dataframe thead th {\n",
       "        text-align: right;\n",
       "    }\n",
       "</style>\n",
       "<table border=\"1\" class=\"dataframe\">\n",
       "  <thead>\n",
       "    <tr style=\"text-align: right;\">\n",
       "      <th></th>\n",
       "      <th>reviewerID</th>\n",
       "      <th>unixReviewTime</th>\n",
       "      <th>asin</th>\n",
       "      <th>overall</th>\n",
       "      <th>summary</th>\n",
       "      <th>title</th>\n",
       "      <th>brand</th>\n",
       "      <th>main_cat</th>\n",
       "      <th>price</th>\n",
       "    </tr>\n",
       "  </thead>\n",
       "  <tbody>\n",
       "    <tr>\n",
       "      <th>0</th>\n",
       "      <td>A0096681Y127OL1H8W3U</td>\n",
       "      <td>1431993600</td>\n",
       "      <td>B0098MLBAO</td>\n",
       "      <td>5</td>\n",
       "      <td>Five Stars</td>\n",
       "      <td>Herbal Choice Mari Natural Toothgel, Cinnamon ...</td>\n",
       "      <td>Nature's Brands</td>\n",
       "      <td>Health &amp; Personal Care</td>\n",
       "      <td>$14.47</td>\n",
       "    </tr>\n",
       "    <tr>\n",
       "      <th>1</th>\n",
       "      <td>A0096681Y127OL1H8W3U</td>\n",
       "      <td>1435104000</td>\n",
       "      <td>B00E8JOCOE</td>\n",
       "      <td>5</td>\n",
       "      <td>Five Stars</td>\n",
       "      <td>Pac-Kit by First Aid Only 25-450 Cotton Tipped...</td>\n",
       "      <td>First Aid Only</td>\n",
       "      <td>Industrial &amp; Scientific</td>\n",
       "      <td>Unknown</td>\n",
       "    </tr>\n",
       "    <tr>\n",
       "      <th>2</th>\n",
       "      <td>A0096681Y127OL1H8W3U</td>\n",
       "      <td>1435104000</td>\n",
       "      <td>B00S730YWG</td>\n",
       "      <td>5</td>\n",
       "      <td>Five Stars</td>\n",
       "      <td>Litmus pH Test Strips, Universal Application (...</td>\n",
       "      <td>LabRat Supplies</td>\n",
       "      <td>Industrial &amp; Scientific</td>\n",
       "      <td>Unknown</td>\n",
       "    </tr>\n",
       "    <tr>\n",
       "      <th>3</th>\n",
       "      <td>A0096681Y127OL1H8W3U</td>\n",
       "      <td>1470614400</td>\n",
       "      <td>B0098MLBAO</td>\n",
       "      <td>5</td>\n",
       "      <td>Pearly whites</td>\n",
       "      <td>Herbal Choice Mari Natural Toothgel, Cinnamon ...</td>\n",
       "      <td>Nature's Brands</td>\n",
       "      <td>Health &amp; Personal Care</td>\n",
       "      <td>$14.47</td>\n",
       "    </tr>\n",
       "    <tr>\n",
       "      <th>4</th>\n",
       "      <td>A0196552RI15HI7JB9PW</td>\n",
       "      <td>1435449600</td>\n",
       "      <td>B000FN15YM</td>\n",
       "      <td>5</td>\n",
       "      <td>As described</td>\n",
       "      <td>18-8 Stainless Steel Flat Washer, Plain Finish...</td>\n",
       "      <td>Small Parts</td>\n",
       "      <td>Industrial &amp; Scientific</td>\n",
       "      <td>$2.00</td>\n",
       "    </tr>\n",
       "  </tbody>\n",
       "</table>\n",
       "</div>"
      ],
      "text/plain": [
       "             reviewerID  unixReviewTime        asin  overall        summary  \\\n",
       "0  A0096681Y127OL1H8W3U      1431993600  B0098MLBAO        5     Five Stars   \n",
       "1  A0096681Y127OL1H8W3U      1435104000  B00E8JOCOE        5     Five Stars   \n",
       "2  A0096681Y127OL1H8W3U      1435104000  B00S730YWG        5     Five Stars   \n",
       "3  A0096681Y127OL1H8W3U      1470614400  B0098MLBAO        5  Pearly whites   \n",
       "4  A0196552RI15HI7JB9PW      1435449600  B000FN15YM        5   As described   \n",
       "\n",
       "                                               title            brand  \\\n",
       "0  Herbal Choice Mari Natural Toothgel, Cinnamon ...  Nature's Brands   \n",
       "1  Pac-Kit by First Aid Only 25-450 Cotton Tipped...   First Aid Only   \n",
       "2  Litmus pH Test Strips, Universal Application (...  LabRat Supplies   \n",
       "3  Herbal Choice Mari Natural Toothgel, Cinnamon ...  Nature's Brands   \n",
       "4  18-8 Stainless Steel Flat Washer, Plain Finish...      Small Parts   \n",
       "\n",
       "                  main_cat    price  \n",
       "0   Health & Personal Care   $14.47  \n",
       "1  Industrial & Scientific  Unknown  \n",
       "2  Industrial & Scientific  Unknown  \n",
       "3   Health & Personal Care   $14.47  \n",
       "4  Industrial & Scientific    $2.00  "
      ]
     },
     "execution_count": 5,
     "metadata": {},
     "output_type": "execute_result"
    }
   ],
   "source": [
    "seqdata.head() # could also use summary and overall rating in the future"
   ]
  },
  {
   "cell_type": "code",
   "execution_count": 6,
   "metadata": {},
   "outputs": [
    {
     "data": {
      "application/vnd.jupyter.widget-view+json": {
       "model_id": "9f881df5e4b840c386906a0d92e5623c",
       "version_major": 2,
       "version_minor": 0
      },
      "text/plain": [
       "Saving the dataset (0/1 shards):   0%|          | 0/10970 [00:00<?, ? examples/s]"
      ]
     },
     "metadata": {},
     "output_type": "display_data"
    },
    {
     "data": {
      "application/vnd.jupyter.widget-view+json": {
       "model_id": "2b24133d13f04fe9950fb1ab5bfe1865",
       "version_major": 2,
       "version_minor": 0
      },
      "text/plain": [
       "Saving the dataset (0/1 shards):   0%|          | 0/512 [00:00<?, ? examples/s]"
      ]
     },
     "metadata": {},
     "output_type": "display_data"
    },
    {
     "data": {
      "application/vnd.jupyter.widget-view+json": {
       "model_id": "779dc177fa894278b38cdfb87f45824d",
       "version_major": 2,
       "version_minor": 0
      },
      "text/plain": [
       "Saving the dataset (0/1 shards):   0%|          | 0/10970 [00:00<?, ? examples/s]"
      ]
     },
     "metadata": {},
     "output_type": "display_data"
    }
   ],
   "source": [
    "from collections import defaultdict\n",
    "from datasets import Dataset, DatasetDict\n",
    "import pandas as pd\n",
    "from src.utils.project_dirs import get_hfdata_dir\n",
    "import random\n",
    "\n",
    "hfdatasetpath = get_hfdata_dir()\n",
    "\n",
    "reviewer_asins = defaultdict(list)\n",
    "for _, row in seqdata.iterrows():\n",
    "\treviewer_asins[row['reviewerID']].append(row['asin'])\n",
    "\n",
    "scimeta.columns = ['asin', 'Title', 'Brand', 'Category', 'Price'] # only the corpus asins and their metadata\n",
    "asins_compact = scimeta[['asin']].copy()\n",
    "asins_compact['nlang'] = (\n",
    "\t\"Title: \" + scimeta['Title'] + \". \" +\n",
    "\t\"Brand: \" + scimeta['Brand'] + \". \" +\n",
    "\t\"Category: \" + scimeta['Category'] + \". \" +\n",
    "\t\"Price: \" + scimeta['Price']\n",
    ")     \n",
    "asin_dict = asins_compact.set_index('asin')['nlang'].to_dict()  # ASIN -> formatted text of the item\n",
    "data_dict = {}\n",
    "\n",
    "amzn_prompt = \"\"\"Below is a customer's purchase history on Amazon, listed in chronological order (earliest to latest). \n",
    "Each item is represented by the following format: Title: <item title> Category: <item category> Brand: <item brand> Price: <item price>.\n",
    "Based on this history, predict **only one** item the customer is most likely to purchase next in the same format.\n",
    "\n",
    "### Purchase history:\n",
    "{}\n",
    "\n",
    "### Next item:\n",
    "{}\"\"\"\n",
    "\n",
    "Nval = 512  # Number of reviewers for validation\n",
    "random.seed(42) \n",
    "# for these reviewers, the train till the (n-3)th item, val will be the n-2th item, test is the last item; \n",
    "# for the rest of the users train will use till the n-2th item, no val, test will be the last item\n",
    "val_rewid = set(random.sample(list(reviewer_asins.keys()), Nval))\n",
    "\n",
    "# Convert data_dict into a list of records for each split\n",
    "train_records, val_records, test_records = [], [], []\n",
    "for reviewer_id, asins_list in reviewer_asins.items():\n",
    "    n = len(asins_list)\n",
    "    if n < 3:\n",
    "        raise ValueError(f\"Reviewer {reviewer_id} has less than 3 reviews\")\n",
    "    formatted_asins_list = [asin_dict.get(asin, f\"Unknown ASIN: {asin}\") for asin in asins_list]\n",
    "\n",
    "    if reviewer_id in val_rewid: # we form a validation set only with these reviewers\n",
    "        train_text = amzn_prompt.format(\"\\n\".join(formatted_asins_list[:n-3]), formatted_asins_list[n-3])\n",
    "\n",
    "        val_ptext = amzn_prompt.format(\"\\n\".join(formatted_asins_list[:n-2]), \"\") # val prompt text \n",
    "        val_text = amzn_prompt.format(\"\\n\".join(formatted_asins_list[:n-2]), formatted_asins_list[n-2]) # val text\n",
    "        val_seen_asins = asins_list[:n-2]\n",
    "        val_asin = asins_list[n-2] # this is the eval target used for recall, ndcg calculations\n",
    "        val_asin_text = formatted_asins_list[n-2]\n",
    "        val_records.append({\n",
    "            \"reviewer_id\": reviewer_id,\n",
    "            \"ptext\": val_ptext,\n",
    "            \"text\": val_text,\n",
    "            \"seen_asins\": val_seen_asins,\n",
    "            \"asin\": val_asin,\n",
    "            \"asin_text\": val_asin_text\n",
    "        })\n",
    "    else:\n",
    "        train_text = amzn_prompt.format(\"\\n\".join(formatted_asins_list[:n-2]), formatted_asins_list[n-2])\n",
    "    \n",
    "    test_ptext = amzn_prompt.format(\"\\n\".join(formatted_asins_list[:n-1]), \"\") # test prompt text\n",
    "    test_text = amzn_prompt.format(\"\\n\".join(formatted_asins_list[:n-1]), formatted_asins_list[n-1]) # test text\n",
    "    test_seen_asins = asins_list[:n-1]\n",
    "    test_asin = asins_list[n-1] # test target used for recall, ndcg calculations\n",
    "    test_asin_text = formatted_asins_list[n-1]\n",
    "    \n",
    "    train_records.append({\n",
    "        \"reviewer_id\": reviewer_id,\n",
    "        \"text\": train_text\n",
    "    })\n",
    "    test_records.append({\n",
    "        \"reviewer_id\": reviewer_id,\n",
    "        \"ptext\": test_ptext,\n",
    "        \"text\": test_text,\n",
    "        \"seen_asins\": test_seen_asins,\n",
    "        \"asin\": test_asin,\n",
    "        \"asin_text\": test_asin_text\n",
    "    })\n",
    "    \n",
    "# Convert lists to Hugging Face datasets\n",
    "train_dataset = Dataset.from_pandas(pd.DataFrame(train_records))\n",
    "val_dataset = Dataset.from_pandas(pd.DataFrame(val_records))\n",
    "test_dataset = Dataset.from_pandas(pd.DataFrame(test_records))\n",
    "\n",
    "# Create a DatasetDict\n",
    "dataset_dict = DatasetDict({\n",
    "    \"train\": train_dataset,\n",
    "    \"validation\": val_dataset,\n",
    "    \"test\": test_dataset,\n",
    "})\n",
    "\n",
    "# Save dataset locally\n",
    "dataset_dict.save_to_disk(str(hfdatasetpath / \"Amzn_scientific_2018\"))\n"
   ]
  },
  {
   "cell_type": "code",
   "execution_count": 9,
   "metadata": {},
   "outputs": [
    {
     "data": {
      "text/plain": [
       "((10970, 2), (512, 5), (10970, 5))"
      ]
     },
     "execution_count": 9,
     "metadata": {},
     "output_type": "execute_result"
    }
   ],
   "source": [
    "train_dataset.shape, val_dataset.shape,test_dataset.shape,"
   ]
  },
  {
   "cell_type": "code",
   "execution_count": 28,
   "metadata": {},
   "outputs": [
    {
     "name": "stdout",
     "output_type": "stream",
     "text": [
      "Below is a customer's purchase history on Amazon, listed in chronological order (earliest to latest). \n",
      "Each item is represented by the following format: Title: <item title> Category: <item category> Brand: <item brand> Price: <item price>.\n",
      "Based on this history, predict **only one** item the customer is most likely to purchase next in the same format.\n",
      "\n",
      "### Purchase history:\n",
      "Title: FiiO D3 (D03K) Digital to Analog Audio Converter With Micca 6ft Optical Toslink Cable - 192kHz/24bit Optical and Coaxial DAC. Brand: FiiO. Category: All Electronics. Price: $22.95\n",
      "Title: Eagle U2-51-S Red Galvanized Steel Type II Gas Safety Can with 7/8&quot; Flex Spout, 5 gallon Capacity, 13.5&quot; Height, 12.5&quot; Diameter. Brand: Eagle. Category: Amazon Home. Price: $81.49\n",
      "Title: Eagle F-15 HDPE 10&quot; Poly Funnel For Metal Type I Safety Cans, 4&quot; Height, 8&quot; Width, 9&quot; Length. Brand: Eagle. Category: Industrial & Scientific. Price: $4.59\n",
      "Title: 3M Littmann Classic III Monitoring Stethoscope, Pearl Pink Tube, 27 inch, 5633. Brand: 3M Littmann. Category: Industrial & Scientific. Price: $88.89\n",
      "Title: Apera Instruments AI209 PH20 Value Waterproof pH Pocket Tester, &plusmn;0.1 pH Accuracy, 0-14.0 pH Range, Complete Kit. Brand: Apera Instruments, LLC. Category: Industrial & Scientific. Price: $49.75\n",
      "\n",
      "### Next item:\n",
      "\n",
      "BREAK\n",
      "Below is a customer's purchase history on Amazon, listed in chronological order (earliest to latest). \n",
      "Each item is represented by the following format: Title: <item title> Category: <item category> Brand: <item brand> Price: <item price>.\n",
      "Based on this history, predict **only one** item the customer is most likely to purchase next in the same format.\n",
      "\n",
      "### Purchase history:\n",
      "Title: FiiO D3 (D03K) Digital to Analog Audio Converter With Micca 6ft Optical Toslink Cable - 192kHz/24bit Optical and Coaxial DAC. Brand: FiiO. Category: All Electronics. Price: $22.95\n",
      "Title: Eagle U2-51-S Red Galvanized Steel Type II Gas Safety Can with 7/8&quot; Flex Spout, 5 gallon Capacity, 13.5&quot; Height, 12.5&quot; Diameter. Brand: Eagle. Category: Amazon Home. Price: $81.49\n",
      "Title: Eagle F-15 HDPE 10&quot; Poly Funnel For Metal Type I Safety Cans, 4&quot; Height, 8&quot; Width, 9&quot; Length. Brand: Eagle. Category: Industrial & Scientific. Price: $4.59\n",
      "Title: 3M Littmann Classic III Monitoring Stethoscope, Pearl Pink Tube, 27 inch, 5633. Brand: 3M Littmann. Category: Industrial & Scientific. Price: $88.89\n",
      "Title: Apera Instruments AI209 PH20 Value Waterproof pH Pocket Tester, &plusmn;0.1 pH Accuracy, 0-14.0 pH Range, Complete Kit. Brand: Apera Instruments, LLC. Category: Industrial & Scientific. Price: $49.75\n",
      "\n",
      "### Next item:\n",
      "Title: Dawson Tools DZA50 AC Line Splitter. Brand: Dawson Tools. Category: Industrial & Scientific. Price: $14.00\n"
     ]
    }
   ],
   "source": [
    "print(val_dataset[0]['ptext'])\n",
    "print(\"BREAK\")\n",
    "print(val_dataset[0]['text'])"
   ]
  },
  {
   "cell_type": "code",
   "execution_count": 29,
   "metadata": {},
   "outputs": [
    {
     "name": "stdout",
     "output_type": "stream",
     "text": [
      "Below is a customer's purchase history on Amazon, listed in chronological order (earliest to latest). \n",
      "Each item is represented by the following format: Title: <item title> Category: <item category> Brand: <item brand> Price: <item price>.\n",
      "Based on this history, predict **only one** item the customer is most likely to purchase next in the same format.\n",
      "\n",
      "### Purchase history:\n",
      "Title: Herbal Choice Mari Natural Toothgel, Cinnamon &amp; Baking Soda; 3.4floz Glass. Brand: Nature's Brands. Category: Health & Personal Care. Price: $14.47\n",
      "Title: Pac-Kit by First Aid Only 25-450 Cotton Tipped Applicator with 6&quot; Wooden Shaft (Bag of 100). Brand: First Aid Only. Category: Industrial & Scientific. Price: Unknown\n",
      "Title: Litmus pH Test Strips, Universal Application (pH 1-14), 2 Packs of 100 Strips. Brand: LabRat Supplies. Category: Industrial & Scientific. Price: Unknown\n",
      "\n",
      "### Next item:\n",
      "\n",
      "BREAK\n",
      "Below is a customer's purchase history on Amazon, listed in chronological order (earliest to latest). \n",
      "Each item is represented by the following format: Title: <item title> Category: <item category> Brand: <item brand> Price: <item price>.\n",
      "Based on this history, predict **only one** item the customer is most likely to purchase next in the same format.\n",
      "\n",
      "### Purchase history:\n",
      "Title: Herbal Choice Mari Natural Toothgel, Cinnamon &amp; Baking Soda; 3.4floz Glass. Brand: Nature's Brands. Category: Health & Personal Care. Price: $14.47\n",
      "Title: Pac-Kit by First Aid Only 25-450 Cotton Tipped Applicator with 6&quot; Wooden Shaft (Bag of 100). Brand: First Aid Only. Category: Industrial & Scientific. Price: Unknown\n",
      "Title: Litmus pH Test Strips, Universal Application (pH 1-14), 2 Packs of 100 Strips. Brand: LabRat Supplies. Category: Industrial & Scientific. Price: Unknown\n",
      "\n",
      "### Next item:\n",
      "Title: Herbal Choice Mari Natural Toothgel, Cinnamon &amp; Baking Soda; 3.4floz Glass. Brand: Nature's Brands. Category: Health & Personal Care. Price: $14.47\n"
     ]
    }
   ],
   "source": [
    "print(test_dataset[0]['ptext'])\n",
    "print(\"BREAK\")\n",
    "print(test_dataset[0]['text'])"
   ]
  },
  {
   "cell_type": "code",
   "execution_count": 26,
   "metadata": {},
   "outputs": [
    {
     "data": {
      "text/plain": [
       "True"
      ]
     },
     "execution_count": 26,
     "metadata": {},
     "output_type": "execute_result"
    }
   ],
   "source": [
    "s = val_dataset[0]['ptext'][-10:]\n",
    "s[-1] == '\\n'"
   ]
  },
  {
   "cell_type": "code",
   "execution_count": null,
   "metadata": {},
   "outputs": [
    {
     "name": "stdout",
     "output_type": "stream",
     "text": [
      "Below is a customer's purchase history on Amazon, listed in chronological order (earliest to latest). \n",
      "Each item is represented by the following format: Title: <item title> Category: <item category> Brand: <item brand> Price: <item price>.\n",
      "Based on this history, predict **only one** item the customer is most likely to purchase next in the same format.\n",
      "\n",
      "### Purchase history:\n",
      "Title: FiiO D3 (D03K) Digital to Analog Audio Converter With Micca 6ft Optical Toslink Cable - 192kHz/24bit Optical and Coaxial DAC. Brand: FiiO. Category: All Electronics. Price: $22.95\n",
      "Title: Eagle U2-51-S Red Galvanized Steel Type II Gas Safety Can with 7/8&quot; Flex Spout, 5 gallon Capacity, 13.5&quot; Height, 12.5&quot; Diameter. Brand: Eagle. Category: Amazon Home. Price: $81.49\n",
      "Title: Eagle F-15 HDPE 10&quot; Poly Funnel For Metal Type I Safety Cans, 4&quot; Height, 8&quot; Width, 9&quot; Length. Brand: Eagle. Category: Industrial & Scientific. Price: $4.59\n",
      "Title: 3M Littmann Classic III Monitoring Stethoscope, Pearl Pink Tube, 27 inch, 5633. Brand: 3M Littmann. Category: Industrial & Scientific. Price: $88.89\n",
      "Title: Apera Instruments AI209 PH20 Value Waterproof pH Pocket Tester, &plusmn;0.1 pH Accuracy, 0-14.0 pH Range, Complete Kit. Brand: Apera Instruments, LLC. Category: Industrial & Scientific. Price: $49.75\n",
      "\n",
      "### Next item:\n",
      "Title: Dawson Tools DZA50 AC Line Splitter. Brand: Dawson Tools. Category: Industrial & Scientific. Price: $14.00\n"
     ]
    }
   ],
   "source": []
  },
  {
   "cell_type": "code",
   "execution_count": null,
   "metadata": {},
   "outputs": [],
   "source": []
  },
  {
   "cell_type": "code",
   "execution_count": 8,
   "metadata": {},
   "outputs": [
    {
     "name": "stdout",
     "output_type": "stream",
     "text": [
      "Below is a customer's purchase history on Amazon, listed in chronological order (earliest to latest). \n",
      "Each item is represented by the following format: Title: <item title> Category: <item category> Brand: <item brand> Price: <item price>.\n",
      "Based on this history, predict **only one** item the customer is most likely to purchase next in the same format.\n",
      "\n",
      "### Purchase history:\n",
      "Title: 18-8 Stainless Steel Flat Washer, Plain Finish, Meets DIN 125, M3 Hole Size, 3.2mm ID, 7mm OD, 0.5mm Nominal Thickness (Pack of 100). Brand: Small Parts. Category: Industrial & Scientific. Price: $2.00\n",
      "Title: Steel Lock Nut, Plain Finish, Gray (Pack of 100). Brand: Small Parts. Category: Industrial & Scientific. Price: $7.63\n",
      "Title: Steel Socket Cap Screw, Black Oxide, Plain Finish, Internal Hex Drive, Meets DIN 912, 12mm Length, Fully Threaded, M3-0.5 Metric Coarse Threads (Pack of 100). Brand: Small Parts. Category: Industrial & Scientific. Price: $11.95\n",
      "Title: SEOH 5 Pack Glass Borosilicate Graduated Beakers 50 100 250 600 and 1000ml. Brand: SEOH. Category: Industrial & Scientific. Price: Unknown\n",
      "\n",
      "### Next item:\n",
      "Title: Capri Tools 10019 Assorted Heat Shrink Tubing for Wires and Cables. Brand: Capri Tools. Category: Tools & Home Improvement. Price: $6.00\n"
     ]
    }
   ],
   "source": [
    "print(test_dataset['test_text'][1] + test_dataset['test_asin_text'][1])"
   ]
  },
  {
   "cell_type": "code",
   "execution_count": 20,
   "metadata": {},
   "outputs": [
    {
     "data": {
      "text/plain": [
       "493"
      ]
     },
     "execution_count": 20,
     "metadata": {},
     "output_type": "execute_result"
    }
   ],
   "source": [
    "import torch\n",
    "import gc\n",
    "\n",
    "# Delete model and tokenizer\n",
    "# del model\n",
    "# del tokenizer\n",
    "\n",
    "# Clear CUDA memory\n",
    "torch.cuda.empty_cache()\n",
    "\n",
    "# Force garbage collection\n",
    "gc.collect()"
   ]
  },
  {
   "cell_type": "code",
   "execution_count": 13,
   "metadata": {},
   "outputs": [
    {
     "name": "stdout",
     "output_type": "stream",
     "text": [
      "🦥 Unsloth: Will patch your computer to enable 2x faster free finetuning.\n",
      "🦥 Unsloth Zoo will now patch everything to make training faster!\n",
      "==((====))==  Unsloth 2025.2.15: Fast Llama patching. Transformers: 4.49.0.\n",
      "   \\\\   /|    GPU: NVIDIA RTX A5000. Max memory: 23.679 GB. Platform: Linux.\n",
      "O^O/ \\_/ \\    Torch: 2.6.0+cu124. CUDA: 8.6. CUDA Toolkit: 12.4. Triton: 3.2.0\n",
      "\\        /    Bfloat16 = TRUE. FA [Xformers = 0.0.29.post3. FA2 = False]\n",
      " \"-____-\"     Free Apache license: http://github.com/unslothai/unsloth\n",
      "Unsloth: Fast downloading is enabled - ignore downloading bars which are red colored!\n",
      "left right <|finetune_right_pad_id|> <|end_of_text|> <|begin_of_text|> 131071\n"
     ]
    }
   ],
   "source": [
    "from unsloth import FastLanguageModel\n",
    "max_seq_length = 8192 # Choose any! We auto support RoPE Scaling internally!\n",
    "dtype = None # None for auto detection. Float16 for Tesla T4, V100, Bfloat16 for Ampere+\n",
    "load_in_4bit = True # Use 4bit quantization to reduce memory usage. Can be False.\n",
    "\n",
    "# 4bit pre quantized models we support for 4x faster downloading + no OOMs.\n",
    "model, tokenizer = FastLanguageModel.from_pretrained(\n",
    "    model_name = \"unsloth/Meta-Llama-3.1-8B\",\n",
    "    max_seq_length = max_seq_length,\n",
    "    dtype = dtype,\n",
    "    load_in_4bit = load_in_4bit,\n",
    ")\n",
    "FastLanguageModel.for_inference(model) # Enable native 2x faster inference\n",
    "print(tokenizer.padding_side, tokenizer.truncation_side, \\\n",
    "      tokenizer.pad_token, tokenizer.eos_token, tokenizer.bos_token, \\\n",
    "      tokenizer.max_len_single_sentence\n",
    "    )"
   ]
  },
  {
   "cell_type": "code",
   "execution_count": 22,
   "metadata": {},
   "outputs": [
    {
     "data": {
      "text/plain": [
       "(dict, datasets.arrow_dataset.Dataset)"
      ]
     },
     "execution_count": 22,
     "metadata": {},
     "output_type": "execute_result"
    }
   ],
   "source": [
    "type(val_dataset[:10]), type(val_dataset)"
   ]
  },
  {
   "cell_type": "code",
   "execution_count": null,
   "metadata": {},
   "outputs": [],
   "source": []
  },
  {
   "cell_type": "code",
   "execution_count": 2,
   "metadata": {},
   "outputs": [
    {
     "ename": "NameError",
     "evalue": "name 'asins_compact' is not defined",
     "output_type": "error",
     "traceback": [
      "\u001b[0;31m---------------------------------------------------------------------------\u001b[0m",
      "\u001b[0;31mNameError\u001b[0m                                 Traceback (most recent call last)",
      "Cell \u001b[0;32mIn[2], line 1\u001b[0m\n\u001b[0;32m----> 1\u001b[0m products \u001b[38;5;241m=\u001b[39m \u001b[43masins_compact\u001b[49m[\u001b[38;5;124m'\u001b[39m\u001b[38;5;124mnlang\u001b[39m\u001b[38;5;124m'\u001b[39m]\u001b[38;5;241m.\u001b[39mto_list()\n\u001b[1;32m      3\u001b[0m \u001b[38;5;28mprint\u001b[39m(products)\n\u001b[1;32m      5\u001b[0m product_toklens \u001b[38;5;241m=\u001b[39m [\u001b[38;5;28mlen\u001b[39m(tokenizer\u001b[38;5;241m.\u001b[39mencode(text)) \u001b[38;5;28;01mfor\u001b[39;00m text \u001b[38;5;129;01min\u001b[39;00m products]\n",
      "\u001b[0;31mNameError\u001b[0m: name 'asins_compact' is not defined"
     ]
    }
   ],
   "source": [
    "products = asins_compact['nlang'].to_list()\n",
    "\n",
    "print(products)\n",
    "\n",
    "product_toklens = [len(tokenizer.encode(text)) for text in products]"
   ]
  },
  {
   "cell_type": "code",
   "execution_count": 1,
   "metadata": {},
   "outputs": [
    {
     "ename": "NameError",
     "evalue": "name 'product_toklens' is not defined",
     "output_type": "error",
     "traceback": [
      "\u001b[0;31m---------------------------------------------------------------------------\u001b[0m",
      "\u001b[0;31mNameError\u001b[0m                                 Traceback (most recent call last)",
      "Cell \u001b[0;32mIn[1], line 6\u001b[0m\n\u001b[1;32m      2\u001b[0m \u001b[38;5;28;01mimport\u001b[39;00m\u001b[38;5;250m \u001b[39m\u001b[38;5;21;01mnumpy\u001b[39;00m\u001b[38;5;250m \u001b[39m\u001b[38;5;28;01mas\u001b[39;00m\u001b[38;5;250m \u001b[39m\u001b[38;5;21;01mnp\u001b[39;00m\n\u001b[1;32m      5\u001b[0m \u001b[38;5;66;03m# Plot a histogram of the token lengths in the list product_toklens, also add vertical lines for mean and sd\u001b[39;00m\n\u001b[0;32m----> 6\u001b[0m plt\u001b[38;5;241m.\u001b[39mhist(\u001b[43mproduct_toklens\u001b[49m, bins\u001b[38;5;241m=\u001b[39m\u001b[38;5;241m30\u001b[39m, edgecolor\u001b[38;5;241m=\u001b[39m\u001b[38;5;124m'\u001b[39m\u001b[38;5;124mblack\u001b[39m\u001b[38;5;124m'\u001b[39m)\n\u001b[1;32m      7\u001b[0m plt\u001b[38;5;241m.\u001b[39maxvline(np\u001b[38;5;241m.\u001b[39mmean(product_toklens), color\u001b[38;5;241m=\u001b[39m\u001b[38;5;124m'\u001b[39m\u001b[38;5;124mred\u001b[39m\u001b[38;5;124m'\u001b[39m, linestyle\u001b[38;5;241m=\u001b[39m\u001b[38;5;124m'\u001b[39m\u001b[38;5;124mdashed\u001b[39m\u001b[38;5;124m'\u001b[39m, linewidth\u001b[38;5;241m=\u001b[39m\u001b[38;5;241m1\u001b[39m, label\u001b[38;5;241m=\u001b[39m\u001b[38;5;124m'\u001b[39m\u001b[38;5;124mMean\u001b[39m\u001b[38;5;124m'\u001b[39m)\n\u001b[1;32m      8\u001b[0m plt\u001b[38;5;241m.\u001b[39maxvline(np\u001b[38;5;241m.\u001b[39mmean(product_toklens) \u001b[38;5;241m+\u001b[39m np\u001b[38;5;241m.\u001b[39mstd(product_toklens), color\u001b[38;5;241m=\u001b[39m\u001b[38;5;124m'\u001b[39m\u001b[38;5;124mblue\u001b[39m\u001b[38;5;124m'\u001b[39m, linestyle\u001b[38;5;241m=\u001b[39m\u001b[38;5;124m'\u001b[39m\u001b[38;5;124mdashed\u001b[39m\u001b[38;5;124m'\u001b[39m, linewidth\u001b[38;5;241m=\u001b[39m\u001b[38;5;241m1\u001b[39m, label\u001b[38;5;241m=\u001b[39m\u001b[38;5;124m'\u001b[39m\u001b[38;5;124mMean + SD\u001b[39m\u001b[38;5;124m'\u001b[39m)\n",
      "\u001b[0;31mNameError\u001b[0m: name 'product_toklens' is not defined"
     ]
    }
   ],
   "source": [
    "import matplotlib.pyplot as plt\n",
    "import numpy as np\n",
    "\n",
    "\n",
    "# Plot a histogram of the token lengths in the list product_toklens, also add vertical lines for mean and sd\n",
    "plt.hist(product_toklens, bins=30, edgecolor='black')\n",
    "plt.axvline(np.mean(product_toklens), color='red', linestyle='dashed', linewidth=1, label='Mean')\n",
    "plt.axvline(np.mean(product_toklens) + np.std(product_toklens), color='blue', linestyle='dashed', linewidth=1, label='Mean + SD')\n",
    "plt.axvline(np.mean(product_toklens) - np.std(product_toklens), color='blue', linestyle='dashed', linewidth=1, label='Mean - SD')\n",
    "plt.xlabel('Token Length')\n",
    "plt.ylabel('Frequency')\n",
    "plt.title('Histogram of Token Lengths')\n",
    "plt.legend()\n",
    "plt.show()"
   ]
  },
  {
   "cell_type": "code",
   "execution_count": 16,
   "metadata": {},
   "outputs": [],
   "source": [
    "# find the number of tokens after tokenizer in each of the test_text \n",
    "token_lengths = [len(tokenizer.encode(text)) for text in test_dataset['test_text']]\n"
   ]
  },
  {
   "cell_type": "code",
   "execution_count": 17,
   "metadata": {},
   "outputs": [
    {
     "data": {
      "text/plain": [
       "4620"
      ]
     },
     "execution_count": 17,
     "metadata": {},
     "output_type": "execute_result"
    }
   ],
   "source": [
    "max(token_lengths)"
   ]
  },
  {
   "cell_type": "code",
   "execution_count": 19,
   "metadata": {},
   "outputs": [
    {
     "data": {
      "text/plain": [
       "('A0196552RI15HI7JB9PW', 'A0196552RI15HI7JB9PW', 'A100WO06OQR8BQ')"
      ]
     },
     "execution_count": 19,
     "metadata": {},
     "output_type": "execute_result"
    }
   ],
   "source": [
    "train_dataset['reviewer_id'][1], test_dataset['reviewer_id'][1], val_dataset['reviewer_id'][1]"
   ]
  },
  {
   "cell_type": "code",
   "execution_count": null,
   "metadata": {},
   "outputs": [
    {
     "data": {
      "text/plain": [
       "Dataset({\n",
       "    features: ['Name', 'Age', 'City'],\n",
       "    num_rows: 3\n",
       "})"
      ]
     },
     "execution_count": 11,
     "metadata": {},
     "output_type": "execute_result"
    }
   ],
   "source": [
    "from datasets import Dataset, DatasetDict, load_dataset\n",
    "test_records = [\n",
    "    {\"Name\": \"Alice\", \"Age\": 25, \"City\": \"New York\"},\n",
    "    {\"Name\": \"Bob\", \"Age\": 30, \"City\": \"San Francisco\"},\n",
    "    {\"Name\": \"Charlie\", \"Age\": 28, \"City\": \"Los Angeles\"}\n",
    "]\n",
    "\n",
    "# Create DataFrame\n",
    "df = pd.DataFrame(test_records)\n",
    "d_t = Dataset.from_pandas(df)\n",
    "\n",
    "d_t\n"
   ]
  },
  {
   "cell_type": "code",
   "execution_count": null,
   "metadata": {},
   "outputs": [
    {
     "name": "stderr",
     "output_type": "stream",
     "text": [
      "WARNING:2025-03-25 22:18:15,842:jax._src.xla_bridge:967: An NVIDIA GPU may be present on this machine, but a CUDA-enabled jaxlib is not installed. Falling back to cpu.\n"
     ]
    },
    {
     "data": {
      "application/vnd.jupyter.widget-view+json": {
       "model_id": "184defdfb4054333b8e3e2070241302a",
       "version_major": 2,
       "version_minor": 0
      },
      "text/plain": [
       "Split strings:   0%|          | 0/4 [00:00<?, ?it/s]"
      ]
     },
     "metadata": {},
     "output_type": "display_data"
    },
    {
     "data": {
      "application/vnd.jupyter.widget-view+json": {
       "model_id": "0f1c9056f97b48aa84be7b891aa575ba",
       "version_major": 2,
       "version_minor": 0
      },
      "text/plain": [
       "Stem Tokens:   0%|          | 0/4 [00:00<?, ?it/s]"
      ]
     },
     "metadata": {},
     "output_type": "display_data"
    },
    {
     "data": {
      "application/vnd.jupyter.widget-view+json": {
       "model_id": "31cb0da39d7644488f82f99713687a01",
       "version_major": 2,
       "version_minor": 0
      },
      "text/plain": [
       "BM25S Count Tokens:   0%|          | 0/4 [00:00<?, ?it/s]"
      ]
     },
     "metadata": {},
     "output_type": "display_data"
    },
    {
     "data": {
      "application/vnd.jupyter.widget-view+json": {
       "model_id": "05d6f8db07964405b596fcec9f1e492a",
       "version_major": 2,
       "version_minor": 0
      },
      "text/plain": [
       "BM25S Compute Scores:   0%|          | 0/4 [00:00<?, ?it/s]"
      ]
     },
     "metadata": {},
     "output_type": "display_data"
    },
    {
     "data": {
      "application/vnd.jupyter.widget-view+json": {
       "model_id": "39fe84080055404cb936e26313d8f63d",
       "version_major": 2,
       "version_minor": 0
      },
      "text/plain": [
       "Finding newlines for mmindex:   0%|          | 0.00/252 [00:00<?, ?B/s]"
      ]
     },
     "metadata": {},
     "output_type": "display_data"
    }
   ],
   "source": []
  },
  {
   "cell_type": "code",
   "execution_count": 2,
   "metadata": {},
   "outputs": [
    {
     "data": {
      "application/vnd.jupyter.widget-view+json": {
       "model_id": "2626158558f941cca655718f0c1b5571",
       "version_major": 2,
       "version_minor": 0
      },
      "text/plain": [
       "Split strings:   0%|          | 0/2 [00:00<?, ?it/s]"
      ]
     },
     "metadata": {},
     "output_type": "display_data"
    },
    {
     "data": {
      "application/vnd.jupyter.widget-view+json": {
       "model_id": "baab12771ae34825a83001446e37ac84",
       "version_major": 2,
       "version_minor": 0
      },
      "text/plain": [
       "Stem Tokens:   0%|          | 0/2 [00:00<?, ?it/s]"
      ]
     },
     "metadata": {},
     "output_type": "display_data"
    },
    {
     "name": "stdout",
     "output_type": "stream",
     "text": [
      "Tokenized(ids=[[3, 6, 2, 7], [4, 8, 5, 0, 1]], vocab={'friend': 0, 'fli': 1, 'doesn': 2, 'what': 3, 'dog': 4, 'best': 5, 'cat': 6, 'purr': 7, 'human': 8})\n"
     ]
    },
    {
     "data": {
      "application/vnd.jupyter.widget-view+json": {
       "model_id": "744f093b69b44f74b532ec328db04770",
       "version_major": 2,
       "version_minor": 0
      },
      "text/plain": [
       "BM25S Retrieve:   0%|          | 0/2 [00:00<?, ?it/s]"
      ]
     },
     "metadata": {},
     "output_type": "display_data"
    },
    {
     "name": "stdout",
     "output_type": "stream",
     "text": [
      "[[{'id': 0, 'text': 'a cat is a feline and likes to purr'}]\n",
      " [{'id': 1, 'text': \"a dog is the human's best friend and loves to play\"}]] [[1.0584376]\n",
      " [1.7672995]]\n",
      "<class 'numpy.ndarray'> <class 'numpy.ndarray'>\n"
     ]
    }
   ],
   "source": [
    "queries = [\"What is a cat that doesn't purr?\", \"a dog is the human's best friend and flies\"]\n",
    "\n",
    "query_tokens_ids = bm25s.tokenize(queries, stemmer=stemmer)\n",
    "\n",
    "print(query_tokens_ids)\n",
    "results, scores = retriever.retrieve(query_tokens_ids, k=1) # both results and scores have shape #queries x k, indices have the topk indices of the docs in corpus\n",
    "print(results, scores)\n",
    "print(type(results), type(scores))\n"
   ]
  },
  {
   "cell_type": "code",
   "execution_count": 6,
   "metadata": {},
   "outputs": [],
   "source": [
    "from collections import defaultdict\n",
    "from datasets import load_from_disk\n",
    "from src.utils.project_dirs import get_hfdata_dir\n",
    "\n",
    "ds = load_from_disk(str(get_hfdata_dir() / \"Amzn_scientific_2018\"))\n"
   ]
  },
  {
   "cell_type": "code",
   "execution_count": 7,
   "metadata": {},
   "outputs": [
    {
     "data": {
      "text/plain": [
       "DatasetDict({\n",
       "    train: Dataset({\n",
       "        features: ['reviewer_id', 'text'],\n",
       "        num_rows: 10970\n",
       "    })\n",
       "    validation: Dataset({\n",
       "        features: ['reviewer_id', 'text', 'asin', 'asin_text'],\n",
       "        num_rows: 512\n",
       "    })\n",
       "    test: Dataset({\n",
       "        features: ['reviewer_id', 'text', 'asin', 'asin_text'],\n",
       "        num_rows: 10970\n",
       "    })\n",
       "})"
      ]
     },
     "execution_count": 7,
     "metadata": {},
     "output_type": "execute_result"
    }
   ],
   "source": [
    "ds"
   ]
  },
  {
   "cell_type": "code",
   "execution_count": 8,
   "metadata": {},
   "outputs": [
    {
     "data": {
      "text/plain": [
       "{'reviewer_id': 'A0096681Y127OL1H8W3U',\n",
       " 'text': \"Below is a customer's purchase history on Amazon, listed in chronological order (earliest to latest). \\nEach item is represented by the following format: Title: <item title> Category: <item category> Brand: <item brand> Price: <item price>.\\nBased on this history, predict **only one** item the customer is most likely to purchase next in the same format.\\n\\n### Purchase history:\\nTitle: Herbal Choice Mari Natural Toothgel, Cinnamon &amp; Baking Soda; 3.4floz Glass. Brand: Nature's Brands. Category: Health & Personal Care. Price: $14.47\\nTitle: Pac-Kit by First Aid Only 25-450 Cotton Tipped Applicator with 6&quot; Wooden Shaft (Bag of 100). Brand: First Aid Only. Category: Industrial & Scientific. Price: Unknown\\n\\n### Next item:\\nTitle: Litmus pH Test Strips, Universal Application (pH 1-14), 2 Packs of 100 Strips. Brand: LabRat Supplies. Category: Industrial & Scientific. Price: Unknown\"}"
      ]
     },
     "execution_count": 8,
     "metadata": {},
     "output_type": "execute_result"
    }
   ],
   "source": [
    "ds['train'][0]"
   ]
  },
  {
   "cell_type": "code",
   "execution_count": 10,
   "metadata": {},
   "outputs": [
    {
     "name": "stdout",
     "output_type": "stream",
     "text": [
      "Below is a customer's purchase history on Amazon, listed in chronological order (earliest to latest). \n",
      "Each item is represented by the following format: Title: <item title> Category: <item category> Brand: <item brand> Price: <item price>.\n",
      "Based on this history, predict **only one** item the customer is most likely to purchase next in the same format.\n",
      "\n",
      "### Purchase history:\n",
      "Title: Herbal Choice Mari Natural Toothgel, Cinnamon &amp; Baking Soda; 3.4floz Glass. Brand: Nature's Brands. Category: Health & Personal Care. Price: $14.47\n",
      "Title: Pac-Kit by First Aid Only 25-450 Cotton Tipped Applicator with 6&quot; Wooden Shaft (Bag of 100). Brand: First Aid Only. Category: Industrial & Scientific. Price: Unknown\n",
      "\n",
      "### Next item:\n",
      "Title: Litmus pH Test Strips, Universal Application (pH 1-14), 2 Packs of 100 Strips. Brand: LabRat Supplies. Category: Industrial & Scientific. Price: Unknown\n"
     ]
    }
   ],
   "source": [
    "print(ds['train'][0]['text'])"
   ]
  },
  {
   "cell_type": "code",
   "execution_count": 9,
   "metadata": {},
   "outputs": [
    {
     "data": {
      "text/plain": [
       "{'reviewer_id': 'A0096681Y127OL1H8W3U',\n",
       " 'text': \"Below is a customer's purchase history on Amazon, listed in chronological order (earliest to latest). \\nEach item is represented by the following format: Title: <item title> Category: <item category> Brand: <item brand> Price: <item price>.\\nBased on this history, predict **only one** item the customer is most likely to purchase next in the same format.\\n\\n### Purchase history:\\nTitle: Herbal Choice Mari Natural Toothgel, Cinnamon &amp; Baking Soda; 3.4floz Glass. Brand: Nature's Brands. Category: Health & Personal Care. Price: $14.47\\nTitle: Pac-Kit by First Aid Only 25-450 Cotton Tipped Applicator with 6&quot; Wooden Shaft (Bag of 100). Brand: First Aid Only. Category: Industrial & Scientific. Price: Unknown\\nTitle: Litmus pH Test Strips, Universal Application (pH 1-14), 2 Packs of 100 Strips. Brand: LabRat Supplies. Category: Industrial & Scientific. Price: Unknown\\n\\n### Next item:\\n\",\n",
       " 'asin': 'B0098MLBAO',\n",
       " 'asin_text': \"Title: Herbal Choice Mari Natural Toothgel, Cinnamon &amp; Baking Soda; 3.4floz Glass. Brand: Nature's Brands. Category: Health & Personal Care. Price: $14.47\"}"
      ]
     },
     "execution_count": 9,
     "metadata": {},
     "output_type": "execute_result"
    }
   ],
   "source": [
    "ds['test'][0]"
   ]
  },
  {
   "cell_type": "code",
   "execution_count": 11,
   "metadata": {},
   "outputs": [
    {
     "name": "stdout",
     "output_type": "stream",
     "text": [
      "Below is a customer's purchase history on Amazon, listed in chronological order (earliest to latest). \n",
      "Each item is represented by the following format: Title: <item title> Category: <item category> Brand: <item brand> Price: <item price>.\n",
      "Based on this history, predict **only one** item the customer is most likely to purchase next in the same format.\n",
      "\n",
      "### Purchase history:\n",
      "Title: Herbal Choice Mari Natural Toothgel, Cinnamon &amp; Baking Soda; 3.4floz Glass. Brand: Nature's Brands. Category: Health & Personal Care. Price: $14.47\n",
      "Title: Pac-Kit by First Aid Only 25-450 Cotton Tipped Applicator with 6&quot; Wooden Shaft (Bag of 100). Brand: First Aid Only. Category: Industrial & Scientific. Price: Unknown\n",
      "Title: Litmus pH Test Strips, Universal Application (pH 1-14), 2 Packs of 100 Strips. Brand: LabRat Supplies. Category: Industrial & Scientific. Price: Unknown\n",
      "\n",
      "### Next item:\n",
      "\n"
     ]
    }
   ],
   "source": [
    "print(ds['test'][0]['text'])"
   ]
  }
 ],
 "metadata": {
  "kernelspec": {
   "display_name": "Python 3",
   "language": "python",
   "name": "python3"
  },
  "language_info": {
   "codemirror_mode": {
    "name": "ipython",
    "version": 3
   },
   "file_extension": ".py",
   "mimetype": "text/x-python",
   "name": "python",
   "nbconvert_exporter": "python",
   "pygments_lexer": "ipython3",
   "version": "3.10.16"
  }
 },
 "nbformat": 4,
 "nbformat_minor": 2
}
