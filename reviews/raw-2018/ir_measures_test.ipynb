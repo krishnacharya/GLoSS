{
 "cells": [
  {
   "cell_type": "code",
   "execution_count": 43,
   "metadata": {},
   "outputs": [],
   "source": [
    "import numpy as np\n",
    "def compute_metrics_manual(predicted_asins: dict[str, float], true_asin: str, k=10):\n",
    "    '''\n",
    "        Compute metrics manually for one user\n",
    "        compute r@k, mrr@k, ndcg@k\n",
    "    '''\n",
    "    recall, mrr, dcg = 0, 0, 0\n",
    "\n",
    "    # Sort predicted_asins by score (descending), predicted_asins is a dictionary\n",
    "    predicted_asins = sorted(predicted_asins.items(), key=lambda x: x[1], reverse=True)\n",
    "    for i, (asin, _) in enumerate(predicted_asins[:k]):\n",
    "        if asin == true_asin:\n",
    "            recall = 1\n",
    "            rank = i + 1  # 1-based index\n",
    "            mrr = 1 / rank\n",
    "            dcg = 1 / np.log2(rank + 1)  # DCG formula\n",
    "            break  # Stop searching after the first match\n",
    "\n",
    "    idcg = 1 # Best possible DCG is 1/log_2(2) if found, else avoid zero-division see formula \\sum_{rank i} rel_i/log_2(rank_i+1), rank starts from 1\n",
    "    ndcg = dcg if recall else 0  # Normalize only if recall@k is non zero\n",
    "    return recall, mrr, ndcg"
   ]
  },
  {
   "cell_type": "code",
   "execution_count": 44,
   "metadata": {},
   "outputs": [
    {
     "name": "stdout",
     "output_type": "stream",
     "text": [
      "(0, 0, 0)\n",
      "(1, 1.0, np.float64(1.0))\n"
     ]
    }
   ],
   "source": [
    "# this is for testing manual with the package implementations later (ranx, ir_measures)\n",
    "qrels_dict =  {'reviewer_1': {'asin_1': 1}, 'reviewer_2': {'asin_2': 1 }} # target item for reviewer_1 is asin_1, reviewer_2 is asin_2\n",
    "\n",
    "run_dict = {'reviewer_1': {'asin_1': 5, 'asin_2': 10, 'asin_3': 40, 'asin_4': 3}, \\\n",
    " 'reviewer_2': {'asin_10': 5, 'asin_2': 11, 'asin_3':0.1, 'asin_4': 0.2}} \n",
    "\n",
    "\n",
    "print(compute_metrics_manual(run_dict['reviewer_1'], 'asin_1', k=2))\n",
    "print(compute_metrics_manual(run_dict['reviewer_2'], 'asin_2', k=2))\n",
    "# run_dict['reviewer_1']\n"
   ]
  },
  {
   "cell_type": "code",
   "execution_count": null,
   "metadata": {},
   "outputs": [
    {
     "name": "stdout",
     "output_type": "stream",
     "text": [
      "  reviewer_id    asin  score\n",
      "0  reviewer_1  asin_1    5.1\n",
      "1  reviewer_1  asin_1    1.1\n",
      "2  reviewer_1  asin_2   10.1\n",
      "3  reviewer_1  asin_2  100.1\n",
      "4  reviewer_2  asin_2    1.0\n",
      "5  reviewer_2  asin_1   10.0\n",
      "6  reviewer_2  asin_1  100.0\n"
     ]
    },
    {
     "data": {
      "text/plain": [
       "defaultdict(dict,\n",
       "            {'recall@2': {'reviewer_1': np.float64(1.0),\n",
       "              'reviewer_2': np.float64(1.0)},\n",
       "             'ndcg@2': {'reviewer_1': np.float64(0.6309297535714575),\n",
       "              'reviewer_2': np.float64(0.6309297535714575)}})"
      ]
     },
     "execution_count": 19,
     "metadata": {},
     "output_type": "execute_result"
    }
   ],
   "source": [
    "import pandas as pd\n",
    "from ranx import Qrels, Run, evaluate\n",
    "qrels_dict =  {'reviewer_1': {'asin_1': 1}, 'reviewer_2': {'asin_2': 1 }}\n",
    "\n",
    "run_list = [{'reviewer_id': 'reviewer_1', 'asin': 'asin_1', 'score': 5.1}, \\\n",
    "            {'reviewer_id': 'reviewer_1', 'asin': 'asin_1', 'score': 1.1}, \\\n",
    "            {'reviewer_id': 'reviewer_1', 'asin': 'asin_2', 'score': 10.1}, \\\n",
    "            {'reviewer_id': 'reviewer_1', 'asin': 'asin_2', 'score': 100.1}, \\\n",
    "            \n",
    "            {'reviewer_id': 'reviewer_2', 'asin': 'asin_2', 'score': 1}, \\\n",
    "            {'reviewer_id': 'reviewer_2', 'asin': 'asin_1', 'score': 10},\n",
    "            {'reviewer_id': 'reviewer_2', 'asin': 'asin_1', 'score': 100}\n",
    "            ]\n",
    "df_run = pd.DataFrame(run_list)\n",
    "print(df_run)\n",
    "\n",
    "\n",
    "qrels = Qrels(qrels_dict)\n",
    "run = Run.from_df(df_run, q_id_col='reviewer_id', doc_id_col='asin', score_col='score') # score_col must be floats?\n",
    "evaluate(qrels, run, [\"recall@2\",\"ndcg@2\"])\n",
    "run.scores"
   ]
  },
  {
   "cell_type": "code",
   "execution_count": 17,
   "metadata": {},
   "outputs": [
    {
     "data": {
      "text/plain": [
       "DictType[unicode_type,DictType[[unichr x 6],int64]<iv=None>]<iv=None>({reviewer_1: {asin_1: 1}, reviewer_2: {asin_2: 1}})"
      ]
     },
     "execution_count": 17,
     "metadata": {},
     "output_type": "execute_result"
    }
   ],
   "source": [
    "qrels"
   ]
  },
  {
   "cell_type": "code",
   "execution_count": null,
   "metadata": {},
   "outputs": [
    {
     "data": {
      "text/plain": [
       "np.float64(0.5)"
      ]
     },
     "execution_count": 51,
     "metadata": {},
     "output_type": "execute_result"
    }
   ],
   "source": [
    "from ranx import Qrels, Run, evaluate\n",
    "\n",
    "# ranx example:\n",
    "qrels_dict =  {'reviewer_1': {'asin_12': 1, 'asin_25': 1}, 'reviewer_2': {'asin_11': 1, 'asin_22': 1}}\n",
    "run_dict = {'reviewer_1': {'asin_12': 0.9, 'asin_23': 0.8, 'asin_25': 0.7, 'asin_36': 0.6, 'asin_32': 0.5, 'asin_35': 0.4}, \n",
    " 'reviewer_2': {'asin_12': 0.9, 'asin_11': 0.8, 'asin_25': 0.7, 'asin_36': 0.6, 'asin_22': 0.5, 'asin_35': 0.4}}\n",
    "\n",
    "## default Dict[str, Dict[str, int]] # from_dict(d) staticmethod\n",
    "# Convert a Python dictionary in form of {q_id: {doc_id: score}} to ranx.Qrels.\n",
    "\n",
    "## from_dict(d, name=None) staticmethod # Convert a Python dictionary in form of {q_id: {doc_id: score}} to ranx.Run.\n",
    "\n",
    "qrels = Qrels(qrels_dict)\n",
    "run = Run(run_dict)\n",
    "\n",
    "evaluate(qrels, run, [\"recall@2-l1\"]) #can also use -l1 to ignore those docs in qrel with\n",
    "#relevance < 1 https://github.com/AmenRa/ranx/issues/58#issuecomment-1798219508\n"
   ]
  },
  {
   "cell_type": "code",
   "execution_count": 7,
   "metadata": {},
   "outputs": [
    {
     "data": {
      "text/plain": [
       "{'reviewer_1': {'asin_1': 10}, 'reviewer_2': {'asin_2': 10}}"
      ]
     },
     "execution_count": 7,
     "metadata": {},
     "output_type": "execute_result"
    }
   ],
   "source": [
    "qrels_dict"
   ]
  },
  {
   "cell_type": "code",
   "execution_count": null,
   "metadata": {},
   "outputs": [
    {
     "data": {
      "text/plain": [
       "defaultdict(dict,\n",
       "            {'recall@3': {'reviewer_1': np.float64(1.0),\n",
       "              'reviewer_2': np.float64(1.0)},\n",
       "             'mrr@3': {'reviewer_1': np.float64(0.3333333333333333),\n",
       "              'reviewer_2': np.float64(1.0)},\n",
       "             'ndcg@3': {'reviewer_1': np.float64(0.5),\n",
       "              'reviewer_2': np.float64(1.0)}})"
      ]
     },
     "execution_count": 8,
     "metadata": {},
     "output_type": "execute_result"
    }
   ],
   "source": [
    "qrels = Qrels(qrels_dict)\n",
    "run = Run(run_dict)\n",
    "\n",
    "evaluate(qrels, run, [\"recall@3\",\"mrr@3\", \"ndcg@3\"]) \n",
    "\n",
    "run.scores"
   ]
  },
  {
   "cell_type": "code",
   "execution_count": null,
   "metadata": {},
   "outputs": [
    {
     "data": {
      "text/plain": [
       "{'recall@4': np.float64(0.75),\n",
       " 'ndcg@4': np.float64(0.7569557807573265),\n",
       " 'recall@3': np.float64(0.75),\n",
       " 'ndcg@3': np.float64(0.7569557807573265)}"
      ]
     },
     "execution_count": 24,
     "metadata": {},
     "output_type": "execute_result"
    }
   ],
   "source": [
    "# run.mean_scores"
   ]
  },
  {
   "cell_type": "code",
   "execution_count": 45,
   "metadata": {},
   "outputs": [
    {
     "name": "stdout",
     "output_type": "stream",
     "text": [
      "Qrels DataFrame:\n",
      "     query_id  doc_id  relevance\n",
      "0  reviewer_1  asin_1          1\n",
      "1  reviewer_2  asin_2          1\n",
      "\n",
      "Run DataFrame:\n",
      "     query_id   doc_id  score\n",
      "0  reviewer_1   asin_1    5.0\n",
      "1  reviewer_1   asin_2   10.0\n",
      "2  reviewer_1   asin_3   40.0\n",
      "3  reviewer_1   asin_4    3.0\n",
      "4  reviewer_2  asin_10    5.0\n",
      "5  reviewer_2   asin_2   11.0\n",
      "6  reviewer_2   asin_3    0.1\n",
      "7  reviewer_2   asin_4    0.2\n"
     ]
    }
   ],
   "source": [
    "import pandas as pd\n",
    "\n",
    "# Convert qrels_dict to a DataFrame with columns: query_id, doc_id, relevance\n",
    "qrels_data = [\n",
    "    {\"query_id\": query, \"doc_id\": doc, \"relevance\": relevance}\n",
    "    for query, docs in qrels_dict.items()\n",
    "    for doc, relevance in docs.items()\n",
    "]\n",
    "qrels_df = pd.DataFrame(qrels_data)\n",
    "\n",
    "# Convert run_dict to a DataFrame with columns: query, doc, score\n",
    "run_data = [\n",
    "{\"query_id\": query, \"doc_id\": doc, \"score\": score}\n",
    "    for query, docs in run_dict.items()\n",
    "    for doc, score in docs.items()\n",
    "]\n",
    "run_df = pd.DataFrame(run_data)\n",
    "\n",
    "# Display the DataFrames\n",
    "print(\"Qrels DataFrame:\")\n",
    "print(qrels_df)\n",
    "print(\"\\nRun DataFrame:\")\n",
    "print(run_df)"
   ]
  },
  {
   "cell_type": "code",
   "execution_count": 28,
   "metadata": {},
   "outputs": [],
   "source": [
    "# checking robustness to shuffling\n",
    "qrels_df = qrels_df.sample(frac=1, random_state=42).reset_index(drop=True)\n",
    "runs_df = run_df.sample(frac=1, random_state=42).reset_index(drop=True)\n",
    "\n",
    "qrels = Qrels.from_df(qrels_df, q_id_col='query_id', doc_id_col='doc_id', score_col='relevance')\n",
    "run = Run.from_df(run_df, q_id_col='query_id', doc_id_col='doc_id', score_col='score')\n"
   ]
  },
  {
   "cell_type": "code",
   "execution_count": 29,
   "metadata": {},
   "outputs": [
    {
     "data": {
      "text/plain": [
       "{'recall@3': np.float64(0.75), 'ndcg@3': np.float64(0.7569557807573265)}"
      ]
     },
     "execution_count": 29,
     "metadata": {},
     "output_type": "execute_result"
    }
   ],
   "source": [
    "evaluate(qrels, run, [\"recall@3\",\"ndcg@3\"])\n",
    "run.mean_scores"
   ]
  },
  {
   "cell_type": "code",
   "execution_count": 23,
   "metadata": {},
   "outputs": [
    {
     "data": {
      "text/html": [
       "<div>\n",
       "<style scoped>\n",
       "    .dataframe tbody tr th:only-of-type {\n",
       "        vertical-align: middle;\n",
       "    }\n",
       "\n",
       "    .dataframe tbody tr th {\n",
       "        vertical-align: top;\n",
       "    }\n",
       "\n",
       "    .dataframe thead th {\n",
       "        text-align: right;\n",
       "    }\n",
       "</style>\n",
       "<table border=\"1\" class=\"dataframe\">\n",
       "  <thead>\n",
       "    <tr style=\"text-align: right;\">\n",
       "      <th></th>\n",
       "      <th>query_id</th>\n",
       "      <th>doc_id</th>\n",
       "      <th>relevance</th>\n",
       "    </tr>\n",
       "  </thead>\n",
       "  <tbody>\n",
       "    <tr>\n",
       "      <th>0</th>\n",
       "      <td>reviewer_1</td>\n",
       "      <td>asin_12</td>\n",
       "      <td>5</td>\n",
       "    </tr>\n",
       "    <tr>\n",
       "      <th>1</th>\n",
       "      <td>reviewer_1</td>\n",
       "      <td>asin_25</td>\n",
       "      <td>3</td>\n",
       "    </tr>\n",
       "    <tr>\n",
       "      <th>2</th>\n",
       "      <td>reviewer_2</td>\n",
       "      <td>asin_11</td>\n",
       "      <td>6</td>\n",
       "    </tr>\n",
       "    <tr>\n",
       "      <th>3</th>\n",
       "      <td>reviewer_2</td>\n",
       "      <td>asin_22</td>\n",
       "      <td>1</td>\n",
       "    </tr>\n",
       "  </tbody>\n",
       "</table>\n",
       "</div>"
      ],
      "text/plain": [
       "     query_id   doc_id  relevance\n",
       "0  reviewer_1  asin_12          5\n",
       "1  reviewer_1  asin_25          3\n",
       "2  reviewer_2  asin_11          6\n",
       "3  reviewer_2  asin_22          1"
      ]
     },
     "metadata": {},
     "output_type": "display_data"
    },
    {
     "data": {
      "text/html": [
       "<div>\n",
       "<style scoped>\n",
       "    .dataframe tbody tr th:only-of-type {\n",
       "        vertical-align: middle;\n",
       "    }\n",
       "\n",
       "    .dataframe tbody tr th {\n",
       "        vertical-align: top;\n",
       "    }\n",
       "\n",
       "    .dataframe thead th {\n",
       "        text-align: right;\n",
       "    }\n",
       "</style>\n",
       "<table border=\"1\" class=\"dataframe\">\n",
       "  <thead>\n",
       "    <tr style=\"text-align: right;\">\n",
       "      <th></th>\n",
       "      <th>query_id</th>\n",
       "      <th>doc_id</th>\n",
       "      <th>score</th>\n",
       "    </tr>\n",
       "  </thead>\n",
       "  <tbody>\n",
       "    <tr>\n",
       "      <th>0</th>\n",
       "      <td>reviewer_1</td>\n",
       "      <td>asin_12</td>\n",
       "      <td>0.9</td>\n",
       "    </tr>\n",
       "    <tr>\n",
       "      <th>1</th>\n",
       "      <td>reviewer_1</td>\n",
       "      <td>asin_23</td>\n",
       "      <td>0.8</td>\n",
       "    </tr>\n",
       "    <tr>\n",
       "      <th>2</th>\n",
       "      <td>reviewer_1</td>\n",
       "      <td>asin_25</td>\n",
       "      <td>0.7</td>\n",
       "    </tr>\n",
       "    <tr>\n",
       "      <th>3</th>\n",
       "      <td>reviewer_1</td>\n",
       "      <td>asin_36</td>\n",
       "      <td>0.6</td>\n",
       "    </tr>\n",
       "    <tr>\n",
       "      <th>4</th>\n",
       "      <td>reviewer_1</td>\n",
       "      <td>asin_32</td>\n",
       "      <td>0.5</td>\n",
       "    </tr>\n",
       "  </tbody>\n",
       "</table>\n",
       "</div>"
      ],
      "text/plain": [
       "     query_id   doc_id  score\n",
       "0  reviewer_1  asin_12    0.9\n",
       "1  reviewer_1  asin_23    0.8\n",
       "2  reviewer_1  asin_25    0.7\n",
       "3  reviewer_1  asin_36    0.6\n",
       "4  reviewer_1  asin_32    0.5"
      ]
     },
     "metadata": {},
     "output_type": "display_data"
    },
    {
     "name": "stdout",
     "output_type": "stream",
     "text": [
      "{R@4: 0.75, nDCG@4: 0.7569557807573265, nDCG@2: 0.648146419026997}\n"
     ]
    }
   ],
   "source": [
    "# https://ir-measur.es/en/latest/getting-started.html\n",
    "import ir_measures\n",
    "metrics = [ir_measures.nDCG@4, ir_measures.R@4, ir_measures.nDCG@2]\n",
    "\n",
    "display(qrels_df.head()) # MUST have column names as query_id, doc_id, relevance\n",
    "display(run_df.head()) # MUST have column names as query_id, doc_id, score\n",
    "\n",
    "qrels_df.columns = ['query_id', 'doc_id', 'relevance']\n",
    "run_df.columns = ['query_id', 'doc_id', 'score']\n",
    "\n",
    "evaluator = ir_measures.evaluator(metrics, qrels_df)\n",
    "result = evaluator.calc_aggregate(run_df)\n",
    "print(result)"
   ]
  },
  {
   "cell_type": "code",
   "execution_count": 42,
   "metadata": {},
   "outputs": [
    {
     "name": "stdout",
     "output_type": "stream",
     "text": [
      "[Metric(query_id='reviewer_1', measure=R@2, value=1.0), Metric(query_id='reviewer_2', measure=R@2, value=1.0)]\n",
      "[{R@2: 1.0}, [Metric(query_id='reviewer_1', measure=R@2, value=1.0), Metric(query_id='reviewer_2', measure=R@2, value=1.0)]]\n"
     ]
    }
   ],
   "source": [
    "# checking this case where runlist has duplciate asins with different scores\n",
    "import pandas as pd\n",
    "import ir_measures\n",
    "metrics = [ir_measures.R@2]\n",
    "\n",
    "qrels_list = [{'reviewer_id':'reviewer_1', 'asin':'asin_1', 'relevance': 1} , \\\n",
    "             {'reviewer_id':'reviewer_2', 'asin':'asin_2', 'relevance': 1} \n",
    "            ]\n",
    "\n",
    "run_list = [{'reviewer_id': 'reviewer_1', 'asin': 'asin_1', 'score': 5.1}, \\\n",
    "            {'reviewer_id': 'reviewer_1', 'asin': 'asin_1', 'score': 1.1}, \\\n",
    "            {'reviewer_id': 'reviewer_1', 'asin': 'asin_2', 'score': 10.1}, \\\n",
    "            {'reviewer_id': 'reviewer_1', 'asin': 'asin_2', 'score': 100.1}, \\\n",
    "            \n",
    "            {'reviewer_id': 'reviewer_2', 'asin': 'asin_2', 'score': 1}, \\\n",
    "            {'reviewer_id': 'reviewer_2', 'asin': 'asin_1', 'score': 10},\n",
    "            {'reviewer_id': 'reviewer_2', 'asin': 'asin_1', 'score': 100}\n",
    "            ]\n",
    "qrels_df = pd.DataFrame(qrels_list)\n",
    "df_run = pd.DataFrame(run_list)\n",
    "\n",
    "df_run_sorted = df_run.sort_values(by=['reviewer_id', 'score'], ascending=[True, False])\n",
    "df_run_sorted = df_run_sorted.drop_duplicates(subset=['reviewer_id', 'asin'], keep='first')\n",
    "\n",
    "qrels_df.columns = ['query_id', 'doc_id', 'relevance']\n",
    "df_run.columns = ['query_id', 'doc_id', 'score']\n",
    "df_run_sorted.columns = ['query_id', 'doc_id', 'score']\n",
    "\n",
    "evaluator = ir_measures.evaluator(metrics, qrels_df)\n",
    "result = list(evaluator.iter_calc(df_run))\n",
    "print(result)\n",
    "\n",
    "result = list(evaluator.calc(df_run))\n",
    "print(result)\n",
    "\n"
   ]
  },
  {
   "cell_type": "code",
   "execution_count": 39,
   "metadata": {},
   "outputs": [
    {
     "data": {
      "text/html": [
       "<div>\n",
       "<style scoped>\n",
       "    .dataframe tbody tr th:only-of-type {\n",
       "        vertical-align: middle;\n",
       "    }\n",
       "\n",
       "    .dataframe tbody tr th {\n",
       "        vertical-align: top;\n",
       "    }\n",
       "\n",
       "    .dataframe thead th {\n",
       "        text-align: right;\n",
       "    }\n",
       "</style>\n",
       "<table border=\"1\" class=\"dataframe\">\n",
       "  <thead>\n",
       "    <tr style=\"text-align: right;\">\n",
       "      <th></th>\n",
       "      <th>reviewer_id</th>\n",
       "      <th>asin</th>\n",
       "      <th>score</th>\n",
       "    </tr>\n",
       "  </thead>\n",
       "  <tbody>\n",
       "    <tr>\n",
       "      <th>3</th>\n",
       "      <td>reviewer_1</td>\n",
       "      <td>asin_2</td>\n",
       "      <td>100.1</td>\n",
       "    </tr>\n",
       "    <tr>\n",
       "      <th>0</th>\n",
       "      <td>reviewer_1</td>\n",
       "      <td>asin_1</td>\n",
       "      <td>5.1</td>\n",
       "    </tr>\n",
       "    <tr>\n",
       "      <th>6</th>\n",
       "      <td>reviewer_2</td>\n",
       "      <td>asin_1</td>\n",
       "      <td>100.0</td>\n",
       "    </tr>\n",
       "    <tr>\n",
       "      <th>4</th>\n",
       "      <td>reviewer_2</td>\n",
       "      <td>asin_2</td>\n",
       "      <td>1.0</td>\n",
       "    </tr>\n",
       "  </tbody>\n",
       "</table>\n",
       "</div>"
      ],
      "text/plain": [
       "  reviewer_id    asin  score\n",
       "3  reviewer_1  asin_2  100.1\n",
       "0  reviewer_1  asin_1    5.1\n",
       "6  reviewer_2  asin_1  100.0\n",
       "4  reviewer_2  asin_2    1.0"
      ]
     },
     "execution_count": 39,
     "metadata": {},
     "output_type": "execute_result"
    }
   ],
   "source": [
    "df_run_sorted"
   ]
  },
  {
   "cell_type": "markdown",
   "metadata": {},
   "source": [
    "# first we will evaluate the recall@1 and recall@5 \n",
    "# for randomly sampling from within seen asins without replacement from the seen sequence"
   ]
  },
  {
   "cell_type": "code",
   "execution_count": 5,
   "metadata": {},
   "outputs": [],
   "source": [
    "import pandas as pd\n",
    "scimeta = pd.read_json('scimeta_corpus.json', orient='records', lines=True)\n",
    "seqdata = pd.read_json('sci_seq_3rev.json', orient='records', lines=True)"
   ]
  },
  {
   "cell_type": "code",
   "execution_count": 6,
   "metadata": {},
   "outputs": [],
   "source": [
    "scimeta.columns = ['asin', 'Title', 'Brand', 'Category', 'Price'] # only the corpus asins and their metadata\n",
    "asins_compact = scimeta[['asin']].copy()\n",
    "asins_compact['nlang'] = (\n",
    "\t\"Title: \" + scimeta['Title'] + \". \" +\n",
    "\t\"Brand: \" + scimeta['Brand'] + \". \" +\n",
    "\t\"Category: \" + scimeta['Category'] + \". \" +\n",
    "\t\"Price: \" + scimeta['Price']\n",
    ")\n",
    "asin_dict = asins_compact.set_index('asin')['nlang'].to_dict()  # ASIN -> formatted text of the item"
   ]
  },
  {
   "cell_type": "code",
   "execution_count": 7,
   "metadata": {},
   "outputs": [],
   "source": [
    "from datasets import load_from_disk\n",
    "from src.utils.project_dirs import get_hfdata_dir"
   ]
  },
  {
   "cell_type": "code",
   "execution_count": 4,
   "metadata": {},
   "outputs": [],
   "source": [
    "from ranx import Qrels, Run, evaluate\n",
    "import numpy as np\n",
    "import json\n",
    "import pandas as pd\n",
    "import bm25s\n",
    "import Stemmer\n",
    "from typing import List, Dict\n",
    "from ranx import Qrels, Run, evaluate\n",
    "import numpy as np\n",
    "from datasets import Dataset\n",
    "from datasets import load_from_disk\n",
    "from src.utils.project_dirs import get_hfdata_dir, get_reviews_raw2018_dir\n",
    "# from src.utils.generate_utils import generate_sequences\n",
    "\n",
    "def get_qrels(dataset):\n",
    "    '''\n",
    "        dataset: typically validation or test\n",
    "    '''\n",
    "    qrels_dict = {}\n",
    "    for row in dataset:\n",
    "        qrels_dict[row['reviewer_id']] = {row['asin']: 1}\n",
    "    return qrels_dict\n",
    "\n",
    "def baseline_randrecs(dataset, k = 5):\n",
    "    '''\n",
    "        Randomly pick k items without replacement from seen_asins for each reviewer, if k < len(seen_asins), take all seen_asins\n",
    "        dataset: typically validation or test\n",
    "    '''\n",
    "    run_dict = {}\n",
    "    for row in dataset:\n",
    "        reviewer_id = row['reviewer_id']\n",
    "        seen_asins = row['seen_asins']\n",
    "        rand_asins = np.random.choice(seen_asins, min(k, len(seen_asins)), replace=False)\n",
    "        rand_scores = np.random.rand(len(rand_asins)) # random scores, matters only for nDCG\n",
    "        run_dict[reviewer_id] = {asin: score for asin, score in zip(rand_asins, rand_scores)}\n",
    "    return run_dict\n",
    "\n",
    "def oracle_rec(dataset, k = 5):\n",
    "    '''\n",
    "        This is the upper limit, but useful for sanity check\n",
    "        For each reviewer, pick the oracle item i.e., the target asin itself (obviosly this is unknown)\n",
    "        dataset: typically validation or test\n",
    "    '''\n",
    "    run_dict = {}\n",
    "    for row in dataset:\n",
    "        reviewer_id = row['reviewer_id']\n",
    "        seen_asins = row['seen_asins']\n",
    "        rand_asins = np.random.choice(seen_asins, min(k-1, len(seen_asins)-1), replace=False)\n",
    "        rand_scores = np.random.rand(len(rand_asins))\n",
    "        run_dict[reviewer_id] = {asin: score for asin, score in zip(rand_asins, rand_scores)}\n",
    "        run_dict[reviewer_id][row['asin']] = -1000 # target item, highest score\n",
    "    return run_dict"
   ]
  },
  {
   "cell_type": "code",
   "execution_count": 7,
   "metadata": {},
   "outputs": [
    {
     "data": {
      "text/plain": [
       "DatasetDict({\n",
       "    train: Dataset({\n",
       "        features: ['reviewer_id', 'text'],\n",
       "        num_rows: 10970\n",
       "    })\n",
       "    validation: Dataset({\n",
       "        features: ['reviewer_id', 'ptext', 'text', 'seen_asins', 'asin', 'asin_text'],\n",
       "        num_rows: 512\n",
       "    })\n",
       "    test: Dataset({\n",
       "        features: ['reviewer_id', 'ptext', 'text', 'seen_asins', 'asin', 'asin_text'],\n",
       "        num_rows: 10970\n",
       "    })\n",
       "})"
      ]
     },
     "execution_count": 7,
     "metadata": {},
     "output_type": "execute_result"
    }
   ],
   "source": [
    "dataset = load_from_disk(get_hfdata_dir() / \"Amzn_scientific_2018\")\n",
    "dataset"
   ]
  },
  {
   "cell_type": "code",
   "execution_count": 17,
   "metadata": {},
   "outputs": [],
   "source": [
    "qrels_val = Qrels(get_qrels(dataset['validation']))\n",
    "qrels_test = Qrels(get_qrels(dataset['test']))\n",
    "\n",
    "run_val = Run(baseline_randrecs(dataset['validation'], k=5))\n",
    "run_test = Run(baseline_randrecs(dataset['test'], k=5))\n",
    "\n",
    "run_val_oracle = Run(oracle_rec(dataset['validation'], k=5))\n",
    "run_test_oracle = Run(oracle_rec(dataset['test'], k=5))"
   ]
  },
  {
   "cell_type": "code",
   "execution_count": 18,
   "metadata": {},
   "outputs": [
    {
     "data": {
      "text/plain": [
       "{'recall@5': np.float64(0.009765625),\n",
       " 'ndcg@5': np.float64(0.006956262327431349),\n",
       " 'mrr@5': np.float64(0.006022135416666667)}"
      ]
     },
     "execution_count": 18,
     "metadata": {},
     "output_type": "execute_result"
    }
   ],
   "source": [
    "evaluate(qrels_val, run_val, [\"recall@5\", \"ndcg@5\", \"mrr@5\"])"
   ]
  },
  {
   "cell_type": "code",
   "execution_count": 11,
   "metadata": {},
   "outputs": [
    {
     "data": {
      "text/plain": [
       "{'recall@5': np.float64(1.0),\n",
       " 'ndcg@5': np.float64(0.4821339169952692),\n",
       " 'mrr@5': np.float64(0.3158528645833334)}"
      ]
     },
     "execution_count": 11,
     "metadata": {},
     "output_type": "execute_result"
    }
   ],
   "source": [
    "evaluate(qrels_val, run_val_oracle, [\"recall@5\", \"ndcg@5\", \"mrr@5\"])"
   ]
  },
  {
   "cell_type": "code",
   "execution_count": 18,
   "metadata": {},
   "outputs": [
    {
     "data": {
      "text/plain": [
       "DictType[unicode_type,DictType[[unichr x 10],float64]<iv=None>]<iv=None>({A10042M3XO3NET: {B0002YWNLS: 0.9167622891298758, B000BQO15I: 0.7916263202551116, B005K2TXMO: 0.6140824107423796, B001HRMJ54: 0.2485111779870406, B01ENFOHN8: 0.1799188727910156}, A100WO06OQR8BQ: {B000U08ZN4: 0.9308728417770091, B00IGHFOUA: 0.887077014132285, B0001GAYRC: 0.7378372366871616, B0013B1XLA: 0.3591981457531572, B004SS8AMU: 0.27105884566154226}, A109L3WXD1SJFU: {B000WJ4XXY: 0.9745498367638358, B00020BQGK: 0.21100837284268426, B00R18XU7E: 0.15908861131997254, B00N1XCA8S: 0.09766561993306944}, A10CP7XAHJTEB5: {B00004Z4DS: 0.6702448966681489, B0000DH8I8: 0.36305549289819206, B00JZ18KNY: 0.11511498329670689}, A10KEVPK6PBH5M: {B00NB3U2BU: 0.609469356781905, B00DMI632G: 0.5570693433435427, B009IS86ZG: 0.513716508558644, B00NB3SQJU: 0.3890035648303103}, A10LZRSZJZ0LG2: {B001DDWQ4Q: 0.8139703634288779, B008BK74EG: 0.8111880536438564, B00DMI62HM: 0.7043335242066155, B006EGAIJ2: 0.5199265428314203, B005SJ51W0: 0.14937190647820575}, A117FY2DMGZHWX: {B0074II2K6: 0.9943696098448104, B006EGAIII: 0.968758998091325, B004C4WPXA: 0.8848051315667407}, A11D18YLRFVT8O: {B00JERRES6: 0.8555645413007308, B0155Y22J2: 0.603474739845899, B000MFDGVI: 0.4506225780460672, B00DMI632G: 0.263852374533308, B00KJ5TE7G: 0.05281071402416826}, A11GBTUGNRGCR8: {B0015S6GMM: 0.8776666259089791, B000KKM20Q: 0.8761401807250673, B00004YVI6: 0.8744116019838104, B0051IB8R0: 0.827067262916921, B001HT720O: 0.06807687236794491}, A11RAG6CQ235C8: {B00006U0LF: 0.9754638628717756, B00W71JDTY: 0.7637539601984448, B000TG60GS: 0.7449702578487308, B00006U0KV: 0.46324855860851843, B003XFPV80: 0.3935521043793009}, A11ULAZ4B5ZXC8: {B005Q5LXY6: 0.46785863324471866, B000EJ332O: 0.3763618330753501, B000BVXW3U: 0.29229956067150875}, A129VFUHG03PEU: {B003O5B5LG: 0.34404436980227027, B0058DH4JE: 0.3278324387013799, B005JDSNRA: 0.24718881582017316, B007Q2GB5S: 0.20583731250765247}, A12WDXCEM1YADW: {B005DPFJJO: 0.9270821809837718, B000GUP7UC: 0.7752339213189222, B003L1W4DQ: 0.44231187948644024, B00PILUXBM: 0.04282097953819575}, A13W04LMNR3UQ0: {B0013BKDO8: 0.26253755235086573, B0081CSFUQ: 0.05844331999806185}, A14BF6Q6UPVB04: {B005KMDV9A: 0.9849718875117769, B000FH2Y9S: 0.132581378223936}, A14XBADT8X2RZO: {B00GYSFOM6: 0.8261848978047124, B00VJ4SFQW: 0.7816349425415886, B00524H98U: 0.32166737917421717, B000LWXB44: 0.18701412812777185, B000FZ2UOY: 0.030638294719718684}, A15781FFW7JB5F: {B00004Z2HN: 0.9660215879803492, B0015DLMOO: 0.7665864744283961, B0013RVDG4: 0.6207560675344395, B00004Z2HR: 0.40661552375403387, B005KDD0KY: 0.3891194027449417}, A15A22R1ZOUGD2: {B01FJGPMQQ: 0.9064289705419539, B00F2IQNX8: 0.7376588361048599, B00J0H4EVU: 0.5600451708368676, B00MEZDNV2: 0.31206969079475533, B016C8KSMS: 0.12999533443958267}, A15KDJTGX6AT1N: {B00C45208O: 0.9409254337408898, B00EZKEGG0: 0.43664683217342926, B00HRHAZ9U: 0.32827508923103943}, A15RKJIT2YUP90: {B000BO8OEY: 0.9400665651972507, B001Q4ZTPK: 0.7068994619167183, B006SJIA0Y: 0.657573253805563, B00D7IE7R4: 0.3801202307069337, B00004YOKC: 0.24814272433291684}, A167IGUWUMICX5: {B00OXPE8U6: 0.5097672377957562, B01FJ97E6Y: 0.5003231889893295, B01B6R0JNI: 0.48952868020802875, B017EOLG9S: 0.29558730342809836, B00XDT7IQE: 0.12085686453833144}, A16KTYV908RXS8: {B000BQO5F4: 0.9975658433346263, B0013AZ4R0: 0.8982238105200849, B00MUT58Y2: 0.5428376334052564, B00005202U: 0.5348570958733574, B000I18LJS: 0.03376925380999918}, A16NOLFY4HJ1F: {B00ZAUR6M0: 0.9045499560533781, B00CO89BXI: 0.8453800328784905, B00MN5X2YG: 0.46980137104581343, B001HWA8WU: 0.4565500033744587, B00S1JWZ14: 0.4396948081655224}, A16QODENBJVUI1: {B017EOLGJI: 0.6116027913213397, B000JKGOTW: 0.5575326664953268, B01BONUDD0: 0.5200919125412578, B00DCCYD6U: 0.16549015340743056}, A17I71NWJFR0XX: {B00I5HRG02: 0.8434176836185967, B00C78AERW: 0.39893405382899905, B00EUGCT22: 0.32974606653649874, B013VU8HTQ: 0.06245964704311924}, A17WH3G2CV6TLQ: {B000OQTFN8: 0.5172327981975227, B001OBTZ1E: 0.5101274813493889, B006WQNHI8: 0.24823460787352014}, A180FNDDHI6R25: {B000UV6ZPS: 0.9973034090696917, B00DRALJ28: 0.9685811990982963, B001EDK0WK: 0.018160466233193007}, A186KIUVPNXEMC: {B00M0CS1BQ: 0.670020543158609, B00J0GO8I0: 0.45436224585179674, B00MEZEEJ2: 0.15962914879063816}, A186ZM0V3C63B2: {B006WMRVS4: 0.5750430006403094, B0018ACR6G: 0.46084565192178195, B001DC9USC: 0.45044365703106626, B00GIYLQPK: 0.2707728877639274}, A18HNUKRRO6GPM: {B000M64R8I: 0.72820356006097, B0029NY9VW: 0.6502689613079433, B003F960Z2: 0.5379843201784755}, A18W7IG1JSVFV5: {B000MOI9G6: 0.982434326001728, B00004YOKH: 0.928288849470491, B0001CUMXM: 0.2755031138766262, B000NPR3XY: 0.12788486182440262}, A18Z6ETBH1TDX6: {B018MG4SFQ: 0.8206776494071838, B00ZMWVA96: 0.6213139941150243, B00BYQLGNY: 0.5504451610995602}, A192BUFLC05BMZ: {B00N7432II: 0.5730188265382007, B0013BKDO8: 0.5588802570431505, B00DRALJ28: 0.14328290119113618}, A19G1RVIGSZD94: {B010UIW82E: 0.7959860678760025, B0001NA29U: 0.754981960354927, B001HETINI: 0.6789608884902066, B00HWXEGP8: 0.27714419390541467}, A19P85CQC797KV: {B017SGCWX6: 0.4276212759572545, B00YSP7AJ2: 0.253558325817659, B00E81KYFI: 0.10560128684186698, B01H61AS2A: 0.023488479179202715}, A1AE0A46QTLLR6: {B000R6RLAY: 0.46259760600708666, B005B8LZ14: 0.04044407633190439, B002YPHSIG: 0.026723739580376327}, A1AGEGR4OTRQYC: {B00004WLKA: 0.9594770888682662, B00GDUK0J2: 0.7683482149902208, B0093J2GM4: 0.7440893664823667, B00DU7XEB2: 0.705963360569063, B004UZCMRK: 0.6907040021898277}, A1AKAC8VSCS824: {B000H9FXEM: 0.9611873924977838, B000H9JG7C: 0.6570176424903265, B0056OUISO: 0.5478852271430491, B000H9FWA2: 0.1921743672032492, B000H9L3NW: 0.08812152025423459}, A1B75QJ23ZG80L: {B0009WD1L4: 0.7573789890674156, B00TDBVW7W: 0.616690927291483, B001CDTZYQ: 0.6118217846698641, B004C37VV2: 0.44168694347275606}, A1BGWSXTGQV9J9: {B00551ND12: 0.6512619177902248, B0006IX85K: 0.6439731950022008, B001HETINI: 0.3725917477054306}, A1BMYBCHD94FL3: {B007JOJ9QQ: 0.9947185407861668, B0006O8QQ0: 0.27950598289394013, B00002ND6L: 0.2477113536521942}, A1BO59JIOSXMEL: {B007JOJ9QQ: 0.5705042385867811}, A1BTBRNUX81Y4X: {B00CR8ZRC4: 0.9001944671056209, B00H1O0WOM: 0.680748260488383, B000BQN6W2: 0.5177866305217635, B00QYX6F5G: 0.3359055658523048, B00WXHSU14: 0.33028522928366355}, A1BZB8JEJZYEJ: {B00TSUXISO: 0.6997421746727738, B0009N5SG4: 0.6645517926737682, B00CP3CZVC: 0.294566807790807, B000HHROJ6: 0.2764472527113414, B00E81L9U2: 0.07167851578796669}, A1C0CZGSEC211W: {B0070YPDDS: 0.4380727758992954, B0013BKDO8: 0.001845153680161138}, A1C1Q7OY1VESQ4: {B000FFIJF8: 0.8911687155327855, B00002ND4I: 0.8247732720658367, B0008G1YGA: 0.6934904703616496, B0014476FI: 0.4290167091549274, B006C3O3Z2: 0.3278069915297914}, A1CBJONNVORF0A: {B014VM991I: 0.7584226687753994, B01CUPV90M: 0.7007551961298547, B00ZAUQZTA: 0.5518900654388647, B00MEZEEJ2: 0.3886644193814329, B010LDZKN2: 0.008738947726753099}, A1CEG8DQ3YIJ80: {B003JQJQQ6: 0.7912592475738303, B003GSL3MC: 0.42456577913467, B009OJZZJY: 0.41986984464933297, B000FMYYT6: 0.4153674119232469, B003JQJO6I: 0.1323846727102882}, A1CTTOAQH3JSEJ: {B00E4UOKNK: 0.6547691287659111, B003F76A72: 0.3210637148250408}, A1CZVGZM5IW3OU: {B00JX1KXUE: 0.8291829570608225, B001E5ZWT4: 0.5137240149772873, B006Z6YQEE: 0.3304310496779933}, A1DDLPMHMG61R9: {B0019ZYABK: 0.7918510094880258, B00EFCX9OS: 0.777435084292805, B004P4OB4S: 0.4315126824137798, B00IB01XDO: 0.26134218777981055}, A1DQAZ8FFW2F5X: {B003KTLRUA: 0.4227274980195479, B00004WCCP: 0.15166775959272394, B00VEDF6I8: 0.01566525671464658}, A1DVMQ7VNRDR5W: {B0013BKDO8: 0.32946395273893736}, A1E221T8335EJI: {B00XN4111W: 0.9417334687898608, B0013BKDO8: 0.924231161066057}, A1E5OAC9SXEA55: {B00A15YHJY: 0.8449009553491521, B002BBIYWM: 0.810319758313212, B004HKITWU: 0.6337636941852107, B00W0YUV1W: 0.36106039966403336, B00RRD3BPE: 0.2711235263063171}, A1E8VFZL408SEE: {B00DRALJ28: 0.9450327089807874, B005DLLVWC: 0.6015361916637122, B000HE8ER0: 0.28651590579890507, B00MKOIBXM: 0.0872212536833078, B00QZ67T3O: 0.060730258872893295}, A1EAMCET64A2IA: {B01092XXD4: 0.9354452280450556, B00M0CS73S: 0.06254307026586459}, A1EBHMLZUZSP8Z: {B000H9FW6Q: 0.9594622571915485, B006JR8XBG: 0.6523501479887465, B000FN3U8G: 0.012052483787211576}, A1EEGQFGTUZLBG: {B007DQGKC6: 0.9779544766362028, B01HBPHSII: 0.38834308617651714, B00DU7XEB2: 0.23749026008443785, B01FL49VZE: 0.18856875232205828, B00STB0EW6: 0.0569485030042548}, A1EJMLQ9SQ6J5S: {B0016BP9HG: 0.21670877839636293}, A1EKVXJ8LC2L27: {B003ZZUL5Q: 0.7197989015750524, B003ZZS40U: 0.44876636700577044, B000K7GREQ: 0.30099781579802, B00CHQ96LO: 0.19263843346522114, B003ZZY99K: 0.06829401888608888}, A1EO449BUPATRL: {B0057PUEZO: 0.8867697445177262, B007OXK4C0: 0.8731613424506978, B002UF6NV8: 0.35794629037164494}, A1EX7HXASYXK5T: {B00D2MPVUM: 0.8322261698460368, B000MOI9G6: 0.7036940008660154, B008ZSX42K: 0.7032009732506015, B006UKICQS: 0.6120999958215446}, A1F2PR9YI5RXH5: {B00IO9PBPS: 0.7584091769100803, B00MMHUYGE: 0.1392418532295372, B00MFRZ2SG: 0.12420611210191324}, A1FDSZISWIXH1A: {B00JQX470G: 0.5148167013967101, B00E5XO18K: 0.5036980003206349, B009AHW65G: 0.3793866281922732, B00CX7M1PU: 0.1438861797401193, B010Y25PQC: 0.017966105318849124}, A1FFGVSTLEIXVR: {B004S7SUFI: 0.8446737860349806, B004TGJU2A: 0.8199126459948055, B00B5XJW7I: 0.05658241616072013, B001JYQ852: 0.019259868788521484}, A1G2JPFVJ0CFTT: {B01E8LPNGC: 0.8091699625854754, B01092XXD4: 0.25844203319743975, B00T2DNKJY: 0.16260454700436777, B00ZBGDR1W: 0.09112435076163139}, A1G2MWK15FISYW: {B0185F3QHK: 0.9994905529067056, B0070YPDDS: 0.31686208343601363, B00062N4K0: 0.20596964564912468}, A1GBU15ZDIYI4P: {B00HWROMW6: 0.8443281171984202, B00HWROLIG: 0.7597195625804144, B00AQKIEXY: 0.6910803041449142, B0014FKGNQ: 0.16940580159136331, B00004Y68Y: 0.0820046341359637}, A1GF6B7LAO3WJJ: {B00T2DNKJY: 0.9172617637395557, B00ME7YUIU: 0.5313444299474237, B00PFXK4JY: 0.26048863427063185, B0167XCHWM: 0.1429070307930973}, A1GX5HC33OHDMD: {B00ME7CKOG: 0.9607612273887647, B00ME7E5X0: 0.9437863694709089, B00MAZFQ7A: 0.8579003367510262, B00ME88QPC: 0.5518498204636877, B00ME7424W: 0.24947437938852424}, A1HNG59LZC1XPG: {B00137NI0I: 0.9835773251942443, B000HE5DUG: 0.6488811994888644, B000GUP7UC: 0.5885595582895502, B001V9UQU8: 0.2264910236501949, B001BNZ1AY: 0.20368692289808066}, A1HV64YBTH0UWG: {B002FTOFVY: 0.7607303189814424, B00CZ5DVPY: 0.6350124873211793, B00002ND49: 0.36420573479150853, B00MEDFF7E: 0.3371681556202226}, A1IJXXW5T2LM8T: {B01CUPV9KC: 0.977228521946002, B00ZMWVA96: 0.4181606142750238, B00KNNJOP6: 0.3241397930248755, B017SGCX2G: 0.22051945407877827, B016R9E7J2: 0.020431054928347625}, A1IU60MX3K9H91: {B0013HCDNG: 0.5288687655955864, B0002EQU6C: 0.5079380724981571}, A1IWYZ5EYTCBDR: {B00BLUE522: 0.8827630370197188, B00DVBSNPY: 0.48438632037440665, B004EBMXZG: 0.21993670018328226, B014JNFOWW: 0.11528093049072663, B001E5ZWT4: 0.06450468310954716}, A1J17TJ56L8CK5: {B00J0H8EWA: 0.9281596056027132, B015I1CVRK: 0.6437173726905984, B00VEU2FDA: 0.620880993454154, B00MMWDYI4: 0.37945285241995275, B00M0CS1BQ: 0.05732148920443669}, A1J4XH7JRSXMOI: {B000SBLM1C: 0.8349468297025184, B00GMYH4KW: 0.6358128222026976, B009OJZZJY: 0.5096289928195313, B005HQ4T6I: 0.21352562205302017, B00RXCD5DM: 0.20256790577930794}, A1J8PKJMGO2JQ6: {B000BVXW9E: 0.3808597381629778, B00KH7RFVI: 0.28603217314506246, B00004WLKB: 0.06940371445234883}, A1JQTV1D0L6OX6: {B007COAAT8: 0.9634579944656793, B00CL10LG4: 0.4529875949397625, B0119B3SQQ: 0.2100086716708739, B00MMUXP4E: 0.12362723767881856}, A1JSXH2JWFMOU4: {B001QFA184: 0.8501951673761878, B000KBU66W: 0.5020172796948013, B000MVZ020: 0.21585517844568525, B005MGFYH6: 0.015579242847525654}, A1JWCFH73B9KZM: {B00NA00GJW: 0.8976671317670252, B00880AVL2: 0.8318769270816775, B0179OU8K6: 0.5917787210534047, B0069KPMGW: 0.45720857159476047}, A1JYO2V4IRHPUX: {B015I1CYFE: 0.9166494735071498, B01H3DNKYY: 0.6676023222166413, B016ZJS1FA: 0.5776391700699536, B00ZBCLJSY: 0.4384240103397785, B015M3K5NG: 0.43028337336443}, A1KB9JPU6OUC4S: {B004Y960MU: 0.91305080288454, B0013E2AQY: 0.7418007675679148, B00NB3SYGK: 0.21503345562968834, B00DMI632G: 0.0034903675786445154}, A1KG4BUAQG9FTK: {B00E81L0A6: 0.9604722046784723, B00ITPHXZI: 0.8873773881247218, B00LNFU1OG: 0.747394231011582, B0000223UV: 0.4512878532264072, B00R4ZT1FY: 0.008507197368414987}, A1KMOUXZR452QB: {B001DZEETO: 0.6349437973356677, B000K1LZ76: 0.22975524009928827, B0002YTLFE: 0.08203959325739618}, A1KO1MHM26UN3O: {B001769ISQ: 0.8162748828609055, B003NRF052: 0.5793484517666366, B000EIO86A: 0.5790645176485201, B001768788: 0.4967585029647996}, A1KPVK3ARI8SGE: {B00K85965W: 0.8033557959521355, B01180QKB8: 0.7607401653787346, B0073BPP04: 0.5640395210858556, B016Q6T7Q4: 0.53517748790404, B00FB1L46M: 0.34832204689905477}, A1KV8F4QX24JUC: {B0015G6VM4: 0.8634299987736277, B0002YTM30: 0.41575387844127776}, A1LFBJB3ZQSTWX: {B00631GQGW: 0.7603659733709492, B004O3OP2S: 0.7354910663972918, B00843KK9Q: 0.17134496856351367, B0025PZSSM: 0.14980841748863993}, A1LK8AMYVALBE8: {B00E0NXTJW: 0.6201098235929111, B00MEZEEJ2: 0.5429736546411393, B00JQK4PNS: 0.22585326387645177, B01E8LPNGC: 0.1388708738186668, B00PF7NU7S: 0.08726631956088815}, A1LPH8RWPCFK8W: {B001E5ZWT4: 0.823651786485192, B00KNU8608: 0.35596012992010295, B000E62TCC: 0.10213481805687918}, A1LR70V1FSDH69: {B00I51SJOA: 0.8608834343831764, B007Y8UX80: 0.6307461127838826, B00EEIFR16: 0.20918460536807837}, A1LXLGG6C0G8WT: {B00FX6ZQDM: 0.5977072060801943, B004M02K7A: 0.521420275261213}, A1M09O8PG6GHFF: {B00ACBKNS6: 0.6079310037914811, B002UF6NV8: 0.3363085997228372, B000B868NE: 0.021613051301487607}, A1M9D9VS6NFOA7: {B01FEJU41G: 0.9852501800828006, B00TI3JUWO: 0.9464836480750773, B00M0CS2DS: 0.7670413314347608, B00HSEWNRY: 0.2593346670787484, B00J0H1QNY: 0.19657385775662894}, A1MCOTD9E00EEU: {B0008G1YGA: 0.8721871894964032, B005K091ZU: 0.7498036016649121, B00837ZGRY: 0.7221160830132075}, A1MEVKZR4TOHO3: {B000FZ2UOY: 0.9591297616161609, B00AMGUZ70: 0.4304983991307273, B00ATH0KEA: 0.06564906449979191}, A1MW2RK698FYNM: {B0002MQEW4: 0.8197034669908648, B00HUBZO7Q: 0.6039408932429299, B000EJ332O: 0.3416785301999189}, A1N03V52IRZ5PR: {B00L4RCTDE: 0.9158838333026583, B01FL49VZE: 0.8667533952971294, B017KUC6XQ: 0.6920906392163817, B000FN1FLA: 0.6435310960145286, B0094WJIRG: 0.6049762741167888}, A1N0SNIGGRTY76: {B00GO7SBZO: 0.9941546598692754, B00FG7BR22: 0.8778612828083978, B00FG7C1O0: 0.025165443120745534}, A1N1LW13O3QKEG: {B00I5HRJ9U: 0.9016532757651022, B00012NI1U: 0.45681548475743605, B0050NGB6O: 0.3477371215829854}, A1O3C0HF3WQD3U: {B0013BKDO8: 0.40272915582494495, B00DRALJ28: 0.11548676331982699, B00I51SJOA: 0.0198648279327005}, A1O9M610AA4DJS: {B0155Y22J2: 0.6582873653758419, B00KNNSKV0: 0.3654673150574608, B0002YTM30: 0.2563619094944962, B00PLKV6C0: 0.09135336098181446, B00KJ5TE7G: 0.053457955093378806}, A1OXZ3QZY7V9EZ: {B0050RIQHM: 0.7832905229389259, B00H8N2YCY: 0.5964356051792022, B0079SM1LW: 0.5335629545415546, B00KNNJOP6: 0.3264146342988501, B00NB3SYGK: 0.31055560134239146}, A1OZ85T8BJTC2A: {B000VTQM70: 0.38116102075531444, B0013BKDO8: 0.028853814657409327}, A1P8LGD9X7J72N: {B005QDP1XC: 0.9948944430031891, B0019ZLIXS: 0.6911039930443165, B009GGUIK6: 0.0041885993090827744}, A1PHP9P1HJG6O7: {B014RZ790C: 0.9135037453327411, B003XXE0RA: 0.8338079787436703, B0056ZX1R8: 0.18616342505781502}, A1PKJZRM97ELT8: {B00ZZYJU2U: 0.92739791217686, B00B51367M: 0.6751130712906277}, A1PNDS8INRDCOP: {B000H9FW16: 0.9799861070405687, B0000DD1EJ: 0.9424251308953455, B000H9JGFE: 0.7245897511899828, B000H9FWA2: 0.39593096870802935, B000H9FXEM: 0.37347797973461117}, A1Q9D1MZFC3UAB: {B000067S12: 0.5248128653653602, B00BXJYO6I: 0.39900621790716684, B00004WLKA: 0.3267245997747541, B000LF42NK: 0.2482940799985195, B00FZVKEAU: 0.09267498244271466}, A1Q9HJFQEQAG0F: {B0013BKDO8: 0.7441523820623578, B00002ND49: 0.5901915783535455, B0009RPSJ2: 0.30752978264027486}, A1QKBKYZZRQNEN: {B001769IRW: 0.862471270731662, B00176877E: 0.39703185956345155, B001766LZO: 0.18452243036979377}, A1QLDRZLR9XMQU: {B00GQNN70A: 0.9259216246985459, B00C5UO8U6: 0.8852421082605967, B00OOQC2E8: 0.8030510430702327, B000H9LIIW: 0.7171558433172225, B00PWCYLSI: 0.5756145673217289}, A1QUILLLNTPNBD: {B00775PDN0: 0.8466812323932247, B0009F86SE: 0.6289036690894251, B002ULILIK: 0.5892181458348075, B001V9WY0S: 0.5602071392864753, B00004RH8I: 0.21389035139728696}, A1RM2G3HE64LUO: {B014YTPFT8: 0.7416312451216907, B01GNAGJI2: 0.44877590555604263, B00YQB85PG: 0.0781535647973376, B000H9G06M: 0.07569081326016225, B003EYVE9K: 0.013840523541506222}, A1RRGPFH0GTADC: {B00B28Z2AC: 0.629787535115004, B00DY9IXFI: 0.5680373034235003, B00REHGEIO: 0.35900791631796736}, A1RRIHGTC8AKSG: {B005MZ6ZX4: 0.5019461615798575, B000087KUA: 0.2084248951585963, B000HMBUE6: 0.008690165947949136}, A1RV1VT8QMZTTS: {B000ILG1J0: 0.9291471442805647, B01E8LPNGC: 0.32209628159387427, B00J0GPC80: 0.22022762779932703, B00THZJIY8: 0.11054745706866687, B015W7PWRG: 0.09998128011782681}, A1SBE1NPBF4DNH: {B000ILJZN4: 0.9202354105046533, B000NHZYJM: 0.7023000098015293, B000ILG0TQ: 0.18083545881044072}, A1TNJ5721Q0928: {B000EJ332O: 0.684730759687815, B003K0J4IQ: 0.6082307327560665, B00HH08TUO: 0.5570119749893457, B00HWROO7E: 0.5023291777584705, B000BO59M4: 0.16023781612706622}, A1TVFEIAK9EMID: {B00GB03OLU: 0.5124809204989893, B01A1FAT1S: 0.44203949038753043, B001005IWE: 0.29123438914118904, B000I639B8: 0.08164435453971886}, A1UJBW00DL60SQ: {B002J9SIOU: 0.8377049293928405, B00HWRO744: 0.8358057846006438, B00CH3QZSE: 0.7772027772824557, B0016LG9KM: 0.38218827624482943, B00T9RANUC: 0.3811243452190397}, A1UQBFCERIP7VJ: {B00J25JCLC: 0.5584329948759348, B00B1M37MY: 0.4391787268291991, B00AQ2BZZQ: 0.19502173630220276, B00AQ29ZIA: 0.1306204065383576, B00B1M4UTI: 0.11171297306852301}, A1URMRUYRVEY2G: {B002RZC8WE: 0.9902947453320572, B001BSK3NO: 0.6471877632395453, B00IB0ZJXE: 0.15343660320347174}, A1UVLNIXAEMG78: {B00BT4A7OU: 0.6131571825783292, B005P7P9M2: 0.5653023456898367, B000LGPD64: 0.40974475027216417, B00AZMGFI4: 0.3784231284741928, B001JYQ852: 0.0881833548000428}, A1UVOX5WGQ8SI2: {B001766LZO: 0.7610262630423967, B001769IRW: 0.6610999116792888, B006UKICQS: 0.25942072736588717, B000LGPD64: 0.16161892810160394, B0014DZ4VW: 0.105476373662171}, A1V89BCRJHM889: {B00REHGEIO: 0.731266757249821, B013J99RQ6: 0.6712811125082108, B00CKJBDSC: 0.4108902069823346}, A1VA06WFGAHD95: {B00PSGWHIO: 0.5958995101777786, B006UKIABA: 0.5382909539474731, B006UKIAJW: 0.5204927770762233, B00LORGJ1C: 0.09478083607343746}, A1VBSHPC27JWA4: {B00KSKY0XU: 0.775444579264695, B0014F9RUY: 0.4443600916574293, B009XUAA4Y: 0.39896736096761165, B00004UDI2: 0.290239116959891, B000CIF2NK: 0.1989390674244651}, A1VI4HB323EQUG: {B0013TVEYS: 0.8670906610703414, B00004SZ5J: 0.13321359606146543}, A1VK4X3F84G8YZ: {B000EJUBBU: 0.904188495006286, B00OZSL8UE: 0.8092751676958817, B000BOE8BM: 0.79726237630177, B014OO5KQG: 0.11040184941684938}, A1VLTGCMP9WPTI: {B005L90NA2: 0.9929801336982474, B0166FFCHS: 0.3004783197757638, B00DVOVGW8: 0.2923837540836266, B0057JB9XG: 0.27634376202744926}, A1VW6RYSARC2LE: {B0015TKB68: 0.44260229777759286, B00FY7QIIM: 0.14326527386837262}, A1VWG8OIRA8OFC: {B009YA25AK: 0.8203114317006618, B00OZSL8UE: 0.35123983686008775}, A1W415JP5WEAJK: {B00N1XCA8S: 0.9847800471275818, B00ELI7SBG: 0.9328853609415164, B00CR8ZRC4: 0.8494768119369908, B0070PX7E4: 0.4704799266568509, B00KHKHXBC: 0.09832993975553561}, A1W5C8RF1JMBYH: {B00CR8ZRC4: 0.9737201126819146, B00DMI632G: 0.8316588947697742, B00GIBWMII: 0.6466018660673918, B00GI8ZPW6: 0.19047715271308985, B000BQPX1O: 0.12988496507498215}, A1WB8TPT6KVUU3: {B0119B3SQQ: 0.2539881467447326, B007B2AA0K: 0.13573719652830651, B007B2AC2Q: 0.054133896222054445}, A1WKVJZ5V4L08N: {B00ELUOERA: 0.8440886674179948, B00NPBUWRC: 0.8425634536103412, B00B6KB72I: 0.44749094389300914}, A1WNEW223CFB0Z: {B004QXUR46: 0.9306390615831069, B00EP0T1HY: 0.895513846059728, B00FX6ZQDM: 0.8420643516016306, B00E8JRD22: 0.1595633623898257, B001JYQ852: 0.07268651757191147}, A1WXRAPBEHMEA4: {B00DVIEJ14: 0.9598928277778573, B0140VT4KG: 0.7493241052446726, B000FIDTYG: 0.6939931730223561, B000LFVFA8: 0.3932298727631569, B000JJPA66: 0.11458334661860181}, A1XUCTP8MK17FV: {B000BQYG4O: 0.9901658416843562, B0060EUA32: 0.20884708695812004, B00CXCFUOY: 0.20202550972025846}, A1YDXQZBPKISMU: {B00SD6F6FC: 0.9254066132032153, B00EZBGUMC: 0.8632425611698189, B00EFOQEUM: 0.6940088703375522, B015NEDDC4: 0.09958016243342149}, A1Z0P07HENQIMN: {B00OZ0KLL4: 0.4680462526851833, B00MB3CV6K: 0.3990667202727223, B0142PHFVU: 0.12680085321957535, B015VGJGPW: 0.019913726807347043}, A1ZAEVG1H1MRC: {B000234ITO: 0.7851070576378291, B0057JB9XG: 0.6143727055442219, B0064H0LRU: 0.6072243854190813}, A1ZBEIL78MLR9Z: {B001EWEP7W: 0.7665104039996472, B00IO9PBPS: 0.37298813045572, B000NV8T5Y: 0.35214629409721443}, A1ZGZO1GPP2WRY: {B005HQ4QU2: 0.9678451174206415, B00004WCCL: 0.39520219392974343}, A20AQU6FO8739E: {B01CGVJ9MU: 0.5629274035750118, B00AYHS7ZY: 0.41115483258973273, B00CAG22C6: 0.10091903054297258}, A20RZRV9KV6AWB: {B005W42SW2: 0.6895199024418808, B00ME76OHA: 0.2434184951677364, B00ME7CV7C: 0.2248171532314791, B00YQBAFX6: 0.19105955906354222}, A21IE4YTA8Q7DI: {B000Z9DCF6: 0.5879175337842122}, A21KIS0RMI0EQU: {B001L2UA3I: 0.9034802324842224, B001MKBAPQ: 0.6995447503648157, B00EFCX9OS: 0.47372521996130423}, A21LDIFT02EMXX: {B002WJHEHY: 0.9164940896029935, B000234ITO: 0.815600248164476, B002WJHEIS: 0.4490880117822037}, A21MJPTISAR7MF: {B000FMW8US: 0.9037446612470948, B000NBKLOQ: 0.4430144235977521, B00J0GRREW: 0.12604690026095322}, A21YJ523WUSXQ5: {B0002YX98O: 0.9771266595286532, B0012J3H1C: 0.9644634076962182, B000BQO15I: 0.5555643659042229, B009EU5ZM0: 0.1217775475188918, B00114PCIO: 0.0991190714667245}, A220VLCQJ3QZJK: {B0008FUQ2E: 0.9838465460939472, B004NG8V9E: 0.42082706569406625, B000WHPVC8: 0.32427337857953364, B001NSYSSI: 0.28340657414333237, B0008G1Z32: 0.1395847215600663}, A222QQ0Z5DDHWZ: {B001CDTZYQ: 0.6533588565376056, B00DZFHLL8: 0.4957524485178244, B00PXNU586: 0.13795489068418598, B009VSFZDO: 0.12397041743221004, B006EGAIJ2: 0.0877649756279757}, A2280VUCK8O4OX: {B00XXHYVX4: 0.8092603218768062, B005M3X3R2: 0.635975986517139}, A22WIH3MMCK84O: {B000BQ85NC: 0.7267992084268428, B00YML13OU: 0.24271946039632608, B00AJUDVSE: 0.1216359731383515}, A23AFPXWGG1UL1: {B00NUFOZA8: 0.7603568396137528, B013HZCYXK: 0.728842756805652, B0055DZ3EK: 0.6298057635129812, B00FEBSJ58: 0.27943181876256473, B00CPFQAK2: 0.27717553955146024}, A23AJ7MK0COE06: {B00WW4H8XY: 0.6362987999593606, B0013BKDO8: 0.3152133634994132}, A23FZ9T87YQDWX: {B000PSBBM8: 0.34748863035124755, B0166FFCIM: 0.3155423913841975, B00GGAAPD0: 0.24336456446894428}, A23P5BO1UGNIRR: {B0009DV7Y6: 0.982057860393673, B00Q4MLPEI: 0.6429265073225305, B01983NYD4: 0.4616811894377897, B0185SOOSW: 0.2965430132239596, B01ENFOIPK: 0.1989300521547912}, A246NZ2ZFBIG1F: {B000H9JG7C: 0.9539515590916688, B002LL0BIC: 0.43039483422827074, B000H9JGFE: 0.42612621516066695, B000H9L3NW: 0.3144275772222328, B0000DD23N: 0.02690517036947604}, A24C3MOJIG8OFJ: {B015W7PWRG: 0.17556809560891706, B00N7I1ZVU: 0.12257321565182555, B017QWK284: 0.012078651073253344}, A25AXL9N6ZLAOE: {B00KSKY0XU: 0.9337042291660059, B01DOL1IWA: 0.777703193422527, B001B19FDK: 0.3695832362950512, B001AXD0EY: 0.3011254892182579, B00IAVMG8U: 0.2609134370470936}, A25EGMGZQIDX3H: {B00823IZQS: 0.8097118299830178, B00E8JPEMS: 0.4205001387575039, B00AKMNNX4: 0.3277449657769832}, A25I6O99MMHPEE: {B015IHMOSK: 0.7895373749868575, B01DTLWVSU: 0.32965194724253255, B017XGEDOM: 0.18212116159815794}, A25KVM6GJBLISZ: {B017NN0HQS: 0.6794683577923591, B00EW2MC9Y: 0.5088952298786805}, A25RQ94J88CNVQ: {B003GXF5DU: 0.9772734115719558, B0061OT1A4: 0.2693581015059284, B001889SBA: 0.2489805713659412, B000E60U6Y: 0.14727558636831584, B00LORGJ1C: 0.1323753709265486}, A25UZXXA8UFG16: {B018GZBC3Y: 0.9034902015717865, B01FL49VZE: 0.8730764335145401, B01AP2DNVK: 0.8584297818883335, B00YQBF0ZY: 0.53240592579742}, A25Y5NK7R1NG25: {B00ME7NHJ8: 0.6554485156499891, B00MB3CV6K: 0.6314032321051137, B01CKU62VS: 0.6034211998948941, B00ME7E5X0: 0.4955668153838607, B00ME74ZJY: 0.15290676968450534}, A2633LZKQYEZ7O: {B00AUB7M3C: 0.9099131006737273, B00Q6ZEE9Q: 0.3168608145262869, B00AO40QTW: 0.266691804504534, B00511PK2G: 0.2198244343712803, B0038YY25Y: 0.11810710064526642}, A268CNUUNOEYFN: {B010LBUQ3I: 0.6593023328334788, B00PXIEK50: 0.5540069081076825, B01EKFVCDO: 0.5033650105995577, B01FFV2TOS: 0.42321483837545515, B01CE4H5PC: 0.3729824208494794}, A26FVJVDWTK3ZF: {B00J0HB1YI: 0.9765070841827919, B00JRBQJ6W: 0.9545502106088035, B00J0H8EWA: 0.4086142279515632, B00J0H6NNM: 0.11662165482766984}, A26ULUWDO65L58: {B009IS86ZG: 0.9923029122169388, B00IIDY49E: 0.6304802935960027, B0006O1ICE: 0.5757841685815546, B0057OC5WK: 0.33976245096984037, B000UV6ZPS: 0.1886034092671458}, A272IF1954KYKY: {B00J0GRREW: 0.9683039130298515, B01FL49VZE: 0.626568210771952, B00J0GQ2OS: 0.6148987399968576, B007OSD9UO: 0.36444662844146725, B00MB3CV6K: 0.2907900057467401}, A275Z4Q1ERDWCF: {B00I0TTU1S: 0.7074123714972288, B00P67NIQ0: 0.6375219551193426, B008NH4POY: 0.4730942316761011, B000WMOEFS: 0.20174273545225896}, A2783BY8GMKTZD: {B0060FGA8A: 0.9929491672175973, B00CZ5DVPY: 0.5711620225806597, B0195V3682: 0.4842819995936115, B00COGNWXA: 0.28605205551042423, B005TZJ0AM: 0.12681977794721455}, A27BSME585OBEV: {B000EJUBBU: 0.9985988374859863, B001EHAZGW: 0.81973711361824, B00967K0NU: 0.6035161547456245}, A27EE7X7L29UMU: {B003Y49R7G: 0.8589008780986416, B00RDILWTK: 0.4062639030143379, B004Y960MU: 0.3266296519850609, B01EZTPX5I: 0.04689998225519565, B004C12Q46: 0.019230475020557303}, A27TN8D0CZ8LUY: {B001Z3C3AG: 0.9904843135069277, B0000DH8I8: 0.5013235459153231, B006EHYD24: 0.19178114717321137, B0006945SS: 0.1305851534654463, B0166FFCCS: 0.05378697484756856}, A27Z9PT16AYAYD: {B003CP12Y8: 0.7569809150368862, B00CIFW76K: 0.6902076206218513, B001JYQ852: 0.299237508925676, B00BW7MK0S: 0.1238482433187229}, A2826Q8DR6FRQO: {B00IP87H5U: 0.4667093514481935, B00ILCCUN4: 0.2893778755196087}, A28C563JUDSR9L: {B0013BKDO8: 0.6409621356224824, B00AU6Y6C2: 0.36231944261287885}, A28ZCI6F3R7TBV: {B0051IBDKW: 0.5172164312332764, B000IN1B8E: 0.2252303337689645}, A292NNRIFMF4FU: {B0050NGB6O: 0.9521115966366084, B0058TX6NQ: 0.905002653613987, B000SBLM1C: 0.7461714426524866, B008TT5M2A: 0.1006242953780887, B005V9USK2: 0.038756562210584655}, A29B65N224644Y: {B014UASFAM: 0.9348912233897174, B004Y960MU: 0.42937976396839883, B00HWROO7E: 0.2718442558678408, B00DMI632G: 0.21307290946108892}, A29CEF6R9EGAKR: {B00VSHBSVE: 0.4247825118403711, B00IJ67BJA: 0.2311671121386133, B00FEBSJ58: 0.1430932128556729}, A29KVEGHYLJ4XL: {B000K7IWDK: 0.882775598557918, B001FSDG0C: 0.18441033149574537, B003BW6IS2: 0.08505046924923909, B000K7GREQ: 0.07897580956005479, B000K7U544: 0.07775273382389747}, A2A1APUGAWNIK7: {B000BPRKZW: 0.271866439337787, B00EQDJCLK: 0.26229795715680226, B00W5PRY52: 0.1488706126069248}, A2A33KJUP7T2FK: {B00SFUVNKS: 0.8525985757801521, B00APT4S7C: 0.289790376304935, B00ZHUEZIQ: 0.18949321027219013}, A2AK7RLZEKXOID: {B00KN9UA0S: 0.4481728588763827, B00IJ67MKI: 0.3111441293050986, B0022MFPOK: 0.1513183100206067}, A2AQ6J1YDM4DHB: {B0013BKDO8: 0.37587489347591674, B00CVHIJDK: 0.04607422140087236}, A2ASEFI2CSCXI2: {B00V06VVJW: 0.8021707718687295, B001L5U29W: 0.5514749408130737, B004AF204K: 0.4801581632036418, B000NQ4PVG: 0.3864995755726679, B00EUGCT22: 0.25970616487610576}, A2B1VRXTWB024D: {B0000CBIFC: 0.8063746830733876, B00004WCCP: 0.804812221837134, B01FPG89CE: 0.5990870905635333}, A2B611ACES8G3J: {B00DXPRTHG: 0.3213873027339611, B007Y8UX80: 0.2662538226607407}, A2BAG6A1VZ9AQI: {B001JYQ852: 0.9010225404034732, B000EJUBBU: 0.8910043384000988, B0002EQU6C: 0.8154335203019989, B00ODD5MD0: 0.760183377507592}, A2BH9DHKBIBDX3: {B000NPPBVK: 0.7810224804378544, B000EJUBBU: 0.5343888702231082, B00ELUOERA: 0.47666243757948723}, A2C0QJVID4W3N9: {B00JGPAKY6: 0.8154627128575999, B00KHTPBVM: 0.6913430235237598, B00BEDW76W: 0.6592235515836958}, A2C9HQ2BYGLL70: {B014VM95IK: 0.7957307558217558, B00E81KESA: 0.7613307834434956, B00DVBLKZE: 0.5597171716234131, B00ZMWVA96: 0.35780096761321056, B00ME7YUIU: 0.060040983978503326}, A2CB7URD46AC2D: {B00KOOF5W0: 0.8201138864735678, B001R4CMEA: 0.10980854187569744, B0001GAYRC: 0.014245871333870008}, A2CBZSCRHBD466: {B0015YJIY4: 0.02555000617356118}, A2CMKRNNI0VIYL: {B00837ZGRY: 0.9498094620844213, B007ZUDT1K: 0.79467356713268, B0009N5SG4: 0.7315836005472646, B01CITP03W: 0.4319591740047859}, A2CPAU7D1A5P40: {B0002SP88Y: 0.8705612968979708, B000BQMRU4: 0.05739710086221872, B000BQKBC0: 0.03635525918512483}, A2CZ79IKGKL8UZ: {B00IYFOAWM: 0.6596209524599949, B0012DNFP6: 0.17903410005299902, B000087KUA: 0.05742802663739521}, A2D054AHPZ1929: {B0028TW2IE: 0.90625848130794, B003ZZUJPS: 0.8271250563782218, B000EDKOLI: 0.11585294780703193}, A2D3TLK5UQED6A: {B00CVHIJDK: 0.567341425538156, B0011YY9YM: 0.27360123135407355, B00IJ674QA: 0.2544219550654159, B003JQJQQ6: 0.19585572865693235}, A2DAVZ0XIKHHLM: {B0155Y22J2: 0.818663529711765, B00KJ5TE7G: 0.8183607889626449, B000FP83PE: 0.6632334438895927, B000ILG1J0: 0.6288288013361502, B00JERRES6: 0.5397323307753209}, A2DDAEQVC7H9PG: {B001BHGC7G: 0.21253485731471777, B00EZH0GMQ: 0.16860814747725905, B00QRELG56: 0.003620891726351605}, A2DIQTZPF26T1L: {B00BC6G0EG: 0.6573501828019447, B0001MSC84: 0.6512405369730581, B000HE5DUQ: 0.5577876788158644, B00EUKHACW: 0.11537115471231585, B000SKX0N6: 0.0967172954548825}, A2DMKS7AAJDUFP: {B00H1O0WOM: 0.45536600600406363, B00FKYDD1Y: 0.423258110807456, B01823Y0CK: 0.18421095245878627, B005HQ4QTI: 0.1692890226285949, B01CCA3CPA: 0.07193282254766775}, A2EAX554QBNBF0: {B00004T7W2: 0.9693686618836004, B01AH17FE0: 0.5627297484826738, B004AJVC7M: 0.4969900992724626, B009ZDDLVI: 0.31919025118236866, B0009RPSJ2: 0.11285027335670772}, A2FKXF5PIY4XNT: {B001F0MHV4: 0.7162572558674328, B000NHZYJM: 0.4429370411624701, B000NI5CJ8: 0.3037351912054992}, A2FOOWE5E379J2: {B0002KRABU: 0.9609387597181672, B000X92M6I: 0.0966487137273937}, A2FUNCCHEYRUVA: {B002BBD6X4: 0.9543050946712395, B00M0CS472: 0.7930409126363362, B00MEZDNV2: 0.704009311480245, B00J0H3PG0: 0.5122631259011631, B00J0HC4QC: 0.09295274487689065}, A2G0VQ4N1Y0FDU: {B00535HMQM: 0.8484963678081077, B00A2G3G7G: 0.7332912201543298, B017JCM1WG: 0.39570497380592184, B000I3PUE0: 0.2629924658527685}, A2G6ISFMGZWCQN: {B0080XSES4: 0.9700734269375236, B00208DWLO: 0.859043406412194, B00AWCGLRW: 0.6685500049361347, B0064OGEZG: 0.5266313791698911}, A2GD2HORAJHBK5: {B00837ZGRY: 0.867877542340679, B000EJ332O: 0.40749530000563405, B00004YZQQ: 0.18951378822364062}, A2GFB04XVE1ATD: {B00OCSPCN6: 0.9880605501425146, B00ZSDDJ4S: 0.767751352593758, B00JL4F1SM: 0.7298662013165186, B013PSL4EE: 0.5632926071100018, B001V9UQU8: 0.3660906874454094}, A2GHFLDZXSTPSF: {B007Y8UX80: 0.7438016312238074, B00191IZB0: 0.05281685749548326}, A2GJX2KCUSR0EI: {B001JYQ852: 0.9133975155421482, B00KB8K85S: 0.5149370056710064, B000MVZ020: 0.5120741129694545, B011SGW6LA: 0.12358588139447058, B005K091ZU: 0.03878383256080542}, A2GLL4QLIGHUS0: {B00J0HC4QC: 0.6260354275939412, B00ME7B4KM: 0.47750946912113257, B00SNM5YBC: 0.3767334887663638, B00J0GRREW: 0.09399568336981157}, A2GNDZAUXS8P0Z: {B0060FGA8A: 0.872848017543557, B0185FDWGU: 0.5295840661017076, B00CQOM1IC: 0.5256387787174379}, A2GNL3PTKEY6CD: {B004O3OP2S: 0.8315308620235898, B00B95QUMW: 0.5245754951621437, B000KKUGPO: 0.4875742791359995, B00E8S2ZR6: 0.2351592484567866, B000KKVWF2: 0.2173721290434052}, A2H1E4KMA26T9Q: {B00GORWKB0: 0.7645400745781862, B010CUXFD6: 0.6159963576963041, B006WMRVS4: 0.5280823396688016}, A2H4EBQ6GFUXRK: {B001UL4INI: 0.968232127119235, B00KX26N8S: 0.9150190417120836, B000ZTEPWU: 0.42179957183847894, B0053PYDQO: 0.3809704762540237, B00DVIEJ14: 0.3099051378744492}, A2HAW2PYNOU5XT: {B00004RH8J: 0.9723429841781347, B00004RH8I: 0.838063183263208, B00062N40A: 0.3300605470662986, B00002246J: 0.21442192174840136, B0057PUEZO: 0.04418416604176201}, A2HNJ783U7XD8I: {B001BLMC1M: 0.3479610428150842, B00AOCKWMU: 0.2215365476308837, B005Z4QVZ4: 0.19814635121090252, B006GG0TDK: 0.15558810747124974, B00DRALJ28: 0.1317296516913169}, A2I64I62LBXLE2: {B003KTLRUA: 0.7978679600971837, B00H222E8A: 0.3064884006917127, B00C351GBC: 0.21958417242245054}, A2ISDEA2IYZDJZ: {B00538ITFW: 0.8803201548150198, B008YFTTGO: 0.8029760246806792, B01BONUDD0: 0.776972156731781, B003NRF052: 0.2875675934542272, B0013J1UJW: 0.11503977461212833}, A2J0CYSHN37GA1: {B000HE5DUG: 0.7215589398249966, B006IOZ5AW: 0.4323547085785914, B00DXPQIFU: 0.2780539454929216}, A2J69W1GT870M: {B00EE9LKRA: 0.943100373666587, B0013HJBA4: 0.8901426324394862, B019RQ5EYE: 0.3720333619581123, B000EJUBBU: 0.09100968727303171}, A2J7ET07NRTQF3: {B008VIHFSI: 0.6441771972912216, B001D7DV00: 0.5055648156597795, B0018RUGA8: 0.4135633392978566, B0018BJW6S: 0.1959523823143131, B00784RS5Q: 0.08114398563224334}, A2J89VBU0PUUUE: {B0166FFFD4: 0.5281694817226417, B0006O1ICE: 0.40088349123961464, B000F4OYMQ: 0.11810832856627163}, A2JAJXJ0HEOLFQ: {B01CTNPR62: 0.892011303912554, B00KHTLWU6: 0.769763365725363, B00H7VEU0G: 0.12364017124640725}, A2JAOQP9N0K4CG: {B001E5ZWT4: 0.5831314041733328, B003O5B5LG: 0.12376771621654525, B000RUKZSA: 0.1144002515184076}, A2JBSW27G9FJW8: {B001HWGMBG: 0.9325424299960915, B003119EDE: 0.83865120312794, B000XTHTKC: 0.30594145267602424, B000H9FW16: 0.2780370716117402, B00I9CT43U: 0.2364515165756882}, A2JGSXRX2AWMO3: {B0013BKDO8: 0.9906992971055821, B0002T6L5M: 0.8841075132444478}, A2JX9HWTK7TS95: {B000LNTLNI: 0.6690538774819493, B0013TVEWA: 0.2626960074023461}, A2KPDRY4YRR7WP: {B0051IB63Q: 0.9577830486714484, B00C7WXTJS: 0.7915361427117136, B00359FCAG: 0.7359386016140327, B002WJHE7E: 0.35593480710010394}, A2KQBKKSSJ8FQJ: {B000HE5AV8: 0.22531728825277442}, A2LOCNLCDMUKS0: {B00BLUE522: 0.7399394371027243, B000BQYHSY: 0.41781946958946903, B0022MFPOK: 0.3913735671799361, B0057PUEZO: 0.1627512177053564, B00J2ARKFC: 0.06463054667554224}, A2MJBYXQM96E2E: {B008IFYGLS: 0.7739245689789543, B009ZXYI1U: 0.7534921250216859, B00CZ5DVPY: 0.6423358628769482}, A2MKG8P7L2PPPB: {B003BZRIBK: 0.3091147591907061, B000QC0XZO: 0.15554298203154615, B005V9V2BG: 0.10261779386765424}, A2MW6QXRLDQ4C2: {B00III7IP6: 0.9914581446463826, B003YDNHDW: 0.8723277277043414, B000HE5AV8: 0.5981442148070946, B0027Z6CY4: 0.49935070167311657, B00HWROKAK: 0.08307143891891988}, A2N7P1HKHIWEYU: {B00ME7CV7C: 0.5853714152516052, B00ME7E5X0: 0.5501479158693353, B00ME75BGK: 0.5394137610671036, B00ME76OHA: 0.20715618444756445}, A2NJFFQ6W35XJU: {B00N51OO7Q: 0.5465449498399999, B00HUBZO7Q: 0.5432741356111596, B009558CL0: 0.5233916292346581}, A2NQ4UEKJ3GTYF: {B001VE99X8: 0.9379165201517073, B005HE0S4C: 0.43662913336606723, B0002T6L5M: 0.12397065601582391}, A2NU9H8H5MJZSL: {B0081CSFUQ: 0.6319410449468249, B004AF204K: 0.41362981766944285, B00LNFU1OG: 0.18283003846418988}, A2NVQZ4Y7Y0J1R: {B0013TVEWA: 0.53179000127878, B000CSS8UE: 0.4927733632365203}, A2O28GXZHU7P3C: {B00C351GBC: 0.6939298059076059, B00FHFV9AI: 0.691804930364938, B000RI7J54: 0.28130888708412516, B004C12Q46: 0.08292676421667311}, A2OCDK0BOW6UCY: {B0040ZOF48: 0.6317926890061605, B01EC765WI: 0.5977571177156619, B00M411692: 0.4469961308797179, B01CP183UA: 0.41733925552068996, B00NA00MWS: 0.1610566218421503}, A2P2QJXEQU5BIM: {B00I9CSK4Y: 0.77361547626925, B000E60U6Y: 0.5188398349667218, B000E62TCC: 0.4721539514932782, B0064OKYFC: 0.20353038951029978}, A2PJH18W4XHTZW: {B000ZZY7LS: 0.9948540688867021, B000EJ332O: 0.7287379186443306}, A2PREU4LOFQRB1: {B017EOLGJI: 0.8762673062021236, B00192D0TQ: 0.4779374886656098, B00MBI821I: 0.2916494332249623, B0006HX1HG: 0.11526289050081095}, A2PYCFKJGYZP2O: {B019781KF4: 0.5078485631466257, B0002YUNRE: 0.4682843637745546, B01CL1QUCW: 0.4637574514891203}, A2QDTCBRFUB9SF: {B010XHY4JM: 0.9763209060404463, B0017QNNSM: 0.5896719717929205}, A2QTPNOT8NDRV4: {B007D5H4HW: 0.849930715721155, B000B868NE: 0.7629458629857767, B005HILWGQ: 0.6332683765379501, B001KZ3NOO: 0.44809347271371336, B01GP8V1BC: 0.4418658984441862}, A2QU3HFCRGQ2ZI: {B000EFMLQ2: 0.6095127466555927, B000S13ORW: 0.41903711388693343, B005F5KYM4: 0.16975471136248987}, A2QVLT9YJG437N: {B00B5134FG: 0.9692755573063128, B006TVMHT6: 0.9028412962952755, B000I1EC3C: 0.5485314605488485}, A2QZE3PRXDXHAF: {B00AWS3QV0: 0.9009698301950119, B00HUUWYIO: 0.4913829695014359, B005QDP1XC: 0.43227013198096986, B018FKFJQ6: 0.3292975694614748}, A2R2SNE3EN07Y: {B004U3U3DC: 0.827864316843456, B000B9W2GU: 0.47724692056216167, B00B50RNQI: 0.03243984769094377}, A2R98XXD3PTI9U: {B001LQTF58: 0.6314931863230479, B001LQNUT0: 0.02580105086290918, B001LQNUUY: 0.005075572258533834}, A2RDW6SF57NWPK: {B005Z4RGDU: 0.514477957029175, B005F5KYM4: 0.44948973824090954, B005F5OJG6: 0.3200439782022213, B006UKIABA: 0.0009189170104895172}, A2REXU52Y5DZ2W: {B00JRBQJ6W: 0.5341452030937593, B015I1CZUI: 0.42270882082551364, B00TI3JUWO: 0.30701444199532935, B00T7EI7B4: 0.16990174781482814, B007Y7D2GG: 0.013659704246752113}, A2T64CQNUPHUAI: {B01FJGPMQQ: 0.9694952742528383, B008X18NWK: 0.7402217056331979, B00W8WCPEM: 0.5135258968259875, B005T8VHCS: 0.19031325917145447, B00MFRMFS6: 0.17622170178442054}, A2T8E87ENO53CF: {B00E9YQQSS: 0.8583077438352191, B00H1O0WOM: 0.050359406664342354, B00LVFDLUO: 0.03096171685124971}, A2TQ7B1D9W4Z6W: {B00C58N9O4: 0.747662167801605, B00AYHS7ZY: 0.6693714596023154, B0060FGA8A: 0.43117846409802685, B0064O9B7E: 0.36510346159821416, B007LQC3Q0: 0.16133076917380684}, A2U77Z3Z7DC9T9: {B003DKQB02: 0.5625551552171065, B005OD7AEM: 0.4045703090852856, B01DQBP8BA: 0.16800168761342316, B00B515DNC: 0.016094565951427553}, A2UMEBT4X3RSX0: {B000BN33FA: 0.5777309348185209, B002WJHE7E: 0.47937141370231295, B00004YZQQ: 0.1796807912834889, B0000DD5H1: 0.153504395762869, B000BN33FU: 0.1411606360104708}, A2UNG182KSYCLE: {B01E6RJ6WK: 0.9429794041368987, B00I8NM6JO: 0.8399623898133121, B0166QZ5HO: 0.6369354714793007, B00J0GMMP6: 0.0657199992305253}, A2UUEYNLEHUN2L: {B000EIO86A: 0.8955279058772305, B00MMYDAQI: 0.7526937545997134, B00EXLRW5S: 0.34751887749236365, B001766LZO: 0.11677790029179191, B005V9UYY2: 0.11569932267563166}, A2V3PAFOFGUVY1: {B007B2ABRM: 0.912609949866306, B01COSN7O6: 0.7991835204053077, B01EV6LJ7G: 0.13618847087997044}, A2VFJCC9KBCX5U: {B00F839VNQ: 0.9188152390290801, B0050HGZC0: 0.8609697522810988}, A2W39GGRWSFU7K: {B000I1EHK0: 0.7645036086293546, B00V8A6CSU: 0.45764183127564595, B000JJVE7U: 0.43477736055074534}, A2WBD33QMHIDYS: {B0196DR004: 0.7123855793911588, B00SD6F6FC: 0.5500304672410176, B00OZSL8UE: 0.4539112988427402, B004UZCMRK: 0.39141819476732, B00CZ5DVPY: 0.24163317402724382}, A2WJIDZ6PKRE8R: {B005Q5LXY6: 0.8721062515115456, B0001MSC84: 0.8682146227571589, B0021UMTZQ: 0.7084474925964438}, A2WQM0D2Z9XY3E: {B00O2O5SS4: 0.9658217980368019, B00M0CS6HA: 0.78502212569717, B00I8NM6JO: 0.25149481096796733, B00GO7SBZO: 0.2333792544056722}, A2WQPBT1JGLAMV: {B0045VKF5K: 0.7490422971810555, B0000DD0VA: 0.4318210141444758, B0079JU6J0: 0.2072103932508259}, A2XDP0282DSFH9: {B001C5I4BO: 0.7417881286410349, B005KMDV9A: 0.3272722904665497, B013WHOEMW: 0.1704672459255202}, A2XLUTZACQXG74: {B000051WTX: 0.3712270564586011, B0000DD1EJ: 0.10518851374844262}, A2XUDVALJW64EM: {B0038YY28G: 0.8216108789001221, B000VTQM70: 0.5730765548246397, B001VE99X8: 0.40046170877147835}, A2YB7DLC3FOR7W: {B00062N464: 0.30072757838441966, B005P7P9M2: 0.2649341364070654, B00062N45K: 0.0021502576541241325}, A2YFCHH9PR70FE: {B000X7VGKS: 0.7364210788595325, B008ZSX42K: 0.7023019437581031, B000CINVA6: 0.3778203527939986}, A2YQIUR7DJHB59: {B007Y8UX80: 0.9177251156615166, B00DXPQIFU: 0.7018585224991517, B00FEDHHKE: 0.5798879201365004, B00GI2CIQS: 0.4332660324555404, B00DXPRTHG: 0.3711136359686229}, A2Z3TO107PCBS9: {B005V9V27K: 0.745524402203287, B00YAR86BY: 0.26462558449753115, B00LKQBHVO: 0.08387027746549691}, A2Z6ATO3EHD1VA: {B00M0CS73S: 0.9094973431547481, B00J0GPC80: 0.7448155026592975, B00J0HC4QC: 0.7435012684803292, B00J0EE1D4: 0.5549512207316057, B00J0GMMP6: 0.4281301887506225}, A2ZEAOLT06OLBY: {B0013B1XLA: 0.9661707409396431, B00008VXNE: 0.7563721641640923}, A2ZXSXH5I18OAO: {B0017PWVO0: 0.3497299752990942, B000087KUA: 0.1910884934002688}, A3091RP0SPZLMN: {B00B786TXG: 0.6540153996921039, B00BU6823K: 0.6426831540872051, B00ELI7SBG: 0.6193684407167496, B0070PX7E4: 0.5409415804426102}, A30SZ5HVLKTN45: {B00BMLCGF8: 0.6426196987045639, B001769IRW: 0.5291701160081463}, A30VYOQO8KQ5OT: {B004NG8V9E: 0.8136849556994205, B00AF0ODGM: 0.7616189123618311, B000BQRBO6: 0.4836320005121011}, A310DI6T2IL9FE: {B0000DD0C7: 0.9775399220081433, B0070YYOX8: 0.6199598438452476, B007BTPBSO: 0.21588941834004383}, A31AN5KNEAN6ZS: {B00S1ULSY8: 0.8225548749779222, B00N4L5N4A: 0.7962248856938278, B005OD7AEM: 0.17178239615888502}, A31D95FNI0350P: {B00EP0T1HY: 0.9949869880260429, B00008US7G: 0.8552174533170458, B00DMI62HM: 0.710089718346982, B00524H98U: 0.11378655874037669, B007FER2IW: 0.010471728485273002}, A31E1QZXTC9XYF: {B00CR8ZRBA: 0.6064299191985384, B00CR8ZRCY: 0.12880464215764165, B005FSSKJA: 0.10140971707276436}, A3271SSPMV1O5W: {B00028PDO8: 0.9304588840961164, B0012TYTH8: 0.4969635209280998, B00BUV7I3K: 0.23331421347068038}, A328S9FMOLETH5: {B000H9FWA2: 0.2797712947519547, B000H9FW16: 0.13482430138043722, B000H9FXEM: 0.12650068883813148, B000H9JG7C: 0.10415759745089226}, A32D87X273834V: {B01CFXISVW: 0.8034642489773405, B00K5QVBCU: 0.5447402876675741, B00B8BZ2O4: 0.10327589258062075}, A3338PEDMWU6OK: {B0053PYDQO: 0.8837361137713011, B0058TV05M: 0.6836975791549671, B0053PYF62: 0.23070014128442773}, A338XSFX09QOL5: {B0006IX85K: 0.612808192315432, B017AJ0ISC: 0.5276656727498722, B00DVIEJ14: 0.07882151431034534}, A343BYQ2LA2FXT: {B01H35YR7Q: 0.5888735522201473, B00IBZE2EQ: 0.3664636787108869, B01EKEMDA6: 0.287447078166965, B00L4UXQ42: 0.27980091126099693, B01CUPV9KC: 0.052921655743501717}, A347QZJBH72AD0: {B00CHR9YK6: 0.8724002158074942, B006UKI5S8: 0.8543398308513701, B0006O1ICE: 0.7846534966385899}, A34947N59S4GGR: {B00L0CM3AW: 0.524251406553024, B00CR8ZRC4: 0.13838595899223305, B004Z9XG0I: 0.1375546114963031}, A34BK8P3VV9EV8: {B00J0H8EWA: 0.827439921441622, B00I8NM6JO: 0.7171042482940491, B00VEU2FDA: 0.6064660165278206}, A34GZ8L5ITZTF8: {B000KKVL6C: 0.5823768777622221, B000OQQVHG: 0.4090710660652115, B000BY21ZC: 0.26376591863242926}, A34HUWD59W75GD: {B000KIEPSA: 0.9714954277014143, B00CBKFJ9Y: 0.9305891489598823, B01CL1QUCW: 0.41165180885205255}, A34T6NA7GU189S: {B016R3GLB0: 0.7559028707032868, B019SWLTWI: 0.6919451489864693, B000NPPBVK: 0.46588304603887054, B000ULYEGK: 0.2336093690316895}, A34Z6K7U1CP5SI: {B00004Y68Y: 0.8671727195503303, B001LQNUUY: 0.7459707317268254, B00004Y693: 0.696980477923814}, A35HWBUEPSNWUF: {B000I1EHK0: 0.8738223247117514, B00JJ18VIE: 0.44769900734160517, B00C9BI1CM: 0.0819594601732826}, A35JWV3EZUEMW5: {B0051IBDKW: 0.8974220808941399, B00ME76OHA: 0.730633958561825, B019VSI9S6: 0.3425839338635981, B01GD8LCFO: 0.250212721167707, B000ON4WCK: 0.20925126902975988}, A36MESF3CJXC75: {B00004Y75M: 0.8732200727993736, B00DVBS2FK: 0.794256521582264, B012APXT96: 0.4657329128705032, B00KX26N8S: 0.28512782858651264}, A37Q4ZFI8VAXIN: {B000NHZZ2I: 0.8109553622056265, B01AUAG3NM: 0.4369919917140197, B00835NI9E: 0.02819414365685069}, A37QVZZWHB8ECE: {B0013BKDO8: 0.8428536787936582, B00WW4H8XY: 0.6442048610148494, B00DRALJ28: 0.0586218184871945}, A386LG0LRWKJZP: {B00DRALJ28: 0.7791296236229024, B000WFRMBI: 0.49772116230935837, B000ZOT39A: 0.029298572372932763}, A389G6JYCHK0S8: {B0002ZWKQK: 0.49091214684636875, B00CR8ZRE2: 0.3184230963112301}, A38BCWBCC4KGGA: {B0000DD5H1: 0.8242784060181666, B001DC9USC: 0.7494062378371079, B00837ZGRY: 0.7452035343928105, B00176ETK8: 0.013545033452790789}, A38DMZSB7CP6IO: {B0007LDJ9Q: 0.710120223075075, B00020BQGK: 0.6827477118570044}, A38OZWXK5NX4F9: {B01FL49VZE: 0.8339305811704635, B00J0GRREW: 0.6669540159558214, B00DRALJ28: 0.4898920423931835, B00J0GMMP6: 0.4422560166935149, B0013BKDO8: 0.43003490482859974}, A38PY9P1WFY1JI: {B00004WLKA: 0.7446802014143545, B01B6R0JNI: 0.627178794418593, B00A9ZNCJM: 0.39017430344664317, B00OYK6G78: 0.38862997913880737, B01AQ94ERY: 0.3230319432318475}, A393L8KPRNFKMU: {B001CX4JSS: 0.8619761249389633, B00755XY2Y: 0.6785271717580107, B000NPUKC0: 0.20429741218738307}, A3963R7EPE3A7E: {B017NN0HQS: 0.8034701845240427, B00548SAP0: 0.7741661268011951, B000HE5DUQ: 0.5311841778230069, B000EJ332O: 0.16099020104609407, B00X7R1FZ2: 0.05548184242439469}, A39DDBN1081H61: {B004VNCFWI: 0.7125750841523848, B00TJMEX3U: 0.48828148989362186, B000NHZZ2I: 0.3818156007089376, B00CJI6T4M: 0.21483299961311275, B000NI5D06: 0.20743957580511974}, A39PJ20IDNCH27: {B000MVZ020: 0.9730904354618779, B001QFA184: 0.7062077695087422, B00BXUQUBY: 0.22373483794339732}, A39R2Y4XNRMK9C: {B00MEZEFVO: 0.6870636082390472, B00JQK50P0: 0.664870533594893, B00ME7CV7C: 0.5724739754196105, B00ME7424W: 0.04193077332967643}, A39WT88YZXIJTB: {B00E81L2NG: 0.49859899675350106, B00143LLB4: 0.2432921071778269}, A3A4Z0SJ8WWYJ6: {B000FXUQ10: 0.9871746174806423, B00004WCCL: 0.2748986019973989, B01EV6LJ7G: 0.23401465276366917}, A3ASET5JYKE87C: {B00BXUCWQG: 0.8982279183277939, B00KY96G6E: 0.6814428284645059, B00NYWABAA: 0.6664186987089946, B00AMC1V2C: 0.32548910257125807, B005C8AYG0: 0.023663104417313563}, A3AWJBD4HB0KUJ: {B00004WCCP: 0.6917614723429399, B004KICAVU: 0.18274725623808707, B005756516: 0.03467884096349072}, A3B0IGJ7W6LV5D: {B01GQMTYI4: 0.5420065089986709, B000KIEPSA: 0.4103762463931999, B000LFVFA8: 0.29952796373621193, B0000DD1D2: 0.2650001554568153, B00X74FNVW: 0.01073848305117775}, A3CGLZ13Q6M79V: {B0000DD5H0: 0.7989292441573392, B0000DD5GY: 0.7779573551553558, B000BN33FA: 0.5407254290422425, B00AF1UMJ8: 0.49897690817133267, B000BN33FU: 0.13348871882806113}, A3CHN5VOPZ1NAV: {B009X2ATX4: 0.6432254900443543, B00AIFSSUG: 0.343595974160409}, A3COVUOJMLQBL9: {B016NXK6QK: 0.7555995901248301, B00ME88QPC: 0.36524528154736424, B00ME7E5X0: 0.2602953019801101, B00ME7CV7C: 0.1891042516586109, B000LGPD64: 0.18406997912790257}, A3CZV9DF3E18MJ: {B0010OKMS0: 0.8861946308115275, B000H9JG7C: 0.8160199548465642, B000H9FWA2: 0.7484638400807139, B000H9FW16: 0.6638848574035666, B000H9FXEM: 0.5361944035581088}, A3D0A541E8BRFO: {B000K7GREQ: 0.6348630482379154, B000K7IWDK: 0.17215952746542462, B00KHC62HQ: 0.1677163657047468, B01C3IQDE8: 0.05722776810120633}, A3D337XNYKO5G9: {B0018S0WBK: 0.7055438259238903, B006UKICJA: 0.28697822089628267, B004P4OB4S: 0.26522828304524126, B004XR5UNI: 0.17297058795159115}, A3D5BR4G8PLAY4: {B00WXHSU14: 0.8343034472735587, B008YA6BWE: 0.7051008835162756, B000BQN6W2: 0.4578244530833896, B000BQR55G: 0.3741158347946997}, A3D5QPJX96MUTK: {B00MVXL116: 0.26229582332894197, B00CYTLXTM: 0.20217426941086325, B0013GB0EU: 0.13643505166517989}, A3D8DY76G2IR0Y: {B0009WD1L4: 0.764688416323632, B00NPBUWRC: 0.6773305480315326, B007FER2IW: 0.5883214804258542, B003H057IU: 0.30459645576341965}, A3ECCRYGDAAP5S: {B000KKVL6C: 0.9834814929512103, B00GTW1BMO: 0.8264649564257812, B00191IYNO: 0.5021872940804851, B008VIHFSI: 0.32191071678102245, B019FSPV88: 0.0589334276825928}, A3EJEZOOSCFBFJ: {B00CR8ZRE2: 0.9161076031883012, B00F5PNISQ: 0.6066044279131387, B000P49BX8: 0.6023486875815937, B00OCSPCN6: 0.030845692158248172}, A3EV1F7UFRBLPX: {B002I05TUQ: 0.7379808894420307, B00BS2Q936: 0.6369857670092726, B01GQRXJPI: 0.31450042224746255}, A3F3EKUPSOFH0K: {B003DKQB02: 0.6689056823268097, B0051VC7CW: 0.05427179182461617}, A3F4O4Q06RE5UK: {B00WW141TG: 0.7484200622272078, B006ZFNB2I: 0.13636507564063294, B010MZ8T2S: 0.06172739940883354}, A3FOEZUYA4MRW5: {B000EJUBBU: 0.9228422038225077, B001CDTZYQ: 0.0422521921725757, B001447NTC: 0.035942832499590405, B000KKVL6C: 0.020562145535493848}, A3FPKISIVLND6N: {B00H1O0WOM: 0.5509946616740878, B00ANYYY5U: 0.35629740547878364, B001B19FDK: 0.023444459320405286}, A3FYAB9TP20B1I: {B000FMWU42: 0.751684599404227, B0051VC7CW: 0.6376664128994083, B000FN1FLA: 0.6030604455121842, B000OMFLD0: 0.2675225533396288, B000FN0YJY: 0.0018689145713575162}, A3G0EP7W1VPY2W: {B01180QKB8: 0.7330518368884008, B00DVIEJ14: 0.7278809320461148, B00EQI900S: 0.6997007440771827, B001DC9USC: 0.43333095443782743, B01DU3V0CA: 0.28598892784562424}, A3GBKWGX9ZMO3B: {B00BXUCWQG: 0.726615842179261, B00NYWABAA: 0.4259675129215009}, A3GC48AS8GYPWD: {B005IQTSE0: 0.9566423636768568, B000234ITO: 0.5198756375591735, B000NCUTCO: 0.20529003961551817}, A3H11L9H0O7GKJ: {B00I9CT43U: 0.8206147317599969, B00KWLV9PW: 0.4269208591354343, B0018ACR6G: 0.023323107814692823}, A3HAPHA8KF06U6: {B014W97MH8: 0.9399234109089315, B005FSSKJA: 0.40244073440559613, B0081CSFUQ: 0.019351506931252538}, A3IO2U3J119OO1: {B0094WJIRG: 0.7373875326775643, B001B5P3C8: 0.5920988654216067, B0010VOJHS: 0.08897665467985927, B00NZLXAU8: 0.0713311417980862, B004IALV0G: 0.002319575548588415}, A3IQYWE8ANV7QL: {B0020ZT8QU: 0.9669140520356717, B00EUGCT22: 0.4896422331089654, B00004YZQW: 0.4348976619691697, B006KWCIV6: 0.051044542323025355}, A3J0QK4NC07BHI: {B000ZOT39A: 0.6543296953181711, B0020ZT8QU: 0.5011768192124278, B001DC9USC: 0.4618486751847827, B000132VDA: 0.12178874777775595, B000234ITO: 0.06157959043821837}, A3JDLKHKQTR22H: {B009K6OF5G: 0.7880322473122565, B004EXMS4U: 0.6823144889247384, B000BT32UA: 0.005430396321450148}, A3JGDDXNU3LKCR: {B01CNGUW4M: 0.8812076816386804, B00EH6IZ6Y: 0.7174460045738935, B00CMTKKQ6: 0.7173178729453201, B00DCGWYKI: 0.44161499799269655, B004YK2KSM: 0.3096909822295295}, A3JQYOVMO7JDEQ: {B00RU1V6T6: 0.7668486630187089, B0007TYCA8: 0.28560652387765384, B0198H8JB2: 0.080632317781404}, A3KBMS59165TUN: {B000HBOYZO: 0.8197855753183017, B001B19JLS: 0.744939970257914, B00004WCCP: 0.6978389430089438, B005RNEH5O: 0.6505688238528595, B00MHGH9KY: 0.04341499197115861}, A3KLDEKXJZNT13: {B000IFF4L2: 0.9807080507601964, B00B0Q4AGS: 0.7234736022731224, B00KRHF8E4: 0.6687259460632551, B007KM0CWC: 0.3094475078895934}, A3KPMTNSBKOQYI: {B0009WG634: 0.9931464726754199, B000KKVL6C: 0.43133361499281864, B0044FSXU6: 0.3438318783978299}, A3KRIQDDV7EZRC: {B005TZJ0AM: 0.7828222684193271, B00LO32MBM: 0.3466493779006413, B00CVZ4134: 0.26924598418266976, B00CVZ428S: 0.11850418471173185, B00KYTE3PU: 0.028351942817568476}, A3KZMPL7QG1C7G: {B0013BKDO8: 0.9311067298862626, B00DRALJ28: 0.8917442012961209}, A3LBE3J28WGC2U: {B0015YJIY4: 0.7182426676347642}, A3LFNCM1BODUEF: {B001DC9USC: 0.5849038911533261, B005QSMO3W: 0.29580777525432644}, A3M67BHA67S49G: {B00CVHIJDK: 0.8104496040961048, B003E48EUC: 0.623871090320289, B000FK5DFC: 0.41880392973268243, B000R6RLAY: 0.3167649420423697, B00004WCCP: 0.30191468441825076}, A3MDK5IPE0F4BN: {B000FN1FLA: 0.6168698638640869, B000FMWU42: 0.1959234083292437}, A3MQU9GXW89HKL: {B01H6J5QYC: 0.35453514881618386, B0014DZ4VW: 0.30293953908939497}, A3NAAEG6Q1E96A: {B000SR134C: 0.9670078938985927, B0014JC9HI: 0.30649006429914016}, A3NF7NVIZ753DF: {B008IMQ73Q: 0.9255392079409254, B00FYGEFYM: 0.908663590187835, B00CSKFT6A: 0.856849700823788, B0002YTM30: 0.6866330143175206, B00ARTP1J4: 0.426246911168658}, A3NUXNA1BMUTKT: {B00178MO58: 0.018293683799256555}, A3O5WE4RDC0VSC: {B004LO2XVA: 0.6222832248561222, B000PSDID8: 0.40445443985848095, B0013AZ4S4: 0.3738662451661775, B0009XB4O4: 0.3099464752013168, B00004WCCP: 0.047202438203823194}, A3P6UBW9N5LE02: {B00002ND44: 0.7871846008695406, B000FK5DFC: 0.3485752088697902, B00W328PPU: 0.21163299293776106, B000EJUBBU: 0.20827003369090158}, A3PYZWD58W3FP0: {B001766LZO: 0.8645521685100902, B000EIO86A: 0.7153946539013365, B001769ISQ: 0.6216641854319672, B00176877E: 0.5166348127611062, B001769ILS: 0.24467630777325888}, A3Q04OG1QR9B9N: {B00MF03VLS: 0.9810246075665218, B00MEZEFVO: 0.6176781730877395, B00TJMEX3U: 0.3530677888909557}, A3Q292N7K4H5AL: {B000CST1L4: 0.7885665705774197, B000VYL5AE: 0.651195506286551}, A3Q7TY0T4PQULD: {B000I1EHK0: 0.4452900174052846, B00114PCIO: 0.4196987268278105, B001OBTZ1E: 0.11258342466797366}, A3QSI430Q2SOCB: {B002TTI9JO: 0.8875605668541641, B00KWLV9PW: 0.8197976065391362}, A3QSKWU6NBIBR7: {B01ETMVQOI: 0.8658528145287977, B002WJHE7E: 0.6722886332892277, B000Z9DCF6: 0.5604784538267132, B00PGR8AXG: 0.21501868634368104}, A3RU4PQTBD5RXO: {B0015YJIY4: 0.5461611755239446}, A3T0A105DAILLS: {B01GP8V1BC: 0.5350103510570697, B019IZZKUC: 0.1671974984564325, B0012NJYE2: 0.13421102135446983}, A3T9C9XS8ALRII: {B0013U75B8: 0.6040014276923226, B0012BV21W: 0.43264016146465334}, A3TRHT1Z3IGEMU: {B00J0GO8I0: 0.9445106211852526, B00J0GRREW: 0.390124863539391, B00ELUOERA: 0.3674902158574196, B00LAJNOXK: 0.20161444151976904, B00J0EE1D4: 0.07489964068706234}, A3U7PUBA4R031N: {B01FL49VZE: 0.7097655083999865, B01BDL4BNG: 0.4388873110496664, B00M0CS73S: 0.3205928707123412, B00EUGCT22: 0.1330624162369114}, A3U7SU84ZBL6R7: {B000051WTX: 0.7234282912932174, B0012BV21W: 0.4692298458490012}, A3UAV58JPETW0P: {B000ILJZN4: 0.5828563020196952, B000ILG0TQ: 0.18924389978055778}, A3ULJ3ABLZ60L8: {B004EXMS4U: 0.2969678539552092, B000BT32UA: 0.25655744874795183, B00FM7VHUI: 0.2550909342330847}, A3UOM0RUVO5JH9: {B006PKKXM4: 0.7208191268412925, B000Z9DCF6: 0.21217109855944705}, A3UPU6GA25TA11: {B00N51OJNK: 0.96902487426139, B005V9UYUQ: 0.7210794850915087, B004HKITWU: 0.7008596388098067, B010GWZOUW: 0.07977864668475543, B000BVXW9E: 0.055260126471668114}, A3V8IOQ031S4CH: {B007Y7HPDC: 0.958864786483749, B0011Z82YO: 0.9093437416110367, B009KAEP7A: 0.3191701273664094}, A3V8ZFSLY6WL8D: {B004HKITWU: 0.7979743653076171, B002BBICBK: 0.6662676480977868, B00HRHAZ9U: 0.19975953321840423}, A3VJNK6KFP8KWK: {B015OTPK2Y: 0.9848898680127488, B005OD7AEM: 0.16066298062920759, B00CVHIJDK: 0.10121573188485555, B01CNGUW4M: 0.046802487047925556}, A3W49ANY1V1CBD: {B000YUCES2: 0.7246633849388795, B000MK9WZC: 0.6226325024156999}, A4L0UD2AWHART: {B000FP83PE: 0.7468717425287611, B00FQ937NM: 0.6173751318554035, B00L62RY96: 0.5322654564736623}, A4ZA8DKI7P4AZ: {B00F2IQNX8: 0.6810015125031094, B00J1X4MFQ: 0.5003754667741059, B014W3ZHT4: 0.26905121312762514}, A5II29J0V20A1: {B001EJOPUC: 0.8966595405731466, B00AZBIV9Q: 0.7590654032096724, B00SWGVICS: 0.6591317190634638, B0002YX98O: 0.021985268699172278}, A6HIJQ5XXX0R9: {B00BSXAIJG: 0.9479726417012516, B001HETINI: 0.8369777484101398, B000EJUBBU: 0.41374047772664935}, A6SGCKJFRSS4K: {B008SYWRB0: 0.4614921501910072, B0006945SS: 0.3873033000669709, B00MSGNVNW: 0.3514708571214785}, A6VDDN5TCKP9Y: {B00DXPRTHG: 0.8549244811594756, B00657P0MA: 0.7612972157871828, B0019ZLIXS: 0.4024930305473424, B0019ZDHVY: 0.13641665236492628, B00657VOJS: 0.09791423863637994}, A72RXN480OQDG: {B0017PPWCI: 0.6826520386686661, B00020BQGK: 0.3122682298067463}, A784Z89OI1WO3: {B000Y91SUI: 0.6039860613652207, B000PHCEM0: 0.18471083622077933, B009IS73I2: 0.00278140077984379}, A7ISHY27N60OF: {B01303V38Q: 0.9538776850981905, B000AZ546U: 0.22528928959782257, B000LJNJOE: 0.05752503646247609}, A7SQ6OHPBB57: {B00DVIEJ14: 0.7746741248833614, B00ENF272C: 0.6937280929240707, B00DR98RPG: 0.6908288893014752, B003Y49R7G: 0.2913574734855149, B004Y960MU: 0.012053805313920196}, A89Z6QDQND21B: {B000N2VP3Q: 0.9737862654728038, B002ULILIK: 0.9139457480491143, B011J3GJ4W: 0.879521272337966, B005B8LZ14: 0.1950239602970123, B000RP82F8: 0.12085220131767016}, A8A7B3BYN4TG4: {B0142PHFVU: 0.7894845112360301, B01B5KO0D6: 0.5656968400561787, B00J0GMMP6: 0.5647620705601003, B00YQBAFX6: 0.3781906936870434, B015I1CZUI: 0.23398341318199323}, A8DCZN408QYKC: {B0053PYF62: 0.4991129367901618, B00C4TRA2Q: 0.4416508159729986, B001HETINI: 0.4181605168966238, B0025ZHI1W: 0.2496081779800985}, A8GOHIGG8AAJN: {B000K7GREQ: 0.9696671671653379, B000K7M37G: 0.5838348217607214, B00MGGTZ48: 0.5370888547334925}, A8M1343CUIVLQ: {B005B8LZ14: 0.9146331842960048, B0002EQU6C: 0.844511578129536, B00004RH8I: 0.006847897877018672}, A8P79EDHA8OYH: {B0075E9T2Y: 0.693001534953178, B0019N7X48: 0.5674128371788515, B004RV4SFG: 0.5039592102349503, B000P49BX8: 0.10172550175921025, B00HSR0TL8: 0.000474266981592919}, A8R3VAR7CKZSP: {B00096SJ1W: 0.7461255495184048, B00AWYBIH8: 0.23715159260040586}, A8R5CDYU6V5JB: {B00176D49U: 0.9945313424464091, B000EJUBBU: 0.5713169255623441, B00T6YZ0K6: 0.29065755860820386, B00SX3T2LO: 0.15406003664686718}, A8S0VNMJNYXZG: {B000FMWU42: 0.6446282162625898, B005MKGQGA: 0.3668528275988119, B000PDO3NM: 0.17861380225710388}, A922VQKDQ6JH0: {B0006IX85K: 0.9768308669968685, B00D0XJCV2: 0.6098881656548444, B000BPK76G: 0.424896531420627}, A9DIYBDBJDOJ: {B00DVBSNPY: 0.950015048463928, B0011X2GOI: 0.5033947095722263, B0118UX732: 0.4601962391214778, B005TLUV8Q: 0.38407414448131916, B002WJHEJ2: 0.1486296662221266}, A9K96NWZI6ZKY: {B005HIJCB8: 0.2509163491625397, B000FPAN2K: 0.21530808994486061, B000BOB8P6: 0.10242205122775327}, A9X2MLWQOALBW: {B0146RKJRQ: 0.9339898995064917, B000UKUHXK: 0.74693893851998, B000KKVL6C: 0.7203137461055759}, AA1951H3SLZR8: {B01ATL97U8: 0.6617416017630154, B001ULCB1O: 0.5044031474858728, B0001GAYRC: 0.49302352487105083}, AA2I8ESTM23EE: {B004X2JBPQ: 0.8041187622416794, B002P6A3BS: 0.6835063190751416, B003WRMO5W: 0.4497191646946762, B000FH2Y9S: 0.36376132744711553}, AAOWD0S7XCO72: {B00Z6ISDK0: 0.4320665509359374, B00QQ5Q3BI: 0.4311215439787559, B01CFJGHCI: 0.1912551344873814, B000MN1PLI: 0.07655550173861847, B00INRZKY8: 0.06607253772002797}, AB3CEQ75PDINT: {B007S91ND4: 0.8659112771996983, B00004YMDG: 0.5012636759357879, B00004RHAO: 0.49980414322988387, B00962CQNC: 0.49912429637701594}, AB918Z9OQIEAQ: {B000FZ2UOY: 0.3949566389486534, B00OJYN3OS: 0.28665443388236167, B000FN0YJY: 0.17306428956953623, B003GSL1V0: 0.07776858986865043}, ABKDQK75WKTNU: {B002BBD6X4: 0.9549624618189535, B00DVOVGW8: 0.7936842078351992, B00IEVE4MC: 0.7902015211876602, B001AQEZ2W: 0.525707367482078, B001F0K4NW: 0.056818012704789256}, ABMN74TBW5UWE: {B00T6YZ0K6: 0.7155921854353262, B003Y49R7G: 0.6557661173338805, B00837ZGRY: 0.22853312260759373}, ABOTG2TOJ62FC: {B00J0GPC80: 0.9099077372488441, B00MEZDRPO: 0.8721249639661897, B003Y49R7G: 0.8564837283307147, B0002EQU6C: 0.5138536468030985, B002BBD6X4: 0.3194522041740774}, ABU4LUKJU2QOY: {B005W17HYY: 0.42631077689498265, B000LJNJOY: 0.30364223135995283, B000SR134C: 0.08009424763088868}, ABYNW1ESQAK3: {B000I24HBS: 0.914424113995939, B00DRALJ28: 0.8176263838484038, B0013BKDO8: 0.8104118112015696, B00PU0W35K: 0.23882769873954612, B01C82SYZ0: 0.013252807966777858}, AC2G0HFBLYM54: {B0051QUOO0: 0.5696307504544645, B00176ETK8: 0.238720409086717}, AC2RD0JRMFLQP: {B009K6OF5G: 0.7763224523891706, B0013BKDO8: 0.35875139474748974}, ACAS46Z61GLPF: {B0013BKDO8: 0.6693988932338172}, ACKOUHHLA7WNA: {B0018ACR6G: 0.9462294702847955, B0000DCZ9V: 0.8842196531515056, B0043F779K: 0.804605109838312, B005317ZMC: 0.22949201461075008}, AD6K7RC9J5PH4: {B00ZPSXBMQ: 0.6335169442757237, B0006IX85K: 0.0852886387379711}, ADD4QA9WBEPAU: {B00RBO75ZQ: 0.8524583691095103, B004CAN18W: 0.2786257299727597, B00DGKDOHC: 0.2705740025533203, B0000YHN9W: 0.26204293660708955, B00T9RANUC: 0.08027039738549813}, ADHGXFPNHXQ6Y: {B004DGIII8: 0.47871758693747646}, ADHSREEYABZBS: {B00DXPQIFU: 0.9072646569733034, B006UKICQS: 0.3964552244370988, B008MIRQUE: 0.16723665830359746}, ADQ073QJ0E5TK: {B00004Z4DS: 0.46188588068252456, B0098PNZLO: 0.3782714132923084, B00004RHKX: 0.17826358850674495}, AEATM4CFJCG3Y: {B000FMWU42: 0.5973777997068177, B005M3X3R2: 0.3649635382055223, B000FN1FLA: 0.28057631457721344}, AEOZD3DO89NK4: {B00VEDFAH0: 0.8774679514079788, B004H40AS2: 0.6934363044068069, B007ZUDT1K: 0.3385332132968638}, AEQ9X7B46SQS1: {B0001MSC84: 0.8969874147422033, B0077RAUTA: 0.21735141443414063}, AF57F1JUR0YRA: {B00YAR86BY: 0.9748729391317661, B00HH08TUO: 0.7185459574057527, B00DMI632G: 0.5786989441181782, B00004TBJD: 0.25974456574375837}, AF8Q1VK1V9375: {B01FFCVGBE: 0.9940894198467126, B00H4ZSGXC: 0.7784292477815393, B0156P6YVC: 0.5289140852116914, B007XRCUGK: 0.13825005895043818}, AFGQEDQMQZ0RA: {B000I5LDVC: 0.8312722635662743, B000YM9MPS: 0.29541820913918515}, AGMDNHPUXRSU6: {B0013XU2OM: 0.8198900689548424, B00004YZQP: 0.44886373913660305, B0001X21NK: 0.364757259970117}, AGOH8N902URMW: {B00011Q5QG: 0.7285667563722733, B0019ZGU1S: 0.7052441923721817, B00S88LYQK: 0.5584978349812666, B001AW0B3S: 0.25269184204764794, B001HETINI: 0.1983098718054508}, AGTZE4ISNPZKJ: {B001NDNV18: 0.3253702139598723, B0017D3RIQ: 0.13549664686212481}, AHDTKUIVU57KZ: {B0019ZLIXS: 0.5558344081602511, B015EPFKSM: 0.40273339620519266, B005QDP1XC: 0.03298697119082483}, AHF2C4BVV33A0: {B007B2AG7W: 0.860625236919324, B01CFXISVW: 0.3978755523672405, B000GASBQ4: 0.2991301841984165, B00TO7NHBY: 0.25855374996980096, B007B2AG3G: 0.15832800503316757}, AHQ0DFBXE863: {B00207CO7I: 0.894269241571631, B00MUT58Y2: 0.7913829055534918, B00IIDY49E: 0.7481791427476298, B0195UWAHG: 0.71768945147579}, AI43VKPN5NF7D: {B005K2TXMO: 0.47776176760922984, B007OSD9UO: 0.16720666975636267, B0012BA1M8: 0.1599673558595902}, AI9MQBN5DLZ9H: {B004AF204K: 0.4552012973097739, B000GFT7FI: 0.30544920493400596}, AIA2ECEDMVWA4: {B00X9H6PQO: 0.9734970364693183, B0058TX6NQ: 0.4919467307456209, B000BVZBRU: 0.3746704248756628, B000BVZBS4: 0.13814296498283496, B00004TBJD: 0.05536354034509072}, AIDSEZ9HXPHZR: {B00005202U: 0.9009930309587546, B000052030: 0.13683002220775653, B0002EQU6C: 0.062084003046286695}, AIFIR7HW14ONC: {B000E9ZKDY: 0.8428124524520223, B007FK8O56: 0.3073980504346613, B000KL3WJU: 0.24434230044000405, B00HWROLIG: 0.23122052849870411, B00T3ZRI44: 0.13335096287905746}, AJ9G2SE5KJPA8: {B0006O3TNK: 0.615822611221755, B0001GAYRC: 0.08024734040252612, B00BLQ0E4O: 0.011240049929165052}, AJBCS9M3R7Z9X: {B0023EY002: 0.7312750680687288, B00MEZEIOI: 0.5903721967051054, B000EJUBBU: 0.32861058343577776, B00GZE3UJ8: 0.30509684546939864, B00MV7T25E: 0.0770326530637584}, AJH6RWUJ0WOVO: {B00ME76OHA: 0.7226300289434215, B0006IX85K: 0.6790942181752341, B0013BKDO8: 0.04693822184477925, B01AUI4VVA: 0.03771693042851976}, AJQKRIAJV3WI8: {B00F9X9WYI: 0.8817475489287542, B00FX6ZQDM: 0.7948065261766906, B006WMRVS4: 0.6484125000365875}, AKI1KRI3LJ49M: {B00AEXKR4C: 0.9279399214117724, B00B8BZ2O4: 0.46319807618302367, B00022749Q: 0.3357686503714863}, AKLOI0AYJNIEC: {B00J0EE1D4: 0.8640261183293755, B00J0GPC80: 0.7995244784347854, B00J0GO8I0: 0.3571279651888024, B00MEZDRPO: 0.26956052142881715, B00FG7BR22: 0.2452083354883432}, AKS06WUFVMGEI: {B00E9YQQSS: 0.9741362667373147, B000H5R5M4: 0.7278874172974971, B00R73MC1S: 0.5819642547557035, B002AMO5EI: 0.4703460999679768, B007Y7FWXC: 0.2648878757120251}, AKVKGHXC0IFXX: {B0043570IS: 0.7392755294613286, B000P8VTNY: 0.464591299209539, B0052P2GIC: 0.19038136822022633, B0052P1QBU: 0.01749050232716487}, AKX9EQ37PAYMY: {B000ZTEPWU: 0.48096092427228954, B001PTGBRQ: 0.33598268481775595, B0025PLFU2: 0.3050809844206491, B000NG622Q: 0.22814368046349154}, ALFJNW2ZDPCM: {B00K7003B4: 0.6111677055589992, B00FDXIGWS: 0.47641967859928713, B007B2AA0K: 0.28258222823421464, B00V334SME: 0.26821735057000506}, AM44PJKDQAIQM: {B000DZF750: 0.7836625599686103, B003BZRIBK: 0.47634989291286167, B00947BQ08: 0.19474858487661062}, AMGU4X3XARTFQ: {B0000YHN9W: 0.8107947132063331}, AMMYSK6O8AG6D: {B00R73MC1S: 0.9601089020075415, B005Z4RGDU: 0.8976563654644364, B00MEDFF7E: 0.834167329257785, B00MMYDAQI: 0.44109072257531357, B0000YHN9W: 0.05482358295266909}, AN0VQC2Q4V4TG: {B000ILJZN4: 0.9434279296502572, B000067S12: 0.5628113547053715, B005UUQNQA: 0.5487634525288188, B0070YYOX8: 0.4149180764291981, B000ILG0TQ: 0.12122986323933505}, AN3Z1ZU5BCKQR: {B006L2RU6S: 0.7695783923511786, B001A16TRG: 0.6871908277487269, B006EGAIII: 0.2040467491605138}, ANL7LKX0BEVK4: {B00191IZB0: 0.9393134028267193, B0061OT1A4: 0.6564511271215374, B0018RUGA8: 0.5770365239090468, B001AEDI0E: 0.4676970528896848}, ANNTVZCUBH291: {B0013D20M4: 0.6292265800036574}, AO6U7AVUYDT15: {B00002ND4I: 0.2204693228066117, B0011YY9YM: 0.16964730836002162}, AP1W4AXZPI4KE: {B00GQNN70A: 0.9741539285002273, B00SD6F6FC: 0.905066392509779, B019SXN2M2: 0.6796655438208995}, APPXIBRUKD0F: {B000HBM80M: 0.5527970696009329, B01CNGUW4M: 0.4741794945079273, B004HKITWU: 0.4443437319952749}, AQ0CMGO1B30DR: {B001QRZ31C: 0.8673672498109101, B00JA3BMDW: 0.7990061060761333, B003ZZUJFS: 0.5724466420006624}, AQBQRBZQK0674: {B016UKOHFW: 0.8260568903876592, B00DFSF9GE: 0.7488516639707221, B005T8QLCY: 0.5226042328801189, B01FF8ZMYA: 0.42117960705051893, B00EFOQEUM: 0.16784829087038977}, AQEQTMV5NBBP1: {B006XGK05A: 0.830251482841857, B00WE1FQ8Y: 0.6581715257047303, B00HFQPT08: 0.5216483971702494, B00MIBRFTI: 0.12677608301900067, B00INL0BTS: 0.06869581977360872}, AQRTJPV5WA8HQ: {B0013CM0KW: 0.4385759808338522}, AR4R0I0ISSUJ5: {B00002ND4I: 0.8037747828273948, B00S730YWG: 0.5655997260776157, B00AWK04IQ: 0.4730141678632822, B0017D3RIQ: 0.14898561433920499, B00004RHKW: 0.12086335118998126}, ARGM5AC7IW99F: {B0017JHYV6: 0.6496280255020443}, ARPDVBJWAW9E7: {B0007LDJ9Q: 0.955178047261933, B000H9FW16: 0.6713633756585893, B0040X3WPI: 0.5683444865824514, B000NDHGEM: 0.5277489374128727, B000H9JG7C: 0.3698671049980431}, AS44QEHT3KSPK: {B00081NG2K: 0.48209475822978054, B008PEMNJY: 0.409274095273105, B00ARTK9FA: 0.38369176777556735}, ASSDIYXA7OU9H: {B00DRALJ28: 0.5183473246659538, B0016UT8X8: 0.27610763996653265}, ASSUN7SUKC7XT: {B00N9OU6J4: 0.9818518057947668, B00ME7FA7U: 0.8369718520542894, B01AUI4VVA: 0.7426092832162856, B00I8NM6JO: 0.5648659341316391}, ASVFOPVPHYXKK: {B002BBGTK6: 0.5016854516091339, B00MEZEEJ2: 0.27193741096797375, B00ED150S4: 0.26571161543957433, B002BBICBK: 0.20621202513813686, B017AR5QBS: 0.17235409548345193}, AT1SQD2RNUSCQ: {B006PKKXM4: 0.9563248553455018, B0050RJ9OQ: 0.8835646717175609, B000OLCD9Q: 0.8392903928372312, B00N41EYJA: 0.5242045417074319, B007GDXA60: 0.167071345578658}, AT9PJHO9NMIYX: {B0006IX85K: 0.6470499327952844, B001R4CMEA: 0.5713286109319298, B0060L4IXI: 0.15857541350962823, B00002ND44: 0.021539238320153475}, ATMB8KQVJSHZW: {B0051IBBUE: 0.841784239967558, B005Z4RGDU: 0.5946220601069303, B0051IBDKW: 0.24511799146246616}, ATP5ULQH0D8XM: {B00TBQMH6O: 0.912304060060381, B00LKL2E0W: 0.4527988104962908, B00L0ZTNSO: 0.32843754565494576, B00HSEWYT6: 0.19084699688215845}, ATV5CZJFAOS6L: {B00EQI9K9O: 0.8766439856589178, B008VIHFSI: 0.7245811583758808, B00IB0U9TS: 0.048722669444180244}, AU2QC1ERMDL7Q: {B00HH08TUO: 0.6650682564198411, B000MVZ020: 0.2990358012800879, B00EUGCT22: 0.1863645205249016, B00535HMQM: 0.16701619527903777, B0075E9T2Y: 0.15679864574231073}, AU9G03JVEXTNQ: {B001CDTZYQ: 0.6903522537932101, B00TDBVW7W: 0.6528658118040124, B00837ZGRY: 0.3044877104844431, B00CF49M9E: 0.2342350059082533, B00NC5S6OM: 0.22523940067696513}, AUL5LCV4TT73P: {B00TO7NHBY: 0.7265327515823314, B000BN9IH2: 0.6576006727716359, B0002FUOR2: 0.5777113744772863, B0000223SK: 0.3915627263542145, B01E7G1AU6: 0.23568852802514106}, AV49NHRBK8XWH: {B009XUAA4Y: 0.9002245431198794, B004UQVQ0I: 0.8699726499397944, B00IG46NL2: 0.6660264259631382, B00INL0BTS: 0.25545584851962766}, AV82KTNO14HS2: {B00657P0MA: 0.854348857321232, B00AWS3QV0: 0.7441729901003042, B018Y3K2H0: 0.6760646514781493}, AVKOTZD5ZIOX5: {B00COGNWXA: 0.7113373729741018, B00C0Q5O94: 0.38088135025475534, B002YPHSIG: 0.19654142495944948, B0079SLYGU: 0.09522690179800541, B005MN8FPW: 0.029427653663470887}, AVW3IT0BK3YDO: {B0041T4U4S: 0.9499775054937337, B00N4L5N4A: 0.9227670723519455, B00MQSCZF2: 0.5490794405851595, B000EJUBBU: 0.4475858363999665}, AWAQHG79S86S7: {B009ITFXDI: 0.8232251952299503, B010MSTVZO: 0.7220522631002324, B00THZKC8Y: 0.35173497156013234}, AWK0BPMWTT67Q: {B005H8MWOW: 0.9676081325157916, B00EZ89A54: 0.9259641945718493, B00COGPZFS: 0.8525179973860972, B005TZJ0AM: 0.5095128020647233, B0053PYDQO: 0.34927985331601397}, AWMGL3RCE477P: {B000FIDTYG: 0.813663965489978, B004QPHMRO: 0.791024249065005, B00F9X9WYI: 0.6794876519666124}, AWY1FU43ABMGR: {B0075E9NN4: 0.9989179058136304, B01E76H4QU: 0.8013585041124216, B006U4E9F2: 0.3891784418104268, B006VCGSP2: 0.3500926518346391}, AXDWCTWW1BJJD: {B00E8JRD22: 0.7652027400103096, B00CEK2TNU: 0.5084353656760748, B00E8JRNU4: 0.34202032140812666, B000F4OYMQ: 0.20906877086437192, B00FOUYGUQ: 0.1238317787172808}, AXW082NDRMZ3F: {B0060FGA8A: 0.774708230721924, B005TZJ0AM: 0.43735676208432517, B00GZ6GK7A: 0.24314762421082126, B00H7KTRO6: 0.15919067006404275, B016Q6T7Q4: 0.14639071052854347}, AXZ9WWGLC99TM: {B00FYGEFYM: 0.9896725082389596, B004Y3QHZ6: 0.7227662673661341, B00DRUWPM6: 0.2550719487480019}, AY1TADMMM7KW0: {B018QHQSB8: 0.7966891986290577, B017KUC6XQ: 0.7620006867162854, B00S298KJO: 0.5207091980748535, B000UV6ZPS: 0.5096815082491427, B00GYT5WL8: 0.2378439336340611}, AYBSL792IEGHB: {B00YT12Q08: 0.8166865428861921, B00YSOZFQI: 0.5857179431698936, B00QRR292C: 0.5455457168980036, B00YSP7AJ2: 0.28690067368892247}, AYGR1ZVHKUEY8: {B00M87WG78: 0.9431329412584006, B00DRALJ28: 0.7761512141597234, B00CR8ZRE2: 0.7755239755378642, B0114AERBM: 0.7383037438661187, B0013BKDO8: 0.7330162768679054}, AYQTCN95JY375: {B0000DD1PF: 0.7714940266829394, B0040FG9DI: 0.07530737664862286, B0024NKHL8: 0.02295055383026967}, AYWAAHK6I21PK: {B0061OT1A4: 0.8490458409766353, B00UWBJM0Q: 0.4725033647070628, B00I8NM6JO: 0.4360848944108977}, AZ17GJH23XXZZ: {B01FL49VZE: 0.5856527156004433, B00MV7T25E: 0.48224510348219085, B01ERDWSFU: 0.4634688478926854, B00OZJMX1Q: 0.27118038646802045, B005T8OTPA: 0.2479722498231488}, AZHTIR117G2SY: {B00004YMDF: 0.9671607351141198, B000ROQK3A: 0.6124541002749179, B00004YMDG: 0.03977231659811431}, AZHZ5230XUMBJ: {B001DSKBXE: 0.7906208175705838, B003ZATW42: 0.5266250195679073, B000LDHBP8: 0.39923752826568826, B003H3P7OG: 0.24195833071213058, B0017DETBA: 0.17113496111113702}, AZNVTXYSVLFDA: {B00E8JPEMS: 0.6349892126926681, B007Y8UX80: 0.12876226066996221, B00E8JOT9C: 0.09087553535126314}, AZV2U6GU5QA6C: {B0032YYOFS: 0.9566566139894968, B002KNOK9W: 0.3757338711483843, B000WHPVC8: 0.03725535003310432}})"
      ]
     },
     "execution_count": 18,
     "metadata": {},
     "output_type": "execute_result"
    }
   ],
   "source": [
    "run_val"
   ]
  },
  {
   "cell_type": "code",
   "execution_count": 15,
   "metadata": {},
   "outputs": [
    {
     "data": {
      "text/plain": [
       "(512, 512)"
      ]
     },
     "execution_count": 15,
     "metadata": {},
     "output_type": "execute_result"
    }
   ],
   "source": [
    "len(qrels_val), len(run_val)"
   ]
  },
  {
   "cell_type": "code",
   "execution_count": 12,
   "metadata": {},
   "outputs": [
    {
     "data": {
      "text/plain": [
       "512"
      ]
     },
     "execution_count": 12,
     "metadata": {},
     "output_type": "execute_result"
    }
   ],
   "source": [
    "len(run_val.scores[\"recall@5\"])"
   ]
  },
  {
   "cell_type": "code",
   "execution_count": 106,
   "metadata": {},
   "outputs": [
    {
     "data": {
      "text/plain": [
       "{'recall@5': np.float64(0.007292616226071103),\n",
       " 'ndcg@5': np.float64(0.004916255536019907),\n",
       " 'mrr@5': np.float64(0.004115770282588878)}"
      ]
     },
     "execution_count": 106,
     "metadata": {},
     "output_type": "execute_result"
    }
   ],
   "source": [
    "evaluate(qrels_test, run_test, [\"recall@5\", \"ndcg@5\", \"mrr@5\"])"
   ]
  },
  {
   "cell_type": "code",
   "execution_count": 103,
   "metadata": {},
   "outputs": [
    {
     "data": {
      "text/plain": [
       "({'B0098MLBAO': 1}, {'B00E8JOCOE': 0.12017354322291207, 'B0098MLBAO': -1000.0})"
      ]
     },
     "execution_count": 103,
     "metadata": {},
     "output_type": "execute_result"
    }
   ],
   "source": [
    "qrels_test['A0096681Y127OL1H8W3U'], run_test_oracle['A0096681Y127OL1H8W3U']"
   ]
  },
  {
   "cell_type": "code",
   "execution_count": 100,
   "metadata": {},
   "outputs": [
    {
     "data": {
      "text/plain": [
       "np.float64(0.5)"
      ]
     },
     "execution_count": 100,
     "metadata": {},
     "output_type": "execute_result"
    }
   ],
   "source": [
    "run_test_oracle.scores['mrr@5']['A0096681Y127OL1H8W3U']"
   ]
  },
  {
   "cell_type": "code",
   "execution_count": 60,
   "metadata": {},
   "outputs": [
    {
     "data": {
      "text/plain": [
       "{'reviewer_id': 'A10042M3XO3NET',\n",
       " 'ptext': \"Below is a customer's purchase history on Amazon, listed in chronological order (earliest to latest). \\nEach item is represented by the following format: Title: <item title> Category: <item category> Brand: <item brand> Price: <item price>.\\nBased on this history, predict **only one** item the customer is most likely to purchase next in the same format.\\n\\n### Purchase history:\\nTitle: FiiO D3 (D03K) Digital to Analog Audio Converter With Micca 6ft Optical Toslink Cable - 192kHz/24bit Optical and Coaxial DAC. Brand: FiiO. Category: All Electronics. Price: $22.95\\nTitle: Eagle U2-51-S Red Galvanized Steel Type II Gas Safety Can with 7/8&quot; Flex Spout, 5 gallon Capacity, 13.5&quot; Height, 12.5&quot; Diameter. Brand: Eagle. Category: Amazon Home. Price: $81.49\\nTitle: Eagle F-15 HDPE 10&quot; Poly Funnel For Metal Type I Safety Cans, 4&quot; Height, 8&quot; Width, 9&quot; Length. Brand: Eagle. Category: Industrial & Scientific. Price: $4.59\\nTitle: 3M Littmann Classic III Monitoring Stethoscope, Pearl Pink Tube, 27 inch, 5633. Brand: 3M Littmann. Category: Industrial & Scientific. Price: $88.89\\nTitle: Apera Instruments AI209 PH20 Value Waterproof pH Pocket Tester, &plusmn;0.1 pH Accuracy, 0-14.0 pH Range, Complete Kit. Brand: Apera Instruments, LLC. Category: Industrial & Scientific. Price: $49.75\\n\\n### Next item:\\n\",\n",
       " 'text': \"Below is a customer's purchase history on Amazon, listed in chronological order (earliest to latest). \\nEach item is represented by the following format: Title: <item title> Category: <item category> Brand: <item brand> Price: <item price>.\\nBased on this history, predict **only one** item the customer is most likely to purchase next in the same format.\\n\\n### Purchase history:\\nTitle: FiiO D3 (D03K) Digital to Analog Audio Converter With Micca 6ft Optical Toslink Cable - 192kHz/24bit Optical and Coaxial DAC. Brand: FiiO. Category: All Electronics. Price: $22.95\\nTitle: Eagle U2-51-S Red Galvanized Steel Type II Gas Safety Can with 7/8&quot; Flex Spout, 5 gallon Capacity, 13.5&quot; Height, 12.5&quot; Diameter. Brand: Eagle. Category: Amazon Home. Price: $81.49\\nTitle: Eagle F-15 HDPE 10&quot; Poly Funnel For Metal Type I Safety Cans, 4&quot; Height, 8&quot; Width, 9&quot; Length. Brand: Eagle. Category: Industrial & Scientific. Price: $4.59\\nTitle: 3M Littmann Classic III Monitoring Stethoscope, Pearl Pink Tube, 27 inch, 5633. Brand: 3M Littmann. Category: Industrial & Scientific. Price: $88.89\\nTitle: Apera Instruments AI209 PH20 Value Waterproof pH Pocket Tester, &plusmn;0.1 pH Accuracy, 0-14.0 pH Range, Complete Kit. Brand: Apera Instruments, LLC. Category: Industrial & Scientific. Price: $49.75\\n\\n### Next item:\\nTitle: Dawson Tools DZA50 AC Line Splitter. Brand: Dawson Tools. Category: Industrial & Scientific. Price: $14.00\",\n",
       " 'seen_asins': ['B005K2TXMO',\n",
       "  'B000BQO15I',\n",
       "  'B0002YWNLS',\n",
       "  'B001HRMJ54',\n",
       "  'B01ENFOHN8'],\n",
       " 'asin': 'B00VSHBSVE',\n",
       " 'asin_text': 'Title: Dawson Tools DZA50 AC Line Splitter. Brand: Dawson Tools. Category: Industrial & Scientific. Price: $14.00'}"
      ]
     },
     "execution_count": 60,
     "metadata": {},
     "output_type": "execute_result"
    }
   ],
   "source": [
    "dataset['validation'][0]"
   ]
  },
  {
   "cell_type": "code",
   "execution_count": 66,
   "metadata": {},
   "outputs": [
    {
     "name": "stdout",
     "output_type": "stream",
     "text": [
      "['B005K2TXMO', 'B000BQO15I', 'B0002YWNLS', 'B001HRMJ54', 'B01ENFOHN8'] B00VSHBSVE\n",
      "['B005K2TXMO', 'B000BQO15I', 'B0002YWNLS', 'B001HRMJ54', 'B01ENFOHN8', 'B00VSHBSVE'] B019CY4FB4\n"
     ]
    }
   ],
   "source": [
    "# Filter the dataset to find the reviewer with the specified ID\n",
    "reviewer_data = [row for row in dataset['validation'] if row['reviewer_id'] == 'A10042M3XO3NET']\n",
    "print(reviewer_data[0]['seen_asins'], reviewer_data[0]['asin']) \n",
    "\n",
    "reviewer_data = [row for row in dataset['test'] if row['reviewer_id'] == 'A10042M3XO3NET']\n",
    "print(reviewer_data[0]['seen_asins'], reviewer_data[0]['asin']) \n",
    "\n"
   ]
  },
  {
   "cell_type": "code",
   "execution_count": 58,
   "metadata": {},
   "outputs": [
    {
     "data": {
      "text/plain": [
       "({'B00VSHBSVE': 1}, {'B019CY4FB4': 1})"
      ]
     },
     "execution_count": 58,
     "metadata": {},
     "output_type": "execute_result"
    }
   ],
   "source": [
    "qrels_val['A10042M3XO3NET'], qrels_test['A10042M3XO3NET']"
   ]
  },
  {
   "cell_type": "code",
   "execution_count": 50,
   "metadata": {},
   "outputs": [
    {
     "name": "stdout",
     "output_type": "stream",
     "text": [
      "Title: Herbal Choice Mari Natural Toothgel, Cinnamon &amp; Baking Soda; 3.4floz Glass. Brand: Nature's Brands. Category: Health & Personal Care. Price: $14.47\n",
      "Title: Pac-Kit by First Aid Only 25-450 Cotton Tipped Applicator with 6&quot; Wooden Shaft (Bag of 100). Brand: First Aid Only. Category: Industrial & Scientific. Price: Unknown\n",
      "Title: Litmus pH Test Strips, Universal Application (pH 1-14), 2 Packs of 100 Strips. Brand: LabRat Supplies. Category: Industrial & Scientific. Price: Unknown\n"
     ]
    }
   ],
   "source": [
    "for asin in dataset['test']['seen_asins'][0]:\n",
    "    print(asin_dict[asin])"
   ]
  },
  {
   "cell_type": "code",
   "execution_count": 51,
   "metadata": {},
   "outputs": [
    {
     "name": "stdout",
     "output_type": "stream",
     "text": [
      "Below is a customer's purchase history on Amazon, listed in chronological order (earliest to latest). \n",
      "Each item is represented by the following format: Title: <item title> Category: <item category> Brand: <item brand> Price: <item price>.\n",
      "Based on this history, predict **only one** item the customer is most likely to purchase next in the same format.\n",
      "\n",
      "### Purchase history:\n",
      "Title: Herbal Choice Mari Natural Toothgel, Cinnamon &amp; Baking Soda; 3.4floz Glass. Brand: Nature's Brands. Category: Health & Personal Care. Price: $14.47\n",
      "Title: Pac-Kit by First Aid Only 25-450 Cotton Tipped Applicator with 6&quot; Wooden Shaft (Bag of 100). Brand: First Aid Only. Category: Industrial & Scientific. Price: Unknown\n",
      "Title: Litmus pH Test Strips, Universal Application (pH 1-14), 2 Packs of 100 Strips. Brand: LabRat Supplies. Category: Industrial & Scientific. Price: Unknown\n",
      "\n",
      "### Next item:\n",
      "Title: Herbal Choice Mari Natural Toothgel, Cinnamon &amp; Baking Soda; 3.4floz Glass. Brand: Nature's Brands. Category: Health & Personal Care. Price: $14.47\n"
     ]
    }
   ],
   "source": [
    "print(dataset['test']['text'][0])"
   ]
  },
  {
   "cell_type": "code",
   "execution_count": 52,
   "metadata": {},
   "outputs": [
    {
     "name": "stdout",
     "output_type": "stream",
     "text": [
      "Below is a customer's purchase history on Amazon, listed in chronological order (earliest to latest). \n",
      "Each item is represented by the following format: Title: <item title> Category: <item category> Brand: <item brand> Price: <item price>.\n",
      "Based on this history, predict **only one** item the customer is most likely to purchase next in the same format.\n",
      "\n",
      "### Purchase history:\n",
      "Title: Herbal Choice Mari Natural Toothgel, Cinnamon &amp; Baking Soda; 3.4floz Glass. Brand: Nature's Brands. Category: Health & Personal Care. Price: $14.47\n",
      "Title: Pac-Kit by First Aid Only 25-450 Cotton Tipped Applicator with 6&quot; Wooden Shaft (Bag of 100). Brand: First Aid Only. Category: Industrial & Scientific. Price: Unknown\n",
      "Title: Litmus pH Test Strips, Universal Application (pH 1-14), 2 Packs of 100 Strips. Brand: LabRat Supplies. Category: Industrial & Scientific. Price: Unknown\n",
      "\n",
      "### Next item:\n",
      "\n"
     ]
    }
   ],
   "source": [
    "print(dataset['test']['ptext'][0])"
   ]
  },
  {
   "cell_type": "markdown",
   "metadata": {},
   "source": [
    "### Lookup based on text, llama-3.2-1B fed prompt texts"
   ]
  },
  {
   "cell_type": "code",
   "execution_count": 20,
   "metadata": {},
   "outputs": [],
   "source": [
    "import os\n",
    "import gc\n",
    "import torch\n",
    "from src.utils.project_dirs import get_hfdata_dir\n",
    "from datasets import load_from_disk\n",
    "from src.utils.generate_utils import generate_sequences\n",
    "from unsloth import FastLanguageModel\n",
    "from datasets import Dataset"
   ]
  },
  {
   "cell_type": "code",
   "execution_count": 21,
   "metadata": {},
   "outputs": [
    {
     "name": "stdout",
     "output_type": "stream",
     "text": [
      "Loaded dataset 'Amzn_scientific_2018', split 'validation' with 512 examples. Using field 'ptext'.\n"
     ]
    }
   ],
   "source": [
    "# model_name = \"unsloth/Llama-3.2-1B-bnb-4bit\"\n",
    "model_name = \"unsloth/Llama-3.2-3B-bnb-4bit\"\n",
    "dataset_name = \"Amzn_scientific_2018\"\n",
    "dataset_split = \"validation\"\n",
    "data_field = 'ptext'\n",
    "max_seq_length = 1024\n",
    "dtype = None\n",
    "load_in_4bit = True\n",
    "batch_size = 4\n",
    "num_return_sequences = 5\n",
    "max_new_tokens = 50\n",
    "temperature = 0.5\n",
    "\n",
    "dataset_path = os.path.join(get_hfdata_dir(), dataset_name)\n",
    "full_dataset = load_from_disk(dataset_path)\n",
    "full_split = full_dataset[dataset_split]\n",
    "print(f\"Loaded dataset '{dataset_name}', split '{dataset_split}' with {len(full_split)} examples. Using field '{data_field}'.\")"
   ]
  },
  {
   "cell_type": "code",
   "execution_count": 22,
   "metadata": {},
   "outputs": [
    {
     "name": "stdout",
     "output_type": "stream",
     "text": [
      "==((====))==  Unsloth 2025.2.15: Fast Llama patching. Transformers: 4.49.0.\n",
      "   \\\\   /|    GPU: NVIDIA RTX A5000. Max memory: 23.679 GB. Platform: Linux.\n",
      "O^O/ \\_/ \\    Torch: 2.6.0+cu124. CUDA: 8.6. CUDA Toolkit: 12.4. Triton: 3.2.0\n",
      "\\        /    Bfloat16 = TRUE. FA [Xformers = 0.0.29.post3. FA2 = False]\n",
      " \"-____-\"     Free Apache license: http://github.com/unslothai/unsloth\n",
      "Unsloth: Fast downloading is enabled - ignore downloading bars which are red colored!\n",
      "Processing 512 items in 128 batches.\n"
     ]
    },
    {
     "name": "stderr",
     "output_type": "stream",
     "text": [
      "Generating sequences: 100%|██████████| 128/128 [07:24<00:00,  3.47s/batch]\n"
     ]
    },
    {
     "data": {
      "text/plain": [
       "8223"
      ]
     },
     "execution_count": 22,
     "metadata": {},
     "output_type": "execute_result"
    }
   ],
   "source": [
    "model, tokenizer = FastLanguageModel.from_pretrained(\n",
    "    model_name = model_name, # Use config value\n",
    "    max_seq_length = max_seq_length,\n",
    "    dtype = dtype,\n",
    "    load_in_4bit = load_in_4bit,\n",
    "    )\n",
    "FastLanguageModel.for_inference(model)\n",
    "\n",
    "results = generate_sequences(\n",
    "        model,\n",
    "        tokenizer,\n",
    "        dataset=full_split,\n",
    "        batch_size = batch_size,\n",
    "        num_return_sequences = num_return_sequences,\n",
    "        max_new_tokens = max_new_tokens,\n",
    "        temperature = temperature,\n",
    "        field=data_field\n",
    "    )\n",
    "del model\n",
    "del tokenizer\n",
    "torch.cuda.empty_cache()\n",
    "gc.collect()"
   ]
  },
  {
   "cell_type": "code",
   "execution_count": 26,
   "metadata": {},
   "outputs": [
    {
     "data": {
      "text/plain": [
       "33"
      ]
     },
     "execution_count": 26,
     "metadata": {},
     "output_type": "execute_result"
    }
   ],
   "source": [
    "torch.cuda.empty_cache()\n",
    "gc.collect()"
   ]
  },
  {
   "cell_type": "code",
   "execution_count": 24,
   "metadata": {},
   "outputs": [
    {
     "data": {
      "text/plain": [
       "list"
      ]
     },
     "execution_count": 24,
     "metadata": {},
     "output_type": "execute_result"
    }
   ],
   "source": [
    "type(results)"
   ]
  },
  {
   "cell_type": "code",
   "execution_count": 27,
   "metadata": {},
   "outputs": [],
   "source": [
    "import json\n",
    "# with open(\"llama1B_val_no-ft.json\", \"w\") as f:\n",
    "#     json.dump(results, f, indent=2)\n",
    "\n",
    "with open(\"llama3B_val_no-ft.json\", \"w\") as f:\n",
    "    json.dump(results, f, indent=2)"
   ]
  },
  {
   "cell_type": "code",
   "execution_count": 1,
   "metadata": {},
   "outputs": [],
   "source": [
    "import json\n",
    "with open(\"llama1B_val_no-ft.json\", \"r\") as f:\n",
    "    loaded_valgen = json.load(f)"
   ]
  },
  {
   "cell_type": "code",
   "execution_count": 5,
   "metadata": {},
   "outputs": [
    {
     "data": {
      "text/plain": [
       "(list,\n",
       " {'reviewer_id': 'A10042M3XO3NET',\n",
       "  'asin': 'B00VSHBSVE',\n",
       "  'seen_asins': ['B005K2TXMO',\n",
       "   'B000BQO15I',\n",
       "   'B0002YWNLS',\n",
       "   'B001HRMJ54',\n",
       "   'B01ENFOHN8'],\n",
       "  'generated_sequences': ['Title: 3M Littmann Classic III Monitoring Stethoscope, Pearl Pink Tube, 27 inch, 5633. Brand: 3M Littmann. Category: Industrial & Scientific. Price: $88.89\\n\\n###',\n",
       "   'Title: Apera Instruments AI209 PH20 Value Waterproof pH Pocket Tester, &plusmn;0.1 pH Accuracy, 0-14.0 pH Range, Complete Kit. Brand: Apera Instruments, LLC. Category: Industrial',\n",
       "   'Title: Apera Instruments AI209 PH20 Value Waterproof pH Pocket Tester, &plusmn;0.1 pH Accuracy, 0-14.0 pH Range, Complete Kit. Brand: Apera Instruments, LLC. Category: Industrial',\n",
       "   'Title: 3M Littmann Classic III Monitoring Stethoscope, Pearl Pink Tube, 27 inch, 5633. Brand: 3M Littmann. Category: Industrial & Scientific. Price: $88.89\\n',\n",
       "   'Title: 3M Littmann Classic III Monitoring Stethoscope, Pearl Pink Tube, 27 inch, 5633. Brand: 3M Littmann. Category: Industrial & Scientific. Price: $88.89\\n\\n###']})"
      ]
     },
     "execution_count": 5,
     "metadata": {},
     "output_type": "execute_result"
    }
   ],
   "source": [
    "type(loaded_valgen), loaded_valgen[0]"
   ]
  },
  {
   "cell_type": "code",
   "execution_count": 4,
   "metadata": {},
   "outputs": [],
   "source": [
    "import pandas as pd\n",
    "scimeta = pd.read_json('scimeta_corpus.json', orient='records', lines=True)\n",
    "scimeta.columns = ['asin', 'Title', 'Brand', 'Category', 'Price'] # only the corpus asins and their metadata\n",
    "asins_compact = scimeta[['asin']].copy()\n",
    "asins_compact['nlang'] = (\n",
    "\t\"Title: \" + scimeta['Title'] + \". \" +\n",
    "\t\"Brand: \" + scimeta['Brand'] + \". \" +\n",
    "\t\"Category: \" + scimeta['Category'] + \". \" +\n",
    "\t\"Price: \" + scimeta['Price']\n",
    ")\n",
    "asin_dict = asins_compact.set_index('asin')['nlang'].to_dict()  # ASIN -> formatted text of the item\n"
   ]
  },
  {
   "cell_type": "code",
   "execution_count": 87,
   "metadata": {},
   "outputs": [],
   "source": [
    "import pandas as pd\n",
    "import bm25s\n",
    "import Stemmer\n",
    "from ranx import Qrels, Run, evaluate\n",
    "import numpy as np\n",
    "\n",
    "def get_qrels(dataset):\n",
    "    '''\n",
    "        dataset: typically validation or test\n",
    "    '''\n",
    "    qrels_dict = {}\n",
    "    for row in dataset:\n",
    "        qrels_dict[row['reviewer_id']] = {row['asin']: 1}\n",
    "    return qrels_dict\n",
    "\n",
    "# def get_rundict_llama(dataset, retriever, asins_compact:pd.DataFrame):\n",
    "#     '''\n",
    "#         dataset: typically validation or test\n",
    "#         asins_compact: has the asin and nlang column for the asin\n",
    "#         retriever: the BM25 retriever built using the nlang column, note iloc is used to get the asin\n",
    "#     '''\n",
    "#     run_dict = {}\n",
    "#     stemmer = Stemmer.Stemmer(\"english\") # TODO make configurable\n",
    "#     for row in dataset:\n",
    "#         reviewer_id = row['reviewer_id']\n",
    "#         query_tokens = bm25s.tokenize(row['generated_sequences'], stemmer=stemmer)\n",
    "#         res, scores = retriever.retrieve(query_tokens, k=1)\n",
    "#         asins = asins_compact.iloc[res.flatten()]['asin'].tolist()\n",
    "#         run_dict[reviewer_id] = {asin: score for asin, score in zip(asins, scores)}\n",
    "#     return run_dict\n",
    "\n",
    "# def get_rundict_v2_llama(loaded_valgen, retriever, num_return_sequences:int,\n",
    "#                          asins_compact:pd.DataFrame): # sped up?\n",
    "#     run_dict = {}\n",
    "#     l = len(loaded_valgen)\n",
    "#     queries_flat = [seq for row in loaded_valgen for seq in row['generated_sequences']]\n",
    "#     stemmer = Stemmer.Stemmer(\"english\")\n",
    "#     query_tokens = bm25s.tokenize(queries_flat, stemmer=stemmer)\n",
    "#     res, scores = retriever.retrieve(query_tokens, k=1)\n",
    "#     res = res.reshape((l, num_return_sequences))\n",
    "#     scores = scores.reshape((l, num_return_sequences))\n",
    "    \n",
    "#     for i in range(l):\n",
    "#         reviewer_id = loaded_valgen[i]['reviewer_id']\n",
    "#         print(res[i], type(res[i]), res[i].shape)\n",
    "#         asins = asins_compact.iloc[res[i]]['asin'].tolist()\n",
    "#         # now sort by descending order of scores and keep unique unique asins, possibly write a different function to do this and call it\n",
    "#         run_dict[reviewer_id] = {asin: score for asin, score in zip(asins, scores[i])}  # this is wrong, we may have duplicate asins and different score\n",
    "#     return run_dict\n",
    "\n",
    "def get_rundict_v2_llama(loaded_valgen, retriever, num_return_sequences: int,\n",
    "                         asins_compact: pd.DataFrame):\n",
    "    run_dict = {}\n",
    "    l = len(loaded_valgen)\n",
    "\n",
    "    # Flatten all generated queries\n",
    "    queries_flat = []\n",
    "    for row in loaded_valgen:\n",
    "        for seq in row['generated_sequences']:\n",
    "            queries_flat.append(seq)\n",
    "    \n",
    "    # Tokenize and retrieve\n",
    "    stemmer = Stemmer.Stemmer(\"english\")\n",
    "    query_tokens = bm25s.tokenize(queries_flat, stemmer=stemmer)\n",
    "    res, scores = retriever.retrieve(query_tokens, k=1)\n",
    "    print(res.shape, scores.shape)\n",
    "    # print(res.shape/num_return_sequences, l)\n",
    "    \n",
    "    # Reshape to group by reviewer\n",
    "    res = res.flatten().reshape((l, num_return_sequences))\n",
    "    scores =  scores.flatten().reshape((l, num_return_sequences))\n",
    "\n",
    "    # Helper: return unique asins sorted by score\n",
    "    def get_unique_sorted_asins(asins, scores):\n",
    "        seen = set()\n",
    "        asin_score_pairs = []\n",
    "        for asin, score in sorted(zip(asins, scores), key=lambda x: -x[1]):\n",
    "            if asin not in seen:\n",
    "                asin_score_pairs.append((asin, score))\n",
    "                seen.add(asin)\n",
    "        return dict(asin_score_pairs)\n",
    "\n",
    "    for i in range(l):\n",
    "        reviewer_id = loaded_valgen[i]['reviewer_id']\n",
    "        asin_indices = res[i]\n",
    "        asin_scores = scores[i]\n",
    "        asins = asins_compact.iloc[asin_indices]['asin'].tolist()\n",
    "        run_dict[reviewer_id] = get_unique_sorted_asins(asins, asin_scores)\n",
    "\n",
    "    return run_dict"
   ]
  },
  {
   "cell_type": "code",
   "execution_count": 96,
   "metadata": {},
   "outputs": [
    {
     "data": {
      "application/vnd.jupyter.widget-view+json": {
       "model_id": "25a807cc59fb41379c4ac391e463ce9f",
       "version_major": 2,
       "version_minor": 0
      },
      "text/plain": [
       "Split strings:   0%|          | 0/2560 [00:00<?, ?it/s]"
      ]
     },
     "metadata": {},
     "output_type": "display_data"
    },
    {
     "data": {
      "application/vnd.jupyter.widget-view+json": {
       "model_id": "d96123976d944a67b99b1ae7d1b41da0",
       "version_major": 2,
       "version_minor": 0
      },
      "text/plain": [
       "Stem Tokens:   0%|          | 0/2560 [00:00<?, ?it/s]"
      ]
     },
     "metadata": {},
     "output_type": "display_data"
    },
    {
     "data": {
      "application/vnd.jupyter.widget-view+json": {
       "model_id": "00849416dff94743813720da5ef791ea",
       "version_major": 2,
       "version_minor": 0
      },
      "text/plain": [
       "BM25S Retrieve:   0%|          | 0/2560 [00:00<?, ?it/s]"
      ]
     },
     "metadata": {},
     "output_type": "display_data"
    },
    {
     "name": "stdout",
     "output_type": "stream",
     "text": [
      "(2560, 1) (2560, 1)\n"
     ]
    }
   ],
   "source": [
    "temp = get_rundict_v2_llama(loaded_valgen, retriever, num_return_sequences=5, asins_compact=asins_compact)"
   ]
  },
  {
   "cell_type": "code",
   "execution_count": 97,
   "metadata": {},
   "outputs": [
    {
     "data": {
      "text/plain": [
       "{'B00004YMDG': np.float32(32.771355), 'B00004YMDF': np.float32(25.011835)}"
      ]
     },
     "execution_count": 97,
     "metadata": {},
     "output_type": "execute_result"
    }
   ],
   "source": [
    "temp['A10042M3XO3NET']"
   ]
  },
  {
   "cell_type": "code",
   "execution_count": 95,
   "metadata": {},
   "outputs": [
    {
     "data": {
      "text/plain": [
       "{'A10042M3XO3NET': {'B01ENFOHN8': np.float32(44.989384),\n",
       "  'B001HRMJ54': np.float32(36.296738)},\n",
       " 'A100WO06OQR8BQ': {'B0012BA1M8': np.float32(43.704254),\n",
       "  'B0076AY6J8': np.float32(24.843426)}}"
      ]
     },
     "execution_count": 95,
     "metadata": {},
     "output_type": "execute_result"
    }
   ],
   "source": [
    "temp"
   ]
  },
  {
   "cell_type": "code",
   "execution_count": 93,
   "metadata": {},
   "outputs": [
    {
     "data": {
      "text/plain": [
       "('Title: Apera Instruments AI209 PH20 Value Waterproof pH Pocket Tester, &plusmn;0.1 pH Accuracy, 0-14.0 pH Range, Complete Kit. Brand: Apera Instruments, LLC. Category: Industrial & Scientific. Price: $49.75',\n",
       " 'Title: 3M Littmann Classic III Monitoring Stethoscope, Pearl Pink Tube, 27 inch, 5633. Brand: 3M Littmann. Category: Industrial & Scientific. Price: $88.89')"
      ]
     },
     "execution_count": 93,
     "metadata": {},
     "output_type": "execute_result"
    }
   ],
   "source": [
    "asin_dict['B01ENFOHN8'], asin_dict['B001HRMJ54']"
   ]
  },
  {
   "cell_type": "code",
   "execution_count": 72,
   "metadata": {},
   "outputs": [
    {
     "data": {
      "text/plain": [
       "({'reviewer_id': 'A10042M3XO3NET',\n",
       "  'asin': 'B00VSHBSVE',\n",
       "  'seen_asins': ['B005K2TXMO',\n",
       "   'B000BQO15I',\n",
       "   'B0002YWNLS',\n",
       "   'B001HRMJ54',\n",
       "   'B01ENFOHN8'],\n",
       "  'generated_sequences': ['Title: 3M Littmann Classic III Monitoring Stethoscope, Pearl Pink Tube, 27 inch, 5633. Brand: 3M Littmann. Category: Industrial & Scientific. Price: $88.89\\n\\n###',\n",
       "   'Title: Apera Instruments AI209 PH20 Value Waterproof pH Pocket Tester, &plusmn;0.1 pH Accuracy, 0-14.0 pH Range, Complete Kit. Brand: Apera Instruments, LLC. Category: Industrial',\n",
       "   'Title: Apera Instruments AI209 PH20 Value Waterproof pH Pocket Tester, &plusmn;0.1 pH Accuracy, 0-14.0 pH Range, Complete Kit. Brand: Apera Instruments, LLC. Category: Industrial',\n",
       "   'Title: 3M Littmann Classic III Monitoring Stethoscope, Pearl Pink Tube, 27 inch, 5633. Brand: 3M Littmann. Category: Industrial & Scientific. Price: $88.89\\n',\n",
       "   'Title: 3M Littmann Classic III Monitoring Stethoscope, Pearl Pink Tube, 27 inch, 5633. Brand: 3M Littmann. Category: Industrial & Scientific. Price: $88.89\\n\\n###']},\n",
       " {'reviewer_id': 'A100WO06OQR8BQ',\n",
       "  'asin': 'B012APXT96',\n",
       "  'seen_asins': ['B0012BA1M8',\n",
       "   'B0007TYCA8',\n",
       "   'B000U08ZN4',\n",
       "   'B001F7E9VI',\n",
       "   'B003XXE0RA',\n",
       "   'B000KE4PBQ',\n",
       "   'B004SS8AMU',\n",
       "   'B000CSS8UE',\n",
       "   'B0013B1XLA',\n",
       "   'B00DIJ0W30',\n",
       "   'B000TGSPV6',\n",
       "   'B0001GAYRC',\n",
       "   'B00IGHFOUA'],\n",
       "  'generated_sequences': ['Title: 3M 100-0201 3M 3M 100-0201 3M 3M 100-0201 3M 3M 100-0201 3M 3M ',\n",
       "   '**Milwaukee 0490-22 4-Volt Lithium-Ion Screwdriver Kit. Brand: Milwaukee. Category: Tools & Home Improvement. Price: $79.95**',\n",
       "   'Title: 3M 3M 2000-2 4-Volt Lithium-Ion Screwdriver Kit. Brand: 3M. Category: Tools & Home Improvement. Price: $36.99\\nTitle: 3M',\n",
       "   'Title: Milwaukee 0490-22 4-Volt Lithium-Ion Screwdriver Kit. Brand: Milwaukee. Category: Tools & Home Improvement. Price: Unknown\\nTitle: Milwaukee 0490-22 4-Volt Lithium-I',\n",
       "   'Title: Milwaukee 0490-22 4-Volt Lithium-Ion Screwdriver Kit. Brand: Milwaukee. Category: Tools & Home Improvement. Price: $9.99\\n']})"
      ]
     },
     "execution_count": 72,
     "metadata": {},
     "output_type": "execute_result"
    }
   ],
   "source": [
    "loaded_valgen[0], loaded_valgen[1]"
   ]
  },
  {
   "cell_type": "code",
   "execution_count": null,
   "metadata": {},
   "outputs": [
    {
     "name": "stdout",
     "output_type": "stream",
     "text": [
      "Title: 3M Littmann Classic III Monitoring Stethoscope, Pearl Pink Tube, 27 inch, 5633. Brand: 3M Littmann. Category: Industrial & Scientific. Price: $88.89\n",
      "\n",
      "###\n"
     ]
    }
   ],
   "source": [
    "gens = []\n",
    "for row in loaded_valgen:\n",
    "    for gen in row['generated_sequences']:\n",
    "        gens.append(gen)"
   ]
  },
  {
   "cell_type": "code",
   "execution_count": 77,
   "metadata": {},
   "outputs": [
    {
     "name": "stdout",
     "output_type": "stream",
     "text": [
      "Title: Hoover PowerPak 1.2HP Portable Electric Cordless Vacuum Cleaner. Brand: Hoover. Category: Amazon Home. Price: $1.53\n",
      " Title: 1000pcs Male &amp; Female Insulated Wire Bullet Crimp Connector Terminal. Brand: Souked. Category: Tools & Home Improvement. Price: Unknown\n",
      "\n"
     ]
    }
   ],
   "source": [
    "queries_flat = [seq for row in loaded_valgen for seq in row['generated_sequences']]\n",
    "\n",
    "print(queries_flat[10], queries_flat[101])"
   ]
  },
  {
   "cell_type": "code",
   "execution_count": 42,
   "metadata": {},
   "outputs": [],
   "source": [
    "results_val = Dataset.from_list(loaded_valgen)\n",
    "qrels_val = Qrels(get_qrels(results_val))"
   ]
  },
  {
   "cell_type": "code",
   "execution_count": 15,
   "metadata": {},
   "outputs": [],
   "source": [
    "retriever = bm25s.BM25.load(\"amznsci_2018_index\", load_corpus=False)"
   ]
  },
  {
   "cell_type": "code",
   "execution_count": 40,
   "metadata": {},
   "outputs": [
    {
     "data": {
      "text/plain": [
       "['B001HRMJ54', 'B01ENFOHN8', 'B01ENFOHN8', 'B001HRMJ54', 'B001HRMJ54']"
      ]
     },
     "execution_count": 40,
     "metadata": {},
     "output_type": "execute_result"
    }
   ],
   "source": [
    "asins_compact.iloc[np.array([1378,5195,5195,1378,1378])]['asin'].tolist()"
   ]
  },
  {
   "cell_type": "code",
   "execution_count": 79,
   "metadata": {},
   "outputs": [
    {
     "data": {
      "text/plain": [
       "5"
      ]
     },
     "execution_count": 79,
     "metadata": {},
     "output_type": "execute_result"
    }
   ],
   "source": [
    "num_return_sequences"
   ]
  },
  {
   "cell_type": "code",
   "execution_count": 83,
   "metadata": {},
   "outputs": [
    {
     "data": {
      "application/vnd.jupyter.widget-view+json": {
       "model_id": "365fca54937d42408797dbc3b3b077b3",
       "version_major": 2,
       "version_minor": 0
      },
      "text/plain": [
       "Split strings:   0%|          | 0/2560 [00:00<?, ?it/s]"
      ]
     },
     "metadata": {},
     "output_type": "display_data"
    },
    {
     "data": {
      "application/vnd.jupyter.widget-view+json": {
       "model_id": "e99ea6864a8e42df86af57e32a09ed54",
       "version_major": 2,
       "version_minor": 0
      },
      "text/plain": [
       "Stem Tokens:   0%|          | 0/2560 [00:00<?, ?it/s]"
      ]
     },
     "metadata": {},
     "output_type": "display_data"
    },
    {
     "data": {
      "application/vnd.jupyter.widget-view+json": {
       "model_id": "89dabad2a3eb400a87a37d2d8ab32aa2",
       "version_major": 2,
       "version_minor": 0
      },
      "text/plain": [
       "BM25S Retrieve:   0%|          | 0/2560 [00:00<?, ?it/s]"
      ]
     },
     "metadata": {},
     "output_type": "display_data"
    },
    {
     "name": "stdout",
     "output_type": "stream",
     "text": [
      "(2560, 1) (2560, 1)\n"
     ]
    }
   ],
   "source": [
    "run_dict_llama = get_rundict_v2_llama(loaded_valgen, retriever, num_return_sequences, asins_compact)"
   ]
  },
  {
   "cell_type": "code",
   "execution_count": 84,
   "metadata": {},
   "outputs": [
    {
     "data": {
      "text/plain": [
       "{'B00004YMDG': np.float32(32.771355), 'B00004YMDF': np.float32(25.011835)}"
      ]
     },
     "execution_count": 84,
     "metadata": {},
     "output_type": "execute_result"
    }
   ],
   "source": [
    "run_dict_llama['A10042M3XO3NET']"
   ]
  },
  {
   "cell_type": "code",
   "execution_count": 64,
   "metadata": {},
   "outputs": [
    {
     "data": {
      "text/plain": [
       "{'reviewer_id': 'A10042M3XO3NET',\n",
       " 'asin': 'B00VSHBSVE',\n",
       " 'seen_asins': ['B005K2TXMO',\n",
       "  'B000BQO15I',\n",
       "  'B0002YWNLS',\n",
       "  'B001HRMJ54',\n",
       "  'B01ENFOHN8'],\n",
       " 'generated_sequences': ['Title: 3M Littmann Classic III Monitoring Stethoscope, Pearl Pink Tube, 27 inch, 5633. Brand: 3M Littmann. Category: Industrial & Scientific. Price: $88.89\\n\\n###',\n",
       "  'Title: Apera Instruments AI209 PH20 Value Waterproof pH Pocket Tester, &plusmn;0.1 pH Accuracy, 0-14.0 pH Range, Complete Kit. Brand: Apera Instruments, LLC. Category: Industrial',\n",
       "  'Title: Apera Instruments AI209 PH20 Value Waterproof pH Pocket Tester, &plusmn;0.1 pH Accuracy, 0-14.0 pH Range, Complete Kit. Brand: Apera Instruments, LLC. Category: Industrial',\n",
       "  'Title: 3M Littmann Classic III Monitoring Stethoscope, Pearl Pink Tube, 27 inch, 5633. Brand: 3M Littmann. Category: Industrial & Scientific. Price: $88.89\\n',\n",
       "  'Title: 3M Littmann Classic III Monitoring Stethoscope, Pearl Pink Tube, 27 inch, 5633. Brand: 3M Littmann. Category: Industrial & Scientific. Price: $88.89\\n\\n###']}"
      ]
     },
     "execution_count": 64,
     "metadata": {},
     "output_type": "execute_result"
    }
   ],
   "source": [
    "loaded_valgen[0]"
   ]
  },
  {
   "cell_type": "code",
   "execution_count": null,
   "metadata": {},
   "outputs": [
    {
     "name": "stdout",
     "output_type": "stream",
     "text": [
      "B00004YMDG Title: DEWALT DW4902 1-Inch by 1/4-Inch High Performance Carbon Knot Wire End Brush, 0.020-Inch Wire. Brand: DEWALT. Category: Tools & Home Improvement. Price: $5.00\n",
      "B00004YMDF Title: DEWALT DW4901 1-Inch Crimped End Wire Brush. Brand: DEWALT. Category: Tools & Home Improvement. Price: $5.95\n"
     ]
    }
   ],
   "source": [
    "for asins in run_dict_llama['A10042M3XO3NET']: # some bug??\n",
    "    print(asins, asin_dict[asins])"
   ]
  },
  {
   "cell_type": "code",
   "execution_count": 85,
   "metadata": {},
   "outputs": [
    {
     "data": {
      "application/vnd.jupyter.widget-view+json": {
       "model_id": "568c47f7b92e4383a0865e9952dcafb6",
       "version_major": 2,
       "version_minor": 0
      },
      "text/plain": [
       "Split strings:   0%|          | 0/5 [00:00<?, ?it/s]"
      ]
     },
     "metadata": {},
     "output_type": "display_data"
    },
    {
     "data": {
      "application/vnd.jupyter.widget-view+json": {
       "model_id": "ec84391d99aa4a7cb6695152a1992d64",
       "version_major": 2,
       "version_minor": 0
      },
      "text/plain": [
       "Stem Tokens:   0%|          | 0/5 [00:00<?, ?it/s]"
      ]
     },
     "metadata": {},
     "output_type": "display_data"
    },
    {
     "data": {
      "application/vnd.jupyter.widget-view+json": {
       "model_id": "a4ae25d8ac46438096cdd820c500717d",
       "version_major": 2,
       "version_minor": 0
      },
      "text/plain": [
       "BM25S Retrieve:   0%|          | 0/5 [00:00<?, ?it/s]"
      ]
     },
     "metadata": {},
     "output_type": "display_data"
    },
    {
     "name": "stdout",
     "output_type": "stream",
     "text": [
      "[[1378]\n",
      " [5195]\n",
      " [5195]\n",
      " [1378]\n",
      " [1378]] [[36.296738]\n",
      " [44.989384]\n",
      " [44.989384]\n",
      " [36.296738]\n",
      " [36.296738]]\n"
     ]
    }
   ],
   "source": [
    "queries = loaded_valgen[0]['generated_sequences']\n",
    "query_tokens = bm25s.tokenize(queries, stemmer=stemmer)\n",
    "docs, scores = retriever.retrieve(query_tokens, k=1)\n",
    "print(docs, scores)"
   ]
  },
  {
   "cell_type": "code",
   "execution_count": 70,
   "metadata": {},
   "outputs": [
    {
     "data": {
      "text/html": [
       "<div>\n",
       "<style scoped>\n",
       "    .dataframe tbody tr th:only-of-type {\n",
       "        vertical-align: middle;\n",
       "    }\n",
       "\n",
       "    .dataframe tbody tr th {\n",
       "        vertical-align: top;\n",
       "    }\n",
       "\n",
       "    .dataframe thead th {\n",
       "        text-align: right;\n",
       "    }\n",
       "</style>\n",
       "<table border=\"1\" class=\"dataframe\">\n",
       "  <thead>\n",
       "    <tr style=\"text-align: right;\">\n",
       "      <th></th>\n",
       "      <th>asin</th>\n",
       "      <th>nlang</th>\n",
       "    </tr>\n",
       "  </thead>\n",
       "  <tbody>\n",
       "    <tr>\n",
       "      <th>50</th>\n",
       "      <td>B00004YMDG</td>\n",
       "      <td>Title: DEWALT DW4902 1-Inch by 1/4-Inch High P...</td>\n",
       "    </tr>\n",
       "  </tbody>\n",
       "</table>\n",
       "</div>"
      ],
      "text/plain": [
       "          asin                                              nlang\n",
       "50  B00004YMDG  Title: DEWALT DW4902 1-Inch by 1/4-Inch High P..."
      ]
     },
     "execution_count": 70,
     "metadata": {},
     "output_type": "execute_result"
    }
   ],
   "source": [
    "asins_compact[asins_compact['asin'] == 'B00004YMDG']"
   ]
  },
  {
   "cell_type": "code",
   "execution_count": 69,
   "metadata": {},
   "outputs": [
    {
     "data": {
      "text/plain": [
       "asin                                            B001HRMJ54\n",
       "nlang    Title: 3M Littmann Classic III Monitoring Stet...\n",
       "Name: 1378, dtype: object"
      ]
     },
     "execution_count": 69,
     "metadata": {},
     "output_type": "execute_result"
    }
   ],
   "source": [
    "asins_compact.iloc[1378]"
   ]
  },
  {
   "cell_type": "code",
   "execution_count": null,
   "metadata": {},
   "outputs": [
    {
     "data": {
      "application/vnd.jupyter.widget-view+json": {
       "model_id": "d31b8494e4f146c0b89884afa2c76c66",
       "version_major": 2,
       "version_minor": 0
      },
      "text/plain": [
       "Split strings:   0%|          | 0/1 [00:00<?, ?it/s]"
      ]
     },
     "metadata": {},
     "output_type": "display_data"
    },
    {
     "data": {
      "application/vnd.jupyter.widget-view+json": {
       "model_id": "14d9b7bfcf374fe1aa3c692ff2e3b9ec",
       "version_major": 2,
       "version_minor": 0
      },
      "text/plain": [
       "Stem Tokens:   0%|          | 0/1 [00:00<?, ?it/s]"
      ]
     },
     "metadata": {},
     "output_type": "display_data"
    }
   ],
   "source": [
    "query =  'Title: 3M Littmann Classic III Monitoring Stethoscope, Pearl Pink Tube, 27 inch, 5633. Brand: 3M Littmann. Category: Industrial & Scientific. Price: $88.89\\n',\n"
   ]
  },
  {
   "cell_type": "code",
   "execution_count": 56,
   "metadata": {},
   "outputs": [
    {
     "data": {
      "text/plain": [
       "'Title: 3M Littmann Classic III Monitoring Stethoscope, Pearl Pink Tube, 27 inch, 5633. Brand: 3M Littmann. Category: Industrial & Scientific. Price: $88.89'"
      ]
     },
     "execution_count": 56,
     "metadata": {},
     "output_type": "execute_result"
    }
   ],
   "source": [
    "asins_compact.iloc[1378]['nlang']"
   ]
  },
  {
   "cell_type": "code",
   "execution_count": null,
   "metadata": {},
   "outputs": [
    {
     "data": {
      "text/plain": [
       "(dict,\n",
       " {'B00004YMDG': np.float32(32.771355), 'B00004YMDF': np.float32(25.011835)})"
      ]
     },
     "execution_count": 48,
     "metadata": {},
     "output_type": "execute_result"
    }
   ],
   "source": [
    "type(run_dict_llama), run_dict_llama['A10042M3XO3NET']"
   ]
  },
  {
   "cell_type": "code",
   "execution_count": 49,
   "metadata": {},
   "outputs": [
    {
     "data": {
      "text/plain": [
       "'Title: DEWALT DW4902 1-Inch by 1/4-Inch High Performance Carbon Knot Wire End Brush, 0.020-Inch Wire. Brand: DEWALT. Category: Tools & Home Improvement. Price: $5.00'"
      ]
     },
     "execution_count": 49,
     "metadata": {},
     "output_type": "execute_result"
    }
   ],
   "source": [
    "asin_dict['B00004YMDG']"
   ]
  },
  {
   "cell_type": "code",
   "execution_count": 50,
   "metadata": {},
   "outputs": [
    {
     "data": {
      "text/plain": [
       "'Title: DEWALT DW4901 1-Inch Crimped End Wire Brush. Brand: DEWALT. Category: Tools & Home Improvement. Price: $5.95'"
      ]
     },
     "execution_count": 50,
     "metadata": {},
     "output_type": "execute_result"
    }
   ],
   "source": [
    "asin_dict['B00004YMDF']"
   ]
  },
  {
   "cell_type": "code",
   "execution_count": 47,
   "metadata": {},
   "outputs": [
    {
     "data": {
      "text/plain": [
       "{'recall@5': np.float64(0.0),\n",
       " 'ndcg@5': np.float64(0.0),\n",
       " 'mrr@5': np.float64(0.0)}"
      ]
     },
     "execution_count": 47,
     "metadata": {},
     "output_type": "execute_result"
    }
   ],
   "source": [
    "evaluate(qrels_val, Run(run_dict_llama), [\"recall@5\", \"ndcg@5\", \"mrr@5\"])"
   ]
  },
  {
   "cell_type": "code",
   "execution_count": 46,
   "metadata": {},
   "outputs": [
    {
     "data": {
      "text/plain": [
       "{'B00VSHBSVE': 1}"
      ]
     },
     "execution_count": 46,
     "metadata": {},
     "output_type": "execute_result"
    }
   ],
   "source": [
    "qrels_val['A10042M3XO3NET']"
   ]
  },
  {
   "cell_type": "code",
   "execution_count": 1,
   "metadata": {},
   "outputs": [],
   "source": [
    "# run_dict_llama = get_rundict_llama(results_val, retriever, asins_compact)"
   ]
  },
  {
   "cell_type": "code",
   "execution_count": 121,
   "metadata": {},
   "outputs": [
    {
     "data": {
      "text/plain": [
       "([\"Below is a customer's purchase history on Amazon, listed in chronological order (earliest to latest). \\nEach item is represented by the following format: Title: <item title> Category: <item category> Brand: <item brand> Price: <item price>.\\nBased on this history, predict **only one** item the customer is most likely to purchase next in the same format.\\n\\n### Purchase history:\\nTitle: Herbal Choice Mari Natural Toothgel, Cinnamon &amp; Baking Soda; 3.4floz Glass. Brand: Nature's Brands. Category: Health & Personal Care. Price: $14.47\\nTitle: Pac-Kit by First Aid Only 25-450 Cotton Tipped Applicator with 6&quot; Wooden Shaft (Bag of 100). Brand: First Aid Only. Category: Industrial & Scientific. Price: Unknown\\nTitle: Litmus pH Test Strips, Universal Application (pH 1-14), 2 Packs of 100 Strips. Brand: LabRat Supplies. Category: Industrial & Scientific. Price: Unknown\\n\\n### Next item:\\n\",\n",
       "  \"Below is a customer's purchase history on Amazon, listed in chronological order (earliest to latest). \\nEach item is represented by the following format: Title: <item title> Category: <item category> Brand: <item brand> Price: <item price>.\\nBased on this history, predict **only one** item the customer is most likely to purchase next in the same format.\\n\\n### Purchase history:\\nTitle: 18-8 Stainless Steel Flat Washer, Plain Finish, Meets DIN 125, M3 Hole Size, 3.2mm ID, 7mm OD, 0.5mm Nominal Thickness (Pack of 100). Brand: Small Parts. Category: Industrial & Scientific. Price: $2.00\\nTitle: Steel Lock Nut, Plain Finish, Gray (Pack of 100). Brand: Small Parts. Category: Industrial & Scientific. Price: $7.63\\nTitle: Steel Socket Cap Screw, Black Oxide, Plain Finish, Internal Hex Drive, Meets DIN 912, 12mm Length, Fully Threaded, M3-0.5 Metric Coarse Threads (Pack of 100). Brand: Small Parts. Category: Industrial & Scientific. Price: $11.95\\nTitle: SEOH 5 Pack Glass Borosilicate Graduated Beakers 50 100 250 600 and 1000ml. Brand: SEOH. Category: Industrial & Scientific. Price: Unknown\\n\\n### Next item:\\n\",\n",
       "  \"Below is a customer's purchase history on Amazon, listed in chronological order (earliest to latest). \\nEach item is represented by the following format: Title: <item title> Category: <item category> Brand: <item brand> Price: <item price>.\\nBased on this history, predict **only one** item the customer is most likely to purchase next in the same format.\\n\\n### Purchase history:\\nTitle: Non-GMO Project Verified Citric Acid - 1 Pound - Organic, 100% Pure - Alpha Chemicals. Brand: Alpha Chemicals. Category: Industrial & Scientific. Price: $7.89\\nTitle: Vacuum Pump - 12V. Brand: Karlsson Robotics. Category: Industrial & Scientific. Price: $20.95\\nTitle: Teenitor 3ML Plastic Transfer Pipettes Eye Dropper Pack of 150 - Essential Oils Pipettes Dropper Makeup Tool. Brand: Teenitor. Category: Industrial & Scientific. Price: $7.50\\nTitle: Lightobject ETC-JLD612-A Dual Display PID Temperature Controller. Brand: Lightobject. Category: Industrial & Scientific. Price: $32.50\\nTitle: Watts SVGE10 Pre-Cut 3/8-Inch Diameter by 1/4-Inch Clear Vinyl Tubing, 10-Foot Length. Brand: Watts. Category: Tools & Home Improvement. Price: $6.99\\nTitle: Pyrex 1003-250CN Heavy Duty Griffin 1003 250mL Beaker Double Scale Grad, Glass. Brand: Pyrex. Category: Industrial & Scientific. Price: $19.16\\nTitle: PYREX Heavy Duty Griffin 1003 600mL Beaker Double Scale Graduated; Each. Brand: Pyrex. Category: Industrial & Scientific. Price: Unknown\\nTitle: PYREX Heavy Duty Griffin 1003 400mL Beaker Double Scale Graduated; Each. Brand: Pyrex. Category: Industrial & Scientific. Price: $23.99\\n\\n### Next item:\\n\",\n",
       "  \"Below is a customer's purchase history on Amazon, listed in chronological order (earliest to latest). \\nEach item is represented by the following format: Title: <item title> Category: <item category> Brand: <item brand> Price: <item price>.\\nBased on this history, predict **only one** item the customer is most likely to purchase next in the same format.\\n\\n### Purchase history:\\nTitle: HICTOP Prusa I3 3D Desktop Printer, DIY High Accuracy CNC Self-Assembly Tridimensional. Brand: HICTOP. Category: Industrial & Scientific. Price: Unknown\\nTitle: HATCHBOX PLA 3D Printer Filament, Dimensional Accuracy +/- 0.03 mm, 1 kg Spool, 1.75 mm, Transparent Red. Brand: HATCHBOX. Category: Industrial & Scientific. Price: Unknown\\nTitle: HATCHBOX ABS 3D Printer Filament, Dimensional Accuracy +/- 0.03 mm, 1 kg Spool, 1.75 mm, Black. Brand: HATCHBOX. Category: Industrial & Scientific. Price: $19.99\\nTitle: Tear-Aid Repair Type B Vinyl Kit. Brand: Tear-Aid Repair. Category: Sports & Outdoors. Price: $7.46 - $54.45\\nTitle: 3mm and 5mm LED Lights Emitting Diodes Assortment Set Kit for Arduino Bright White Red Blue Green Yellow, 300-Pack. Brand: CO RODE. Category: Tools & Home Improvement. Price: $9.99\\nTitle: Inland 1.75mm White PLA 3D Printer Filament - 1kg Spool (2.2 lbs). Brand: Inland. Category: Industrial & Scientific. Price: $16.99\\n\\n### Next item:\\n\"],\n",
       " ['A0096681Y127OL1H8W3U',\n",
       "  'A0196552RI15HI7JB9PW',\n",
       "  'A0289048PRWFY7ZXQKCD',\n",
       "  'A0455940O5EUXQDU46QL'],\n",
       " ['B0098MLBAO', 'B00JKV1GU8', 'B000RB32QQ', 'B01FL49VZE'])"
      ]
     },
     "execution_count": 121,
     "metadata": {},
     "output_type": "execute_result"
    }
   ],
   "source": [
    "dataset['test'][:4]['ptext'], dataset['test'][:4]['reviewer_id'], dataset['test'][:4]['asin']"
   ]
  },
  {
   "cell_type": "code",
   "execution_count": 4,
   "metadata": {},
   "outputs": [
    {
     "data": {
      "application/vnd.jupyter.widget-view+json": {
       "model_id": "3482ac00aed642f8adbc0cd09dbc288f",
       "version_major": 2,
       "version_minor": 0
      },
      "text/plain": [
       "Split strings:   0%|          | 0/5326 [00:00<?, ?it/s]"
      ]
     },
     "metadata": {},
     "output_type": "display_data"
    },
    {
     "data": {
      "application/vnd.jupyter.widget-view+json": {
       "model_id": "2fe714a9b3784566b88646dd66266536",
       "version_major": 2,
       "version_minor": 0
      },
      "text/plain": [
       "BM25S Count Tokens:   0%|          | 0/5326 [00:00<?, ?it/s]"
      ]
     },
     "metadata": {},
     "output_type": "display_data"
    },
    {
     "data": {
      "application/vnd.jupyter.widget-view+json": {
       "model_id": "b43d9308f74d428bb3c9b407428439ba",
       "version_major": 2,
       "version_minor": 0
      },
      "text/plain": [
       "BM25S Compute Scores:   0%|          | 0/5326 [00:00<?, ?it/s]"
      ]
     },
     "metadata": {},
     "output_type": "display_data"
    },
    {
     "data": {
      "application/vnd.jupyter.widget-view+json": {
       "model_id": "977c4ccb104d47be941e198c6e8674df",
       "version_major": 2,
       "version_minor": 0
      },
      "text/plain": [
       "Finding newlines for mmindex:   0%|          | 0.00/965k [00:00<?, ?B/s]"
      ]
     },
     "metadata": {},
     "output_type": "display_data"
    }
   ],
   "source": [
    "import bm25s\n",
    "import Stemmer\n",
    "# Create your corpus here\n",
    "corpus = asins_compact['nlang'].tolist()\n",
    "# optional: create a stemmer\n",
    "stemmer = Stemmer.Stemmer(\"english\")\n",
    "\n",
    "# Tokenize the corpus and only keep the ids (faster and saves memory)\n",
    "# corpus_tokens = bm25s.tokenize(corpus, stopwords=\"en\", stemmer=stemmer)\n",
    "corpus_tokens = bm25s.tokenize(corpus, stopwords=\"en\")\n",
    "\n",
    "# Create the BM25 model and index the corpus\n",
    "retriever = bm25s.BM25()\n",
    "retriever.index(corpus_tokens)\n",
    "\n",
    "# You can save the corpus along with the model\n",
    "retriever.save(\"amznsci_2018_index2\", corpus=corpus)\n",
    "\n",
    "# ...and load them when you need them\n",
    "import bm25s\n",
    "retriever = bm25s.BM25.load(\"amznsci_2018_index\", load_corpus=False)\n",
    "# set load_corpus=False if you don't need the corpus\n"
   ]
  },
  {
   "cell_type": "code",
   "execution_count": 16,
   "metadata": {},
   "outputs": [
    {
     "name": "stderr",
     "output_type": "stream",
     "text": [
      "WARNING:2025-04-07 21:24:41,569:jax._src.xla_bridge:967: An NVIDIA GPU may be present on this machine, but a CUDA-enabled jaxlib is not installed. Falling back to cpu.\n"
     ]
    }
   ],
   "source": [
    "import bm25s\n",
    "retriever = bm25s.BM25.load(\"amznsci_2018_index\", load_corpus=False)"
   ]
  },
  {
   "cell_type": "code",
   "execution_count": 17,
   "metadata": {},
   "outputs": [
    {
     "ename": "AttributeError",
     "evalue": "'BM25' object has no attribute 'stemmer'",
     "output_type": "error",
     "traceback": [
      "\u001b[0;31m---------------------------------------------------------------------------\u001b[0m",
      "\u001b[0;31mAttributeError\u001b[0m                            Traceback (most recent call last)",
      "Cell \u001b[0;32mIn[17], line 1\u001b[0m\n\u001b[0;32m----> 1\u001b[0m \u001b[43mretriever\u001b[49m\u001b[38;5;241;43m.\u001b[39;49m\u001b[43mstemmer\u001b[49m\n",
      "\u001b[0;31mAttributeError\u001b[0m: 'BM25' object has no attribute 'stemmer'"
     ]
    }
   ],
   "source": [
    "retriever"
   ]
  },
  {
   "cell_type": "code",
   "execution_count": 24,
   "metadata": {},
   "outputs": [
    {
     "data": {
      "application/vnd.jupyter.widget-view+json": {
       "model_id": "c7126eeb340041e6949e9eb812697e81",
       "version_major": 2,
       "version_minor": 0
      },
      "text/plain": [
       "Split strings:   0%|          | 0/4 [00:00<?, ?it/s]"
      ]
     },
     "metadata": {},
     "output_type": "display_data"
    },
    {
     "data": {
      "application/vnd.jupyter.widget-view+json": {
       "model_id": "fdfa833b7e3c4c868dbb0983318d040d",
       "version_major": 2,
       "version_minor": 0
      },
      "text/plain": [
       "Stem Tokens:   0%|          | 0/4 [00:00<?, ?it/s]"
      ]
     },
     "metadata": {},
     "output_type": "display_data"
    },
    {
     "data": {
      "application/vnd.jupyter.widget-view+json": {
       "model_id": "f14d98e719d64898af17887fd8b48b3c",
       "version_major": 2,
       "version_minor": 0
      },
      "text/plain": [
       "BM25S Retrieve:   0%|          | 0/4 [00:00<?, ?it/s]"
      ]
     },
     "metadata": {},
     "output_type": "display_data"
    },
    {
     "name": "stdout",
     "output_type": "stream",
     "text": [
      "[[  10]\n",
      " [5001]\n",
      " [   5]\n",
      " [ 101]] <class 'numpy.ndarray'>\n",
      "[[41.23096 ]\n",
      " [27.236872]\n",
      " [25.903563]\n",
      " [44.98705 ]] <class 'numpy.ndarray'>\n",
      "[[  10 5001]\n",
      " [   5  101]]\n"
     ]
    }
   ],
   "source": [
    "query = [[asins_compact['nlang'][10], asins_compact['nlang'][5001][:100]], \n",
    "         [asins_compact['nlang'][5], asins_compact['nlang'][101]]]\n",
    "\n",
    "# Flatten the nested list into a single list of strings\n",
    "flattened_query = [item for sublist in query for item in sublist]\n",
    "\n",
    "# Tokenize the flattened query\n",
    "query_tokens = bm25s.tokenize(flattened_query, stemmer=stemmer)\n",
    "\n",
    "# Get top-k results as a tuple of (doc ids, scores). Both are arrays of shape (n_queries, k).\n",
    "# To return docs instead of IDs, set the `corpus=corpus` parameter.\n",
    "results, scores = retriever.retrieve(query_tokens, k=1)\n",
    "\n",
    "print(results, type(results))\n",
    "print(scores, type(scores))\n"
   ]
  },
  {
   "cell_type": "code",
   "execution_count": 33,
   "metadata": {},
   "outputs": [
    {
     "data": {
      "text/html": [
       "<div>\n",
       "<style scoped>\n",
       "    .dataframe tbody tr th:only-of-type {\n",
       "        vertical-align: middle;\n",
       "    }\n",
       "\n",
       "    .dataframe tbody tr th {\n",
       "        vertical-align: top;\n",
       "    }\n",
       "\n",
       "    .dataframe thead th {\n",
       "        text-align: right;\n",
       "    }\n",
       "</style>\n",
       "<table border=\"1\" class=\"dataframe\">\n",
       "  <thead>\n",
       "    <tr style=\"text-align: right;\">\n",
       "      <th></th>\n",
       "      <th>asin</th>\n",
       "      <th>nlang</th>\n",
       "    </tr>\n",
       "  </thead>\n",
       "  <tbody>\n",
       "    <tr>\n",
       "      <th>10</th>\n",
       "      <td>B00002NC3K</td>\n",
       "      <td>Title: Rubbermaid Commercial Products FG263100...</td>\n",
       "    </tr>\n",
       "    <tr>\n",
       "      <th>5001</th>\n",
       "      <td>B01BHAA96G</td>\n",
       "      <td>Title: 45 count - SMALL diameter Disposable Sp...</td>\n",
       "    </tr>\n",
       "    <tr>\n",
       "      <th>5</th>\n",
       "      <td>B0000224MY</td>\n",
       "      <td>Title: Qualcraft 2601 Wall Jack, Red. Brand: Q...</td>\n",
       "    </tr>\n",
       "    <tr>\n",
       "      <th>101</th>\n",
       "      <td>B00008IHTL</td>\n",
       "      <td>Title: Starrett 25-441J Dial Indicator, 0.375&amp;...</td>\n",
       "    </tr>\n",
       "  </tbody>\n",
       "</table>\n",
       "</div>"
      ],
      "text/plain": [
       "            asin                                              nlang\n",
       "10    B00002NC3K  Title: Rubbermaid Commercial Products FG263100...\n",
       "5001  B01BHAA96G  Title: 45 count - SMALL diameter Disposable Sp...\n",
       "5     B0000224MY  Title: Qualcraft 2601 Wall Jack, Red. Brand: Q...\n",
       "101   B00008IHTL  Title: Starrett 25-441J Dial Indicator, 0.375&..."
      ]
     },
     "execution_count": 33,
     "metadata": {},
     "output_type": "execute_result"
    }
   ],
   "source": [
    "asins_compact.iloc[results.flatten()]"
   ]
  },
  {
   "cell_type": "code",
   "execution_count": 32,
   "metadata": {},
   "outputs": [
    {
     "data": {
      "text/plain": [
       "['B00002NC3K', 'B01BHAA96G', 'B0000224MY', 'B00008IHTL']"
      ]
     },
     "execution_count": 32,
     "metadata": {},
     "output_type": "execute_result"
    }
   ],
   "source": [
    "asins_compact.iloc[results.flatten()]['asin'].tolist()"
   ]
  },
  {
   "cell_type": "code",
   "execution_count": 3,
   "metadata": {},
   "outputs": [
    {
     "data": {
      "application/vnd.jupyter.widget-view+json": {
       "model_id": "bd27cecbdb714f22912f8ae85a716504",
       "version_major": 2,
       "version_minor": 0
      },
      "text/plain": [
       "config.json:   0%|          | 0.00/935 [00:00<?, ?B/s]"
      ]
     },
     "metadata": {},
     "output_type": "display_data"
    },
    {
     "name": "stderr",
     "output_type": "stream",
     "text": [
      "The `load_in_4bit` and `load_in_8bit` arguments are deprecated and will be removed in the future versions. Please, pass a `BitsAndBytesConfig` object in `quantization_config` argument instead.\n"
     ]
    },
    {
     "data": {
      "application/vnd.jupyter.widget-view+json": {
       "model_id": "adb306c6460649d6aefc3f7d03e420a3",
       "version_major": 2,
       "version_minor": 0
      },
      "text/plain": [
       "model.safetensors:   0%|          | 0.00/2.47G [00:00<?, ?B/s]"
      ]
     },
     "metadata": {},
     "output_type": "display_data"
    },
    {
     "data": {
      "application/vnd.jupyter.widget-view+json": {
       "model_id": "1583bed4fad84a60bd4badd28b698176",
       "version_major": 2,
       "version_minor": 0
      },
      "text/plain": [
       "generation_config.json:   0%|          | 0.00/230 [00:00<?, ?B/s]"
      ]
     },
     "metadata": {},
     "output_type": "display_data"
    },
    {
     "data": {
      "application/vnd.jupyter.widget-view+json": {
       "model_id": "7f72ebf7618d4a10a61fd1cfe66ec814",
       "version_major": 2,
       "version_minor": 0
      },
      "text/plain": [
       "tokenizer_config.json:   0%|          | 0.00/50.6k [00:00<?, ?B/s]"
      ]
     },
     "metadata": {},
     "output_type": "display_data"
    },
    {
     "data": {
      "application/vnd.jupyter.widget-view+json": {
       "model_id": "dacc248cca84465db0920acb46a938ca",
       "version_major": 2,
       "version_minor": 0
      },
      "text/plain": [
       "tokenizer.json:   0%|          | 0.00/17.2M [00:00<?, ?B/s]"
      ]
     },
     "metadata": {},
     "output_type": "display_data"
    },
    {
     "data": {
      "application/vnd.jupyter.widget-view+json": {
       "model_id": "49eea1e59d7443399cf96f23b9f02f5b",
       "version_major": 2,
       "version_minor": 0
      },
      "text/plain": [
       "special_tokens_map.json:   0%|          | 0.00/459 [00:00<?, ?B/s]"
      ]
     },
     "metadata": {},
     "output_type": "display_data"
    }
   ],
   "source": [
    "from transformers import AutoModelForCausalLM, AutoTokenizer\n",
    "\n",
    "model = AutoModelForCausalLM.from_pretrained(\n",
    "    \"unsloth/Llama-3.2-1B\",\n",
    "    device_map=\"auto\",\n",
    "    load_in_4bit=True,  # if you have bitsandbytes installed\n",
    ")\n",
    "tokenizer = AutoTokenizer.from_pretrained(\"unsloth/Llama-3.2-1B\")"
   ]
  },
  {
   "cell_type": "code",
   "execution_count": null,
   "metadata": {},
   "outputs": [],
   "source": []
  }
 ],
 "metadata": {
  "kernelspec": {
   "display_name": "Python 3",
   "language": "python",
   "name": "python3"
  },
  "language_info": {
   "codemirror_mode": {
    "name": "ipython",
    "version": 3
   },
   "file_extension": ".py",
   "mimetype": "text/x-python",
   "name": "python",
   "nbconvert_exporter": "python",
   "pygments_lexer": "ipython3",
   "version": "3.10.16"
  }
 },
 "nbformat": 4,
 "nbformat_minor": 2
}
